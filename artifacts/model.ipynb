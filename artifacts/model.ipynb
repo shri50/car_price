{
 "cells": [
  {
   "cell_type": "raw",
   "id": "c374f87e",
   "metadata": {},
   "source": [
    "Step 1: Problem Statement \n",
    "\n",
    "Predict Price for used vehicle [car ]"
   ]
  },
  {
   "cell_type": "raw",
   "id": "426896d9",
   "metadata": {},
   "source": [
    "Step 2:data Gathering  "
   ]
  },
  {
   "cell_type": "code",
   "execution_count": null,
   "id": "af44aff5-a3b7-43aa-a4ef-ae1deb33b872",
   "metadata": {},
   "outputs": [],
   "source": []
  },
  {
   "cell_type": "code",
   "execution_count": 3,
   "id": "e5361987-55e0-4251-b1a2-999f120422c9",
   "metadata": {},
   "outputs": [],
   "source": [
    "import numpy as np\n",
    "import pandas as pd\n"
   ]
  },
  {
   "cell_type": "code",
   "execution_count": 4,
   "id": "8ec683e0-a013-49d2-9e20-a411c9e12cf6",
   "metadata": {},
   "outputs": [
    {
     "data": {
      "text/html": [
       "<div>\n",
       "<style scoped>\n",
       "    .dataframe tbody tr th:only-of-type {\n",
       "        vertical-align: middle;\n",
       "    }\n",
       "\n",
       "    .dataframe tbody tr th {\n",
       "        vertical-align: top;\n",
       "    }\n",
       "\n",
       "    .dataframe thead th {\n",
       "        text-align: right;\n",
       "    }\n",
       "</style>\n",
       "<table border=\"1\" class=\"dataframe\">\n",
       "  <thead>\n",
       "    <tr style=\"text-align: right;\">\n",
       "      <th></th>\n",
       "      <th>full_name</th>\n",
       "      <th>selling_price</th>\n",
       "      <th>new_price</th>\n",
       "      <th>year</th>\n",
       "      <th>seller_type</th>\n",
       "      <th>km_driven</th>\n",
       "      <th>owner_type</th>\n",
       "      <th>fuel_type</th>\n",
       "      <th>transmission_type</th>\n",
       "      <th>mileage</th>\n",
       "      <th>engine</th>\n",
       "      <th>max_power</th>\n",
       "      <th>seats</th>\n",
       "    </tr>\n",
       "  </thead>\n",
       "  <tbody>\n",
       "    <tr>\n",
       "      <th>0</th>\n",
       "      <td>Maruti Alto Std</td>\n",
       "      <td>1.2 Lakh*</td>\n",
       "      <td>NaN</td>\n",
       "      <td>2012</td>\n",
       "      <td>Individual</td>\n",
       "      <td>1,20,000 kms</td>\n",
       "      <td>First Owner</td>\n",
       "      <td>Petrol</td>\n",
       "      <td>Manual</td>\n",
       "      <td>Mileage19.7 kmpl</td>\n",
       "      <td>Engine796 CC</td>\n",
       "      <td>Max Power46.3 bhp</td>\n",
       "      <td>Seats5</td>\n",
       "    </tr>\n",
       "    <tr>\n",
       "      <th>1</th>\n",
       "      <td>Hyundai Grand i10 Asta</td>\n",
       "      <td>5.5 Lakh*</td>\n",
       "      <td>New Car (On-Road Price) : Rs.7.11-7.48 Lakh*</td>\n",
       "      <td>2016</td>\n",
       "      <td>Individual</td>\n",
       "      <td>20,000 kms</td>\n",
       "      <td>First Owner</td>\n",
       "      <td>Petrol</td>\n",
       "      <td>Manual</td>\n",
       "      <td>Mileage18.9 kmpl</td>\n",
       "      <td>Engine1197 CC</td>\n",
       "      <td>Max Power82 bhp</td>\n",
       "      <td>Seats5</td>\n",
       "    </tr>\n",
       "    <tr>\n",
       "      <th>2</th>\n",
       "      <td>Hyundai i20 Asta</td>\n",
       "      <td>2.15 Lakh*</td>\n",
       "      <td>NaN</td>\n",
       "      <td>2010</td>\n",
       "      <td>Individual</td>\n",
       "      <td>60,000 kms</td>\n",
       "      <td>First Owner</td>\n",
       "      <td>Petrol</td>\n",
       "      <td>Manual</td>\n",
       "      <td>Mileage17.0 kmpl</td>\n",
       "      <td>Engine1197 CC</td>\n",
       "      <td>Max Power80 bhp</td>\n",
       "      <td>Seats5</td>\n",
       "    </tr>\n",
       "    <tr>\n",
       "      <th>3</th>\n",
       "      <td>Maruti Alto K10 2010-2014 VXI</td>\n",
       "      <td>2.26 Lakh*</td>\n",
       "      <td>NaN</td>\n",
       "      <td>2012</td>\n",
       "      <td>Individual</td>\n",
       "      <td>37,000 kms</td>\n",
       "      <td>First Owner</td>\n",
       "      <td>Petrol</td>\n",
       "      <td>Manual</td>\n",
       "      <td>Mileage20.92 kmpl</td>\n",
       "      <td>Engine998 CC</td>\n",
       "      <td>Max Power67.1 bhp</td>\n",
       "      <td>Seats5</td>\n",
       "    </tr>\n",
       "    <tr>\n",
       "      <th>4</th>\n",
       "      <td>Ford Ecosport 2015-2021 1.5 TDCi Titanium BSIV</td>\n",
       "      <td>5.7 Lakh*</td>\n",
       "      <td>New Car (On-Road Price) : Rs.10.14-13.79 Lakh*</td>\n",
       "      <td>2015</td>\n",
       "      <td>Dealer</td>\n",
       "      <td>30,000 kms</td>\n",
       "      <td>First Owner</td>\n",
       "      <td>Diesel</td>\n",
       "      <td>Manual</td>\n",
       "      <td>Mileage22.77 kmpl</td>\n",
       "      <td>Engine1498 CC</td>\n",
       "      <td>Max Power98.59 bhp</td>\n",
       "      <td>Seats5</td>\n",
       "    </tr>\n",
       "    <tr>\n",
       "      <th>...</th>\n",
       "      <td>...</td>\n",
       "      <td>...</td>\n",
       "      <td>...</td>\n",
       "      <td>...</td>\n",
       "      <td>...</td>\n",
       "      <td>...</td>\n",
       "      <td>...</td>\n",
       "      <td>...</td>\n",
       "      <td>...</td>\n",
       "      <td>...</td>\n",
       "      <td>...</td>\n",
       "      <td>...</td>\n",
       "      <td>...</td>\n",
       "    </tr>\n",
       "    <tr>\n",
       "      <th>19969</th>\n",
       "      <td>Toyota Platinum Etios 1.4 GXD</td>\n",
       "      <td>6.5 Lakh*</td>\n",
       "      <td>NaN</td>\n",
       "      <td>2017</td>\n",
       "      <td>Dealer</td>\n",
       "      <td>69,480 kms</td>\n",
       "      <td>First Owner</td>\n",
       "      <td>Diesel</td>\n",
       "      <td>Manual</td>\n",
       "      <td>Mileage23.59 kmpl</td>\n",
       "      <td>Engine1364 CC</td>\n",
       "      <td>Max Power67.05 bhp</td>\n",
       "      <td>Seats5</td>\n",
       "    </tr>\n",
       "    <tr>\n",
       "      <th>19970</th>\n",
       "      <td>Maruti Ertiga BSIV VXI</td>\n",
       "      <td>9.25 Lakh*</td>\n",
       "      <td>NaN</td>\n",
       "      <td>2019</td>\n",
       "      <td>Dealer</td>\n",
       "      <td>18,000 kms</td>\n",
       "      <td>First Owner</td>\n",
       "      <td>Petrol</td>\n",
       "      <td>Manual</td>\n",
       "      <td>Mileage17.5 kmpl</td>\n",
       "      <td>Engine1373 CC</td>\n",
       "      <td>Max Power91.1 bhp</td>\n",
       "      <td>Seats7</td>\n",
       "    </tr>\n",
       "    <tr>\n",
       "      <th>19971</th>\n",
       "      <td>Skoda Rapid 1.5 TDI Elegance</td>\n",
       "      <td>4.25 Lakh*</td>\n",
       "      <td>NaN</td>\n",
       "      <td>2015</td>\n",
       "      <td>Dealer</td>\n",
       "      <td>67,000 kms</td>\n",
       "      <td>First Owner</td>\n",
       "      <td>Diesel</td>\n",
       "      <td>Manual</td>\n",
       "      <td>Mileage21.14 kmpl</td>\n",
       "      <td>Engine1498 CC</td>\n",
       "      <td>Max Power103.52 bhp</td>\n",
       "      <td>Seats5</td>\n",
       "    </tr>\n",
       "    <tr>\n",
       "      <th>19972</th>\n",
       "      <td>Mahindra XUV500 W6 2WD</td>\n",
       "      <td>12.25 Lakh*</td>\n",
       "      <td>New Car (On-Road Price) : Rs.17.83-24.91 Lakh*</td>\n",
       "      <td>2016</td>\n",
       "      <td>Dealer</td>\n",
       "      <td>38,00,000 kms</td>\n",
       "      <td>First Owner</td>\n",
       "      <td>Diesel</td>\n",
       "      <td>Manual</td>\n",
       "      <td>Mileage16.0 kmpl</td>\n",
       "      <td>Engine2179 CC</td>\n",
       "      <td>Max Power140 bhp</td>\n",
       "      <td>Seats7</td>\n",
       "    </tr>\n",
       "    <tr>\n",
       "      <th>19973</th>\n",
       "      <td>Honda City i-VTEC CVT VX</td>\n",
       "      <td>12 Lakh*</td>\n",
       "      <td>NaN</td>\n",
       "      <td>2019</td>\n",
       "      <td>Dealer</td>\n",
       "      <td>13,000 kms</td>\n",
       "      <td>First Owner</td>\n",
       "      <td>Petrol</td>\n",
       "      <td>Automatic</td>\n",
       "      <td>Mileage18.0 kmpl</td>\n",
       "      <td>Engine1497 CC</td>\n",
       "      <td>Max Power117.6 bhp</td>\n",
       "      <td>Seats5</td>\n",
       "    </tr>\n",
       "  </tbody>\n",
       "</table>\n",
       "<p>19974 rows × 13 columns</p>\n",
       "</div>"
      ],
      "text/plain": [
       "                                            full_name selling_price  \\\n",
       "0                                     Maruti Alto Std     1.2 Lakh*   \n",
       "1                              Hyundai Grand i10 Asta     5.5 Lakh*   \n",
       "2                                    Hyundai i20 Asta    2.15 Lakh*   \n",
       "3                       Maruti Alto K10 2010-2014 VXI    2.26 Lakh*   \n",
       "4      Ford Ecosport 2015-2021 1.5 TDCi Titanium BSIV     5.7 Lakh*   \n",
       "...                                               ...           ...   \n",
       "19969                   Toyota Platinum Etios 1.4 GXD     6.5 Lakh*   \n",
       "19970                          Maruti Ertiga BSIV VXI    9.25 Lakh*   \n",
       "19971                    Skoda Rapid 1.5 TDI Elegance    4.25 Lakh*   \n",
       "19972                          Mahindra XUV500 W6 2WD   12.25 Lakh*   \n",
       "19973                        Honda City i-VTEC CVT VX      12 Lakh*   \n",
       "\n",
       "                                            new_price  year seller_type  \\\n",
       "0                                                 NaN  2012  Individual   \n",
       "1        New Car (On-Road Price) : Rs.7.11-7.48 Lakh*  2016  Individual   \n",
       "2                                                 NaN  2010  Individual   \n",
       "3                                                 NaN  2012  Individual   \n",
       "4      New Car (On-Road Price) : Rs.10.14-13.79 Lakh*  2015      Dealer   \n",
       "...                                               ...   ...         ...   \n",
       "19969                                             NaN  2017      Dealer   \n",
       "19970                                             NaN  2019      Dealer   \n",
       "19971                                             NaN  2015      Dealer   \n",
       "19972  New Car (On-Road Price) : Rs.17.83-24.91 Lakh*  2016      Dealer   \n",
       "19973                                             NaN  2019      Dealer   \n",
       "\n",
       "           km_driven   owner_type fuel_type transmission_type  \\\n",
       "0       1,20,000 kms  First Owner    Petrol            Manual   \n",
       "1         20,000 kms  First Owner    Petrol            Manual   \n",
       "2         60,000 kms  First Owner    Petrol            Manual   \n",
       "3         37,000 kms  First Owner    Petrol            Manual   \n",
       "4         30,000 kms  First Owner    Diesel            Manual   \n",
       "...              ...          ...       ...               ...   \n",
       "19969     69,480 kms  First Owner    Diesel            Manual   \n",
       "19970     18,000 kms  First Owner    Petrol            Manual   \n",
       "19971     67,000 kms  First Owner    Diesel            Manual   \n",
       "19972  38,00,000 kms  First Owner    Diesel            Manual   \n",
       "19973     13,000 kms  First Owner    Petrol         Automatic   \n",
       "\n",
       "                 mileage         engine            max_power   seats  \n",
       "0       Mileage19.7 kmpl   Engine796 CC    Max Power46.3 bhp  Seats5  \n",
       "1       Mileage18.9 kmpl  Engine1197 CC      Max Power82 bhp  Seats5  \n",
       "2       Mileage17.0 kmpl  Engine1197 CC      Max Power80 bhp  Seats5  \n",
       "3      Mileage20.92 kmpl   Engine998 CC    Max Power67.1 bhp  Seats5  \n",
       "4      Mileage22.77 kmpl  Engine1498 CC   Max Power98.59 bhp  Seats5  \n",
       "...                  ...            ...                  ...     ...  \n",
       "19969  Mileage23.59 kmpl  Engine1364 CC   Max Power67.05 bhp  Seats5  \n",
       "19970   Mileage17.5 kmpl  Engine1373 CC    Max Power91.1 bhp  Seats7  \n",
       "19971  Mileage21.14 kmpl  Engine1498 CC  Max Power103.52 bhp  Seats5  \n",
       "19972   Mileage16.0 kmpl  Engine2179 CC     Max Power140 bhp  Seats7  \n",
       "19973   Mileage18.0 kmpl  Engine1497 CC   Max Power117.6 bhp  Seats5  \n",
       "\n",
       "[19974 rows x 13 columns]"
      ]
     },
     "execution_count": 4,
     "metadata": {},
     "output_type": "execute_result"
    }
   ],
   "source": [
    "df = pd.read_csv('car.csv')\n",
    "df"
   ]
  },
  {
   "cell_type": "markdown",
   "id": "a5320a63-140a-4ed0-84c8-c9aba2b1a74b",
   "metadata": {},
   "source": [
    "### Step 3: EDA"
   ]
  },
  {
   "cell_type": "code",
   "execution_count": 5,
   "id": "d492d7c6-53fd-4f28-bca1-cfc1af7c68c6",
   "metadata": {},
   "outputs": [
    {
     "name": "stdout",
     "output_type": "stream",
     "text": [
      "<class 'pandas.core.frame.DataFrame'>\n",
      "RangeIndex: 19974 entries, 0 to 19973\n",
      "Data columns (total 13 columns):\n",
      " #   Column             Non-Null Count  Dtype \n",
      "---  ------             --------------  ----- \n",
      " 0   full_name          19974 non-null  object\n",
      " 1   selling_price      19974 non-null  object\n",
      " 2   new_price          9564 non-null   object\n",
      " 3   year               19974 non-null  int64 \n",
      " 4   seller_type        19974 non-null  object\n",
      " 5   km_driven          19974 non-null  object\n",
      " 6   owner_type         19974 non-null  object\n",
      " 7   fuel_type          19974 non-null  object\n",
      " 8   transmission_type  19974 non-null  object\n",
      " 9   mileage            19814 non-null  object\n",
      " 10  engine             19864 non-null  object\n",
      " 11  max_power          19637 non-null  object\n",
      " 12  seats              19887 non-null  object\n",
      "dtypes: int64(1), object(12)\n",
      "memory usage: 2.0+ MB\n"
     ]
    }
   ],
   "source": [
    "df.info()"
   ]
  },
  {
   "cell_type": "code",
   "execution_count": 6,
   "id": "be58c266-970a-46cb-ae52-0b0873a39ddd",
   "metadata": {},
   "outputs": [
    {
     "data": {
      "text/plain": [
       "full_name                0\n",
       "selling_price            0\n",
       "new_price            10410\n",
       "year                     0\n",
       "seller_type              0\n",
       "km_driven                0\n",
       "owner_type               0\n",
       "fuel_type                0\n",
       "transmission_type        0\n",
       "mileage                160\n",
       "engine                 110\n",
       "max_power              337\n",
       "seats                   87\n",
       "dtype: int64"
      ]
     },
     "execution_count": 6,
     "metadata": {},
     "output_type": "execute_result"
    }
   ],
   "source": [
    "df.isna().sum()"
   ]
  },
  {
   "cell_type": "code",
   "execution_count": 7,
   "id": "b2bc7d80-6def-4e8b-8a8d-94352771e0b6",
   "metadata": {},
   "outputs": [
    {
     "data": {
      "text/plain": [
       "full_name             0.000000\n",
       "selling_price         0.000000\n",
       "new_price            52.117753\n",
       "year                  0.000000\n",
       "seller_type           0.000000\n",
       "km_driven             0.000000\n",
       "owner_type            0.000000\n",
       "fuel_type             0.000000\n",
       "transmission_type     0.000000\n",
       "mileage               0.801041\n",
       "engine                0.550716\n",
       "max_power             1.687193\n",
       "seats                 0.435566\n",
       "dtype: float64"
      ]
     },
     "execution_count": 7,
     "metadata": {},
     "output_type": "execute_result"
    }
   ],
   "source": [
    "df.isna().mean()*100"
   ]
  },
  {
   "cell_type": "markdown",
   "id": "9392a9d1-eb1e-4056-bc6d-071d61871f58",
   "metadata": {},
   "source": [
    "### Step 4: Feature Engineering"
   ]
  },
  {
   "cell_type": "code",
   "execution_count": 8,
   "id": "60fdf992-3d80-415c-8a96-79af941af69b",
   "metadata": {},
   "outputs": [
    {
     "data": {
      "text/plain": [
       "19954                      Tata Zest Quadrajet 1.3 XMS\n",
       "19955    Toyota Innova Crysta 2016-2020 2.8 ZX AT BSIV\n",
       "19956                          Maruti Alto 800 CNG LXI\n",
       "19957                     Renault KWID Climber 1.0 AMT\n",
       "19958                              Maruti Alto 800 VXI\n",
       "19959                             Maruti Swift AMT VXI\n",
       "19960                            Honda BRV i-VTEC V MT\n",
       "19961                             Honda Amaze E i-DTEC\n",
       "19962                           Hyundai Santro Xing GL\n",
       "19963                            Renault KWID RXL BSIV\n",
       "19964              Mercedes-Benz M-Class ML 350 4Matic\n",
       "19965                           Maruti Ertiga ZDI Plus\n",
       "19966                         Hyundai Grand i10 Sportz\n",
       "19967                            Hyundai i10 Magna 1.1\n",
       "19968                                Maruti A Star Vxi\n",
       "19969                    Toyota Platinum Etios 1.4 GXD\n",
       "19970                           Maruti Ertiga BSIV VXI\n",
       "19971                     Skoda Rapid 1.5 TDI Elegance\n",
       "19972                           Mahindra XUV500 W6 2WD\n",
       "19973                         Honda City i-VTEC CVT VX\n",
       "Name: full_name, dtype: object"
      ]
     },
     "execution_count": 8,
     "metadata": {},
     "output_type": "execute_result"
    }
   ],
   "source": [
    "df['full_name'].tail(20)"
   ]
  },
  {
   "cell_type": "code",
   "execution_count": 9,
   "id": "82fef61c-6c29-419a-9699-262140f6b0ea",
   "metadata": {},
   "outputs": [
    {
     "data": {
      "text/plain": [
       "'Maruti'"
      ]
     },
     "execution_count": 9,
     "metadata": {},
     "output_type": "execute_result"
    }
   ],
   "source": [
    "var = df['full_name'][0]\n",
    "var = var.split(\" \")\n",
    "var[0]"
   ]
  },
  {
   "cell_type": "code",
   "execution_count": 12,
   "id": "8751c11d-a954-4905-8d41-7d750d7723fd",
   "metadata": {},
   "outputs": [
    {
     "data": {
      "text/plain": [
       "274"
      ]
     },
     "execution_count": 12,
     "metadata": {},
     "output_type": "execute_result"
    }
   ],
   "source": [
    "brand_name = []\n",
    "model_name = []\n",
    "for value in df['full_name']:\n",
    "    var = value.split(\" \")\n",
    "    brand_name.append(var[0])\n",
    "    model_name.append(var[1])\n",
    "    \n",
    "df['brand_name'] = brand_name\n",
    "df.head()\n",
    "s1 = pd.Series(model_name)\n",
    "s1.nunique()\n"
   ]
  },
  {
   "cell_type": "code",
   "execution_count": 13,
   "id": "21571e07-a8e5-47a9-9b24-ce3da270fe5a",
   "metadata": {},
   "outputs": [
    {
     "data": {
      "text/plain": [
       "Maruti           28.276760\n",
       "Hyundai          18.248723\n",
       "Honda             8.916592\n",
       "Mahindra          6.463402\n",
       "Toyota            6.032843\n",
       "Tata              4.881346\n",
       "Ford              4.545910\n",
       "Volkswagen        3.814959\n",
       "Renault           3.184139\n",
       "Mercedes-Benz     2.508261\n",
       "BMW               2.418144\n",
       "Skoda             2.107740\n",
       "Chevrolet         2.032642\n",
       "Audi              1.622109\n",
       "Nissan            1.446881\n",
       "Datsun            0.851106\n",
       "Fiat              0.570742\n",
       "Jaguar            0.400521\n",
       "Land              0.280364\n",
       "Jeep              0.225293\n",
       "Volvo             0.215280\n",
       "Mitsubishi        0.195254\n",
       "Kia               0.165215\n",
       "Porsche           0.130169\n",
       "Mini              0.110143\n",
       "MG                0.100130\n",
       "Isuzu             0.050065\n",
       "Lexus             0.050065\n",
       "Force             0.025033\n",
       "Bentley           0.020026\n",
       "Ambassador        0.020026\n",
       "OpelCorsa         0.015020\n",
       "ISUZU             0.010013\n",
       "DC                0.010013\n",
       "Maserati          0.010013\n",
       "Daewoo            0.010013\n",
       "Premier           0.010013\n",
       "Lamborghini       0.005007\n",
       "Ferrari           0.005007\n",
       "Mercedes-AMG      0.005007\n",
       "Rolls-Royce       0.005007\n",
       "Opel              0.005007\n",
       "Name: brand_name, dtype: float64"
      ]
     },
     "execution_count": 13,
     "metadata": {},
     "output_type": "execute_result"
    }
   ],
   "source": [
    "df['brand_name'].value_counts() / len(df) *100\n"
   ]
  },
  {
   "cell_type": "code",
   "execution_count": 14,
   "id": "3ac885f1-e349-4bd7-989b-f9e680217dc9",
   "metadata": {},
   "outputs": [
    {
     "data": {
      "text/plain": [
       "42"
      ]
     },
     "execution_count": 14,
     "metadata": {},
     "output_type": "execute_result"
    }
   ],
   "source": [
    "df['brand_name'].nunique()\n"
   ]
  },
  {
   "cell_type": "code",
   "execution_count": 15,
   "id": "6967c666-e70d-4c78-869f-aa1e7767c901",
   "metadata": {},
   "outputs": [
    {
     "data": {
      "text/plain": [
       "210"
      ]
     },
     "execution_count": 15,
     "metadata": {},
     "output_type": "execute_result"
    }
   ],
   "source": [
    "42 * 5"
   ]
  },
  {
   "cell_type": "code",
   "execution_count": 16,
   "id": "b65fe3f2-05a2-4720-b251-468f42a95326",
   "metadata": {},
   "outputs": [
    {
     "data": {
      "text/plain": [
       "Index(['full_name', 'selling_price', 'new_price', 'year', 'seller_type',\n",
       "       'km_driven', 'owner_type', 'fuel_type', 'transmission_type', 'mileage',\n",
       "       'engine', 'max_power', 'seats', 'brand_name'],\n",
       "      dtype='object')"
      ]
     },
     "execution_count": 16,
     "metadata": {},
     "output_type": "execute_result"
    }
   ],
   "source": [
    "df.columns"
   ]
  },
  {
   "cell_type": "markdown",
   "id": "6dd7982e-4cfe-4106-a771-2f78143a9b3b",
   "metadata": {},
   "source": [
    "### selling_price"
   ]
  },
  {
   "cell_type": "code",
   "execution_count": 17,
   "id": "d2c9d2a2-dd59-4f4a-96be-8421116b6d28",
   "metadata": {},
   "outputs": [
    {
     "data": {
      "text/plain": [
       "Index(['full_name', 'selling_price', 'new_price', 'year', 'seller_type',\n",
       "       'km_driven', 'owner_type', 'fuel_type', 'transmission_type', 'mileage',\n",
       "       'engine', 'max_power', 'seats', 'brand_name_Ambassador',\n",
       "       'brand_name_Audi', 'brand_name_BMW', 'brand_name_Bentley',\n",
       "       'brand_name_Chevrolet', 'brand_name_DC', 'brand_name_Daewoo',\n",
       "       'brand_name_Datsun', 'brand_name_Ferrari', 'brand_name_Fiat',\n",
       "       'brand_name_Force', 'brand_name_Ford', 'brand_name_Honda',\n",
       "       'brand_name_Hyundai', 'brand_name_ISUZU', 'brand_name_Isuzu',\n",
       "       'brand_name_Jaguar', 'brand_name_Jeep', 'brand_name_Kia',\n",
       "       'brand_name_Lamborghini', 'brand_name_Land', 'brand_name_Lexus',\n",
       "       'brand_name_MG', 'brand_name_Mahindra', 'brand_name_Maruti',\n",
       "       'brand_name_Maserati', 'brand_name_Mercedes-AMG',\n",
       "       'brand_name_Mercedes-Benz', 'brand_name_Mini', 'brand_name_Mitsubishi',\n",
       "       'brand_name_Nissan', 'brand_name_Opel', 'brand_name_OpelCorsa',\n",
       "       'brand_name_Porsche', 'brand_name_Premier', 'brand_name_Renault',\n",
       "       'brand_name_Rolls-Royce', 'brand_name_Skoda', 'brand_name_Tata',\n",
       "       'brand_name_Toyota', 'brand_name_Volkswagen', 'brand_name_Volvo'],\n",
       "      dtype='object')"
      ]
     },
     "execution_count": 17,
     "metadata": {},
     "output_type": "execute_result"
    }
   ],
   "source": [
    "df = pd.get_dummies(df, columns = ['brand_name'])\n",
    "df.columns"
   ]
  },
  {
   "cell_type": "code",
   "execution_count": 18,
   "id": "bb85a0e9-a3a6-415c-bb53-123af769c05e",
   "metadata": {},
   "outputs": [
    {
     "data": {
      "text/html": [
       "<div>\n",
       "<style scoped>\n",
       "    .dataframe tbody tr th:only-of-type {\n",
       "        vertical-align: middle;\n",
       "    }\n",
       "\n",
       "    .dataframe tbody tr th {\n",
       "        vertical-align: top;\n",
       "    }\n",
       "\n",
       "    .dataframe thead th {\n",
       "        text-align: right;\n",
       "    }\n",
       "</style>\n",
       "<table border=\"1\" class=\"dataframe\">\n",
       "  <thead>\n",
       "    <tr style=\"text-align: right;\">\n",
       "      <th></th>\n",
       "      <th>0</th>\n",
       "    </tr>\n",
       "  </thead>\n",
       "  <tbody>\n",
       "    <tr>\n",
       "      <th>full_name</th>\n",
       "      <td>Maruti Alto Std</td>\n",
       "    </tr>\n",
       "    <tr>\n",
       "      <th>selling_price</th>\n",
       "      <td>1.2 Lakh*</td>\n",
       "    </tr>\n",
       "    <tr>\n",
       "      <th>new_price</th>\n",
       "      <td>NaN</td>\n",
       "    </tr>\n",
       "    <tr>\n",
       "      <th>year</th>\n",
       "      <td>2012</td>\n",
       "    </tr>\n",
       "    <tr>\n",
       "      <th>seller_type</th>\n",
       "      <td>Individual</td>\n",
       "    </tr>\n",
       "    <tr>\n",
       "      <th>km_driven</th>\n",
       "      <td>1,20,000 kms</td>\n",
       "    </tr>\n",
       "    <tr>\n",
       "      <th>owner_type</th>\n",
       "      <td>First Owner</td>\n",
       "    </tr>\n",
       "    <tr>\n",
       "      <th>fuel_type</th>\n",
       "      <td>Petrol</td>\n",
       "    </tr>\n",
       "    <tr>\n",
       "      <th>transmission_type</th>\n",
       "      <td>Manual</td>\n",
       "    </tr>\n",
       "    <tr>\n",
       "      <th>mileage</th>\n",
       "      <td>Mileage19.7 kmpl</td>\n",
       "    </tr>\n",
       "    <tr>\n",
       "      <th>engine</th>\n",
       "      <td>Engine796 CC</td>\n",
       "    </tr>\n",
       "    <tr>\n",
       "      <th>max_power</th>\n",
       "      <td>Max Power46.3 bhp</td>\n",
       "    </tr>\n",
       "    <tr>\n",
       "      <th>seats</th>\n",
       "      <td>Seats5</td>\n",
       "    </tr>\n",
       "    <tr>\n",
       "      <th>brand_name_Ambassador</th>\n",
       "      <td>0</td>\n",
       "    </tr>\n",
       "    <tr>\n",
       "      <th>brand_name_Audi</th>\n",
       "      <td>0</td>\n",
       "    </tr>\n",
       "    <tr>\n",
       "      <th>brand_name_BMW</th>\n",
       "      <td>0</td>\n",
       "    </tr>\n",
       "    <tr>\n",
       "      <th>brand_name_Bentley</th>\n",
       "      <td>0</td>\n",
       "    </tr>\n",
       "    <tr>\n",
       "      <th>brand_name_Chevrolet</th>\n",
       "      <td>0</td>\n",
       "    </tr>\n",
       "    <tr>\n",
       "      <th>brand_name_DC</th>\n",
       "      <td>0</td>\n",
       "    </tr>\n",
       "    <tr>\n",
       "      <th>brand_name_Daewoo</th>\n",
       "      <td>0</td>\n",
       "    </tr>\n",
       "    <tr>\n",
       "      <th>brand_name_Datsun</th>\n",
       "      <td>0</td>\n",
       "    </tr>\n",
       "    <tr>\n",
       "      <th>brand_name_Ferrari</th>\n",
       "      <td>0</td>\n",
       "    </tr>\n",
       "    <tr>\n",
       "      <th>brand_name_Fiat</th>\n",
       "      <td>0</td>\n",
       "    </tr>\n",
       "    <tr>\n",
       "      <th>brand_name_Force</th>\n",
       "      <td>0</td>\n",
       "    </tr>\n",
       "    <tr>\n",
       "      <th>brand_name_Ford</th>\n",
       "      <td>0</td>\n",
       "    </tr>\n",
       "    <tr>\n",
       "      <th>brand_name_Honda</th>\n",
       "      <td>0</td>\n",
       "    </tr>\n",
       "    <tr>\n",
       "      <th>brand_name_Hyundai</th>\n",
       "      <td>0</td>\n",
       "    </tr>\n",
       "    <tr>\n",
       "      <th>brand_name_ISUZU</th>\n",
       "      <td>0</td>\n",
       "    </tr>\n",
       "    <tr>\n",
       "      <th>brand_name_Isuzu</th>\n",
       "      <td>0</td>\n",
       "    </tr>\n",
       "    <tr>\n",
       "      <th>brand_name_Jaguar</th>\n",
       "      <td>0</td>\n",
       "    </tr>\n",
       "    <tr>\n",
       "      <th>brand_name_Jeep</th>\n",
       "      <td>0</td>\n",
       "    </tr>\n",
       "    <tr>\n",
       "      <th>brand_name_Kia</th>\n",
       "      <td>0</td>\n",
       "    </tr>\n",
       "    <tr>\n",
       "      <th>brand_name_Lamborghini</th>\n",
       "      <td>0</td>\n",
       "    </tr>\n",
       "    <tr>\n",
       "      <th>brand_name_Land</th>\n",
       "      <td>0</td>\n",
       "    </tr>\n",
       "    <tr>\n",
       "      <th>brand_name_Lexus</th>\n",
       "      <td>0</td>\n",
       "    </tr>\n",
       "    <tr>\n",
       "      <th>brand_name_MG</th>\n",
       "      <td>0</td>\n",
       "    </tr>\n",
       "    <tr>\n",
       "      <th>brand_name_Mahindra</th>\n",
       "      <td>0</td>\n",
       "    </tr>\n",
       "    <tr>\n",
       "      <th>brand_name_Maruti</th>\n",
       "      <td>1</td>\n",
       "    </tr>\n",
       "    <tr>\n",
       "      <th>brand_name_Maserati</th>\n",
       "      <td>0</td>\n",
       "    </tr>\n",
       "    <tr>\n",
       "      <th>brand_name_Mercedes-AMG</th>\n",
       "      <td>0</td>\n",
       "    </tr>\n",
       "    <tr>\n",
       "      <th>brand_name_Mercedes-Benz</th>\n",
       "      <td>0</td>\n",
       "    </tr>\n",
       "    <tr>\n",
       "      <th>brand_name_Mini</th>\n",
       "      <td>0</td>\n",
       "    </tr>\n",
       "    <tr>\n",
       "      <th>brand_name_Mitsubishi</th>\n",
       "      <td>0</td>\n",
       "    </tr>\n",
       "    <tr>\n",
       "      <th>brand_name_Nissan</th>\n",
       "      <td>0</td>\n",
       "    </tr>\n",
       "    <tr>\n",
       "      <th>brand_name_Opel</th>\n",
       "      <td>0</td>\n",
       "    </tr>\n",
       "    <tr>\n",
       "      <th>brand_name_OpelCorsa</th>\n",
       "      <td>0</td>\n",
       "    </tr>\n",
       "    <tr>\n",
       "      <th>brand_name_Porsche</th>\n",
       "      <td>0</td>\n",
       "    </tr>\n",
       "    <tr>\n",
       "      <th>brand_name_Premier</th>\n",
       "      <td>0</td>\n",
       "    </tr>\n",
       "    <tr>\n",
       "      <th>brand_name_Renault</th>\n",
       "      <td>0</td>\n",
       "    </tr>\n",
       "    <tr>\n",
       "      <th>brand_name_Rolls-Royce</th>\n",
       "      <td>0</td>\n",
       "    </tr>\n",
       "    <tr>\n",
       "      <th>brand_name_Skoda</th>\n",
       "      <td>0</td>\n",
       "    </tr>\n",
       "    <tr>\n",
       "      <th>brand_name_Tata</th>\n",
       "      <td>0</td>\n",
       "    </tr>\n",
       "    <tr>\n",
       "      <th>brand_name_Toyota</th>\n",
       "      <td>0</td>\n",
       "    </tr>\n",
       "    <tr>\n",
       "      <th>brand_name_Volkswagen</th>\n",
       "      <td>0</td>\n",
       "    </tr>\n",
       "    <tr>\n",
       "      <th>brand_name_Volvo</th>\n",
       "      <td>0</td>\n",
       "    </tr>\n",
       "  </tbody>\n",
       "</table>\n",
       "</div>"
      ],
      "text/plain": [
       "                                          0\n",
       "full_name                   Maruti Alto Std\n",
       "selling_price                     1.2 Lakh*\n",
       "new_price                               NaN\n",
       "year                                   2012\n",
       "seller_type                      Individual\n",
       "km_driven                      1,20,000 kms\n",
       "owner_type                      First Owner\n",
       "fuel_type                            Petrol\n",
       "transmission_type                    Manual\n",
       "mileage                    Mileage19.7 kmpl\n",
       "engine                         Engine796 CC\n",
       "max_power                 Max Power46.3 bhp\n",
       "seats                                Seats5\n",
       "brand_name_Ambassador                     0\n",
       "brand_name_Audi                           0\n",
       "brand_name_BMW                            0\n",
       "brand_name_Bentley                        0\n",
       "brand_name_Chevrolet                      0\n",
       "brand_name_DC                             0\n",
       "brand_name_Daewoo                         0\n",
       "brand_name_Datsun                         0\n",
       "brand_name_Ferrari                        0\n",
       "brand_name_Fiat                           0\n",
       "brand_name_Force                          0\n",
       "brand_name_Ford                           0\n",
       "brand_name_Honda                          0\n",
       "brand_name_Hyundai                        0\n",
       "brand_name_ISUZU                          0\n",
       "brand_name_Isuzu                          0\n",
       "brand_name_Jaguar                         0\n",
       "brand_name_Jeep                           0\n",
       "brand_name_Kia                            0\n",
       "brand_name_Lamborghini                    0\n",
       "brand_name_Land                           0\n",
       "brand_name_Lexus                          0\n",
       "brand_name_MG                             0\n",
       "brand_name_Mahindra                       0\n",
       "brand_name_Maruti                         1\n",
       "brand_name_Maserati                       0\n",
       "brand_name_Mercedes-AMG                   0\n",
       "brand_name_Mercedes-Benz                  0\n",
       "brand_name_Mini                           0\n",
       "brand_name_Mitsubishi                     0\n",
       "brand_name_Nissan                         0\n",
       "brand_name_Opel                           0\n",
       "brand_name_OpelCorsa                      0\n",
       "brand_name_Porsche                        0\n",
       "brand_name_Premier                        0\n",
       "brand_name_Renault                        0\n",
       "brand_name_Rolls-Royce                    0\n",
       "brand_name_Skoda                          0\n",
       "brand_name_Tata                           0\n",
       "brand_name_Toyota                         0\n",
       "brand_name_Volkswagen                     0\n",
       "brand_name_Volvo                          0"
      ]
     },
     "execution_count": 18,
     "metadata": {},
     "output_type": "execute_result"
    }
   ],
   "source": [
    "df.head(1).T"
   ]
  },
  {
   "cell_type": "code",
   "execution_count": 19,
   "id": "e3e45188-8eab-43e7-be89-49571e21b80b",
   "metadata": {},
   "outputs": [
    {
     "data": {
      "text/plain": [
       "0      1.2 Lakh*\n",
       "1      5.5 Lakh*\n",
       "2     2.15 Lakh*\n",
       "3     2.26 Lakh*\n",
       "4      5.7 Lakh*\n",
       "         ...    \n",
       "95    3.75 Lakh*\n",
       "96    2.25 Lakh*\n",
       "97       4 Lakh*\n",
       "98     5.5 Lakh*\n",
       "99    10.5 Lakh*\n",
       "Name: selling_price, Length: 100, dtype: object"
      ]
     },
     "execution_count": 19,
     "metadata": {},
     "output_type": "execute_result"
    }
   ],
   "source": [
    "df['selling_price'][0:100]"
   ]
  },
  {
   "cell_type": "code",
   "execution_count": 20,
   "id": "af6e3ed4-2092-4fee-96a1-1b5dacaa1782",
   "metadata": {},
   "outputs": [
    {
     "name": "stdout",
     "output_type": "stream",
     "text": [
      "75,000*\n",
      "95,000*\n",
      "71,000*\n",
      "85,000*\n",
      "95,000*\n",
      "55,000*\n",
      "Cr*\n",
      "75,000*\n",
      "62,000*\n",
      "70,000*\n",
      "85,000*\n",
      "95,000*\n",
      "95,000*\n",
      "95,000*\n",
      "78,000*\n",
      "70,000*\n",
      "80,000*\n",
      "65,000*\n",
      "75,000*\n",
      "80,000*\n",
      "80,000*\n",
      "85,000*\n",
      "90,000*\n",
      "95,585*\n",
      "80,000*\n",
      "80,000*\n",
      "Cr*\n",
      "77,000*\n",
      "95,000*\n",
      "82,608*\n",
      "42,000*\n",
      "32,500*\n",
      "95,000*\n",
      "80,000*\n",
      "85,000*\n",
      "85,000*\n",
      "40,000*\n",
      "81,000*\n",
      "50,000*\n",
      "80,000*\n",
      "Cr*\n",
      "80,000*\n",
      "95,000*\n",
      "70,000*\n",
      "34,000*\n",
      "90,000*\n",
      "65,000*\n",
      "50,000*\n",
      "95,000*\n",
      "50,000*\n",
      "85,000*\n",
      "99,000*\n",
      "60,000*\n",
      "40,000*\n",
      "40,000*\n",
      "89,000*\n",
      "95,000*\n",
      "60,000*\n",
      "70,000*\n",
      "Cr*\n",
      "Cr*\n",
      "59,000*\n",
      "95,000*\n",
      "99,000*\n",
      "89,000*\n",
      "90,000*\n",
      "95,000*\n",
      "40,000*\n",
      "90,000*\n",
      "60,000*\n",
      "60,000*\n",
      "80,000*\n",
      "90,000*\n",
      "50,000*\n",
      "Cr*\n",
      "70,000*\n",
      "45,000*\n",
      "90,000*\n",
      "90,000*\n",
      "42,000*\n",
      "35,000*\n",
      "70,000*\n",
      "50,000*\n",
      "65,000*\n",
      "60,000*\n",
      "90,000*\n",
      "80,000*\n",
      "62,000*\n",
      "50,000*\n",
      "60,000*\n",
      "45,000*\n",
      "75,000*\n",
      "70,000*\n",
      "85,000*\n",
      "35,000*\n",
      "95,000*\n",
      "56,000*\n",
      "70,000*\n",
      "60,000*\n",
      "80,000*\n",
      "80,000*\n",
      "95,000*\n",
      "80,000*\n",
      "80,000*\n",
      "95,000*\n",
      "95,000*\n",
      "82,000*\n",
      "70,000*\n",
      "45,000*\n",
      "50,000*\n",
      "85,000*\n",
      "70,000*\n",
      "80,000*\n",
      "45,000*\n",
      "90,000*\n",
      "90,000*\n",
      "75,000*\n",
      "65,000*\n",
      "45,000*\n",
      "85,000*\n",
      "95,000*\n",
      "59,000*\n",
      "53,000*\n",
      "80,000*\n",
      "45,000*\n",
      "50,000*\n",
      "95,000*\n",
      "85,000*\n",
      "50,000*\n",
      "70,000*\n",
      "85,000*\n",
      "70,000*\n",
      "80,000*\n",
      "80,000*\n",
      "87,000*\n",
      "99,111*\n",
      "40,000*\n",
      "90,000*\n",
      "85,000*\n",
      "89,000*\n",
      "85,000*\n",
      "70,000*\n",
      "25,000*\n",
      "50,000*\n",
      "85,000*\n",
      "80,000*\n",
      "35,000*\n",
      "65,000*\n",
      "70,000*\n",
      "40,000*\n",
      "41,694*\n",
      "40,000*\n",
      "45,000*\n",
      "57,000*\n",
      "90,000*\n",
      "90,000*\n",
      "80,000*\n",
      "75,000*\n",
      "55,000*\n",
      "70,000*\n",
      "80,000*\n",
      "99,000*\n",
      "80,000*\n",
      "88,000*\n",
      "80,000*\n",
      "75,000*\n",
      "95,000*\n",
      "78,000*\n",
      "50,000*\n",
      "66,000*\n",
      "60,000*\n",
      "50,000*\n",
      "99,000*\n",
      "30,000*\n",
      "90,000*\n",
      "45,000*\n",
      "94,000*\n",
      "99,000*\n",
      "97,000*\n",
      "65,000*\n",
      "85,000*\n",
      "90,000*\n",
      "75,000*\n",
      "85,000*\n",
      "65,000*\n",
      "98,000*\n",
      "80,000*\n",
      "60,000*\n",
      "46,288*\n",
      "90,000*\n",
      "96,000*\n",
      "90,000*\n",
      "80,000*\n",
      "85,000*\n",
      "Cr*\n",
      "72,308*\n",
      "99,000*\n",
      "74,000*\n",
      "50,000*\n",
      "85,000*\n",
      "95,000*\n",
      "93,750*\n",
      "90,000*\n",
      "Cr*\n",
      "70,000*\n",
      "80,000*\n",
      "88,000*\n",
      "90,000*\n",
      "90,000*\n",
      "90,000*\n",
      "70,000*\n",
      "92,000*\n",
      "78,000*\n",
      "95,000*\n",
      "90,000*\n",
      "Cr*\n",
      "95,000*\n",
      "Cr*\n",
      "Cr*\n",
      "65,000*\n",
      "60,000*\n",
      "90,000*\n",
      "80,000*\n",
      "95,000*\n",
      "82,875*\n",
      "45,946*\n",
      "45,000*\n",
      "75,000*\n",
      "50,000*\n",
      "99,000*\n",
      "35,000*\n",
      "98,000*\n",
      "40,000*\n",
      "50,000*\n",
      "65,000*\n",
      "60,000*\n",
      "80,000*\n",
      "95,000*\n",
      "75,000*\n",
      "58,000*\n",
      "90,000*\n",
      "86,250*\n",
      "89,000*\n",
      "91,000*\n",
      "90,000*\n",
      "69,000*\n",
      "50,000*\n",
      "90,000*\n",
      "80,000*\n",
      "70,000*\n",
      "55,000*\n",
      "80,000*\n",
      "45,000*\n",
      "93,000*\n",
      "95,000*\n",
      "65,000*\n",
      "70,000*\n",
      "72,000*\n",
      "65,000*\n",
      "70,000*\n",
      "60,000*\n",
      "52,000*\n",
      "90,000*\n",
      "60,000*\n",
      "95,000*\n",
      "51,000*\n",
      "80,000*\n",
      "80,000*\n",
      "75,000*\n",
      "68,000*\n",
      "50,000*\n",
      "70,000*\n",
      "65,000*\n",
      "80,000*\n",
      "74,999*\n",
      "80,000*\n",
      "50,000*\n",
      "95,000*\n"
     ]
    }
   ],
   "source": [
    "for item in df['selling_price']:\n",
    "    # print(item)\n",
    "    var = item.split(\" \")\n",
    "    # print(var[-1])\n",
    "    if var[-1] != 'Lakh*':\n",
    "        print(var[-1])\n",
    "    "
   ]
  },
  {
   "cell_type": "code",
   "execution_count": null,
   "id": "e2ce4d7e-dc0d-4266-b0ca-766d5f76a7f7",
   "metadata": {},
   "outputs": [],
   "source": []
  },
  {
   "cell_type": "code",
   "execution_count": 21,
   "id": "647a668b-1865-453d-a132-04de4c79e7d3",
   "metadata": {},
   "outputs": [
    {
     "data": {
      "text/plain": [
       "'*'"
      ]
     },
     "execution_count": 21,
     "metadata": {},
     "output_type": "execute_result"
    }
   ],
   "source": [
    "df['selling_price'][0][-1]"
   ]
  },
  {
   "cell_type": "code",
   "execution_count": 22,
   "id": "4928020d-4784-4091-a8f1-6ba3fed6fbdc",
   "metadata": {},
   "outputs": [],
   "source": [
    "# df['selling_price'].replace(r'[ a,*-zA-Z]+','',regex =True,inplace = True)"
   ]
  },
  {
   "cell_type": "code",
   "execution_count": 23,
   "id": "9aa16498-550f-4f21-9c6b-ec6b64312afa",
   "metadata": {},
   "outputs": [
    {
     "data": {
      "text/plain": [
       "1.5"
      ]
     },
     "execution_count": 23,
     "metadata": {},
     "output_type": "execute_result"
    }
   ],
   "source": [
    "1.5 \n",
    "1.5 "
   ]
  },
  {
   "cell_type": "code",
   "execution_count": 24,
   "id": "fb758a7a-18e6-4d93-89be-067e97c3192b",
   "metadata": {},
   "outputs": [
    {
     "data": {
      "text/plain": [
       "450000"
      ]
     },
     "execution_count": 24,
     "metadata": {},
     "output_type": "execute_result"
    }
   ],
   "source": [
    "var = df['selling_price'][100]\n",
    "var = var.split(\" \")\n",
    "price = int(float(var[0]) * 100000)\n",
    "price"
   ]
  },
  {
   "cell_type": "code",
   "execution_count": 25,
   "id": "8864d4aa-d442-4775-9f5e-e08fe629ac5f",
   "metadata": {},
   "outputs": [
    {
     "data": {
      "text/plain": [
       "0         120000\n",
       "1         550000\n",
       "2         215000\n",
       "3         225999\n",
       "4         570000\n",
       "          ...   \n",
       "19969     650000\n",
       "19970     925000\n",
       "19971     425000\n",
       "19972    1225000\n",
       "19973    1200000\n",
       "Length: 19974, dtype: int64"
      ]
     },
     "execution_count": 25,
     "metadata": {},
     "output_type": "execute_result"
    }
   ],
   "source": [
    "value = []\n",
    "for price in df['selling_price']:\n",
    "    var = price.split(\" \")\n",
    "    # print(var)\n",
    "    if var[-1] == 'Lakh*':\n",
    "        temp =  int(float(var[0])*100000)\n",
    "        # print(temp)\n",
    "        value.append(temp)\n",
    "        \n",
    "    elif var[-1] == 'Cr*':\n",
    "        temp =  int(float(var[0])*10000000)\n",
    "        # print(temp)\n",
    "        value.append(temp)\n",
    "        \n",
    "    else:\n",
    "        temp = var[0].replace(\",\",\"\").replace(\"*\",\"\")\n",
    "        value.append(int(float(temp)))\n",
    "value[0:10]\n",
    "s1 = pd.Series(value)\n",
    "s1\n",
    "s1.loc[s1<10000]\n",
    "\n",
    "s1"
   ]
  },
  {
   "cell_type": "code",
   "execution_count": 26,
   "id": "219193f9-5cce-460a-88d9-c59d97d11490",
   "metadata": {},
   "outputs": [
    {
     "data": {
      "text/html": [
       "<div>\n",
       "<style scoped>\n",
       "    .dataframe tbody tr th:only-of-type {\n",
       "        vertical-align: middle;\n",
       "    }\n",
       "\n",
       "    .dataframe tbody tr th {\n",
       "        vertical-align: top;\n",
       "    }\n",
       "\n",
       "    .dataframe thead th {\n",
       "        text-align: right;\n",
       "    }\n",
       "</style>\n",
       "<table border=\"1\" class=\"dataframe\">\n",
       "  <thead>\n",
       "    <tr style=\"text-align: right;\">\n",
       "      <th></th>\n",
       "      <th>full_name</th>\n",
       "      <th>selling_price</th>\n",
       "      <th>new_price</th>\n",
       "      <th>year</th>\n",
       "      <th>seller_type</th>\n",
       "      <th>km_driven</th>\n",
       "      <th>owner_type</th>\n",
       "      <th>fuel_type</th>\n",
       "      <th>transmission_type</th>\n",
       "      <th>mileage</th>\n",
       "      <th>...</th>\n",
       "      <th>brand_name_Porsche</th>\n",
       "      <th>brand_name_Premier</th>\n",
       "      <th>brand_name_Renault</th>\n",
       "      <th>brand_name_Rolls-Royce</th>\n",
       "      <th>brand_name_Skoda</th>\n",
       "      <th>brand_name_Tata</th>\n",
       "      <th>brand_name_Toyota</th>\n",
       "      <th>brand_name_Volkswagen</th>\n",
       "      <th>brand_name_Volvo</th>\n",
       "      <th>price</th>\n",
       "    </tr>\n",
       "  </thead>\n",
       "  <tbody>\n",
       "    <tr>\n",
       "      <th>0</th>\n",
       "      <td>Maruti Alto Std</td>\n",
       "      <td>1.2 Lakh*</td>\n",
       "      <td>NaN</td>\n",
       "      <td>2012</td>\n",
       "      <td>Individual</td>\n",
       "      <td>1,20,000 kms</td>\n",
       "      <td>First Owner</td>\n",
       "      <td>Petrol</td>\n",
       "      <td>Manual</td>\n",
       "      <td>Mileage19.7 kmpl</td>\n",
       "      <td>...</td>\n",
       "      <td>0</td>\n",
       "      <td>0</td>\n",
       "      <td>0</td>\n",
       "      <td>0</td>\n",
       "      <td>0</td>\n",
       "      <td>0</td>\n",
       "      <td>0</td>\n",
       "      <td>0</td>\n",
       "      <td>0</td>\n",
       "      <td>120000</td>\n",
       "    </tr>\n",
       "    <tr>\n",
       "      <th>1</th>\n",
       "      <td>Hyundai Grand i10 Asta</td>\n",
       "      <td>5.5 Lakh*</td>\n",
       "      <td>New Car (On-Road Price) : Rs.7.11-7.48 Lakh*</td>\n",
       "      <td>2016</td>\n",
       "      <td>Individual</td>\n",
       "      <td>20,000 kms</td>\n",
       "      <td>First Owner</td>\n",
       "      <td>Petrol</td>\n",
       "      <td>Manual</td>\n",
       "      <td>Mileage18.9 kmpl</td>\n",
       "      <td>...</td>\n",
       "      <td>0</td>\n",
       "      <td>0</td>\n",
       "      <td>0</td>\n",
       "      <td>0</td>\n",
       "      <td>0</td>\n",
       "      <td>0</td>\n",
       "      <td>0</td>\n",
       "      <td>0</td>\n",
       "      <td>0</td>\n",
       "      <td>550000</td>\n",
       "    </tr>\n",
       "    <tr>\n",
       "      <th>2</th>\n",
       "      <td>Hyundai i20 Asta</td>\n",
       "      <td>2.15 Lakh*</td>\n",
       "      <td>NaN</td>\n",
       "      <td>2010</td>\n",
       "      <td>Individual</td>\n",
       "      <td>60,000 kms</td>\n",
       "      <td>First Owner</td>\n",
       "      <td>Petrol</td>\n",
       "      <td>Manual</td>\n",
       "      <td>Mileage17.0 kmpl</td>\n",
       "      <td>...</td>\n",
       "      <td>0</td>\n",
       "      <td>0</td>\n",
       "      <td>0</td>\n",
       "      <td>0</td>\n",
       "      <td>0</td>\n",
       "      <td>0</td>\n",
       "      <td>0</td>\n",
       "      <td>0</td>\n",
       "      <td>0</td>\n",
       "      <td>215000</td>\n",
       "    </tr>\n",
       "    <tr>\n",
       "      <th>3</th>\n",
       "      <td>Maruti Alto K10 2010-2014 VXI</td>\n",
       "      <td>2.26 Lakh*</td>\n",
       "      <td>NaN</td>\n",
       "      <td>2012</td>\n",
       "      <td>Individual</td>\n",
       "      <td>37,000 kms</td>\n",
       "      <td>First Owner</td>\n",
       "      <td>Petrol</td>\n",
       "      <td>Manual</td>\n",
       "      <td>Mileage20.92 kmpl</td>\n",
       "      <td>...</td>\n",
       "      <td>0</td>\n",
       "      <td>0</td>\n",
       "      <td>0</td>\n",
       "      <td>0</td>\n",
       "      <td>0</td>\n",
       "      <td>0</td>\n",
       "      <td>0</td>\n",
       "      <td>0</td>\n",
       "      <td>0</td>\n",
       "      <td>225999</td>\n",
       "    </tr>\n",
       "    <tr>\n",
       "      <th>4</th>\n",
       "      <td>Ford Ecosport 2015-2021 1.5 TDCi Titanium BSIV</td>\n",
       "      <td>5.7 Lakh*</td>\n",
       "      <td>New Car (On-Road Price) : Rs.10.14-13.79 Lakh*</td>\n",
       "      <td>2015</td>\n",
       "      <td>Dealer</td>\n",
       "      <td>30,000 kms</td>\n",
       "      <td>First Owner</td>\n",
       "      <td>Diesel</td>\n",
       "      <td>Manual</td>\n",
       "      <td>Mileage22.77 kmpl</td>\n",
       "      <td>...</td>\n",
       "      <td>0</td>\n",
       "      <td>0</td>\n",
       "      <td>0</td>\n",
       "      <td>0</td>\n",
       "      <td>0</td>\n",
       "      <td>0</td>\n",
       "      <td>0</td>\n",
       "      <td>0</td>\n",
       "      <td>0</td>\n",
       "      <td>570000</td>\n",
       "    </tr>\n",
       "  </tbody>\n",
       "</table>\n",
       "<p>5 rows × 56 columns</p>\n",
       "</div>"
      ],
      "text/plain": [
       "                                        full_name selling_price  \\\n",
       "0                                 Maruti Alto Std     1.2 Lakh*   \n",
       "1                          Hyundai Grand i10 Asta     5.5 Lakh*   \n",
       "2                                Hyundai i20 Asta    2.15 Lakh*   \n",
       "3                   Maruti Alto K10 2010-2014 VXI    2.26 Lakh*   \n",
       "4  Ford Ecosport 2015-2021 1.5 TDCi Titanium BSIV     5.7 Lakh*   \n",
       "\n",
       "                                        new_price  year seller_type  \\\n",
       "0                                             NaN  2012  Individual   \n",
       "1    New Car (On-Road Price) : Rs.7.11-7.48 Lakh*  2016  Individual   \n",
       "2                                             NaN  2010  Individual   \n",
       "3                                             NaN  2012  Individual   \n",
       "4  New Car (On-Road Price) : Rs.10.14-13.79 Lakh*  2015      Dealer   \n",
       "\n",
       "      km_driven   owner_type fuel_type transmission_type            mileage  \\\n",
       "0  1,20,000 kms  First Owner    Petrol            Manual   Mileage19.7 kmpl   \n",
       "1    20,000 kms  First Owner    Petrol            Manual   Mileage18.9 kmpl   \n",
       "2    60,000 kms  First Owner    Petrol            Manual   Mileage17.0 kmpl   \n",
       "3    37,000 kms  First Owner    Petrol            Manual  Mileage20.92 kmpl   \n",
       "4    30,000 kms  First Owner    Diesel            Manual  Mileage22.77 kmpl   \n",
       "\n",
       "   ... brand_name_Porsche brand_name_Premier brand_name_Renault  \\\n",
       "0  ...                  0                  0                  0   \n",
       "1  ...                  0                  0                  0   \n",
       "2  ...                  0                  0                  0   \n",
       "3  ...                  0                  0                  0   \n",
       "4  ...                  0                  0                  0   \n",
       "\n",
       "   brand_name_Rolls-Royce  brand_name_Skoda  brand_name_Tata  \\\n",
       "0                       0                 0                0   \n",
       "1                       0                 0                0   \n",
       "2                       0                 0                0   \n",
       "3                       0                 0                0   \n",
       "4                       0                 0                0   \n",
       "\n",
       "   brand_name_Toyota  brand_name_Volkswagen  brand_name_Volvo   price  \n",
       "0                  0                      0                 0  120000  \n",
       "1                  0                      0                 0  550000  \n",
       "2                  0                      0                 0  215000  \n",
       "3                  0                      0                 0  225999  \n",
       "4                  0                      0                 0  570000  \n",
       "\n",
       "[5 rows x 56 columns]"
      ]
     },
     "execution_count": 26,
     "metadata": {},
     "output_type": "execute_result"
    }
   ],
   "source": [
    "df['price'] = s1\n",
    "df.head()"
   ]
  },
  {
   "cell_type": "code",
   "execution_count": 27,
   "id": "42391203-c134-4def-b3b9-8b35ed7e64c5",
   "metadata": {},
   "outputs": [
    {
     "data": {
      "text/plain": [
       "Index(['full_name', 'selling_price', 'new_price', 'year', 'seller_type',\n",
       "       'km_driven', 'owner_type', 'fuel_type', 'transmission_type', 'mileage',\n",
       "       'engine', 'max_power', 'seats', 'brand_name_Ambassador',\n",
       "       'brand_name_Audi', 'brand_name_BMW', 'brand_name_Bentley',\n",
       "       'brand_name_Chevrolet', 'brand_name_DC', 'brand_name_Daewoo',\n",
       "       'brand_name_Datsun', 'brand_name_Ferrari', 'brand_name_Fiat',\n",
       "       'brand_name_Force', 'brand_name_Ford', 'brand_name_Honda',\n",
       "       'brand_name_Hyundai', 'brand_name_ISUZU', 'brand_name_Isuzu',\n",
       "       'brand_name_Jaguar', 'brand_name_Jeep', 'brand_name_Kia',\n",
       "       'brand_name_Lamborghini', 'brand_name_Land', 'brand_name_Lexus',\n",
       "       'brand_name_MG', 'brand_name_Mahindra', 'brand_name_Maruti',\n",
       "       'brand_name_Maserati', 'brand_name_Mercedes-AMG',\n",
       "       'brand_name_Mercedes-Benz', 'brand_name_Mini', 'brand_name_Mitsubishi',\n",
       "       'brand_name_Nissan', 'brand_name_Opel', 'brand_name_OpelCorsa',\n",
       "       'brand_name_Porsche', 'brand_name_Premier', 'brand_name_Renault',\n",
       "       'brand_name_Rolls-Royce', 'brand_name_Skoda', 'brand_name_Tata',\n",
       "       'brand_name_Toyota', 'brand_name_Volkswagen', 'brand_name_Volvo',\n",
       "       'price'],\n",
       "      dtype='object')"
      ]
     },
     "execution_count": 27,
     "metadata": {},
     "output_type": "execute_result"
    }
   ],
   "source": [
    "df.columns"
   ]
  },
  {
   "cell_type": "code",
   "execution_count": 28,
   "id": "bea252bd-2762-4032-b62e-597d6ebf02c3",
   "metadata": {},
   "outputs": [
    {
     "data": {
      "text/plain": [
       "0        2012\n",
       "1        2016\n",
       "2        2010\n",
       "3        2012\n",
       "4        2015\n",
       "         ... \n",
       "19969    2017\n",
       "19970    2019\n",
       "19971    2015\n",
       "19972    2016\n",
       "19973    2019\n",
       "Name: year, Length: 19974, dtype: int64"
      ]
     },
     "execution_count": 28,
     "metadata": {},
     "output_type": "execute_result"
    }
   ],
   "source": [
    "df['year']"
   ]
  },
  {
   "cell_type": "code",
   "execution_count": 29,
   "id": "bf26b866-a063-44c8-a5f5-12f2197e50c9",
   "metadata": {},
   "outputs": [
    {
     "data": {
      "text/plain": [
       "Dealer              11970\n",
       "Individual           7814\n",
       "Trustmark Dealer      190\n",
       "Name: seller_type, dtype: int64"
      ]
     },
     "execution_count": 29,
     "metadata": {},
     "output_type": "execute_result"
    }
   ],
   "source": [
    "df['seller_type'].value_counts()"
   ]
  },
  {
   "cell_type": "code",
   "execution_count": 30,
   "id": "218862f8-bf4e-4235-baa2-6c1569cd5fba",
   "metadata": {},
   "outputs": [],
   "source": [
    "df = pd.get_dummies(df, columns = ['seller_type'])"
   ]
  },
  {
   "cell_type": "code",
   "execution_count": 31,
   "id": "d715487b-809e-4a72-8586-4adf4abb6703",
   "metadata": {},
   "outputs": [
    {
     "data": {
      "text/plain": [
       "0         1,20,000 kms\n",
       "1           20,000 kms\n",
       "2           60,000 kms\n",
       "3           37,000 kms\n",
       "4           30,000 kms\n",
       "             ...      \n",
       "19969       69,480 kms\n",
       "19970       18,000 kms\n",
       "19971       67,000 kms\n",
       "19972    38,00,000 kms\n",
       "19973       13,000 kms\n",
       "Name: km_driven, Length: 19974, dtype: object"
      ]
     },
     "execution_count": 31,
     "metadata": {},
     "output_type": "execute_result"
    }
   ],
   "source": [
    "df['km_driven']"
   ]
  },
  {
   "cell_type": "code",
   "execution_count": 32,
   "id": "f05e3297-de1a-458e-8fc0-ba386605bd97",
   "metadata": {},
   "outputs": [
    {
     "data": {
      "text/plain": [
       "120000"
      ]
     },
     "execution_count": 32,
     "metadata": {},
     "output_type": "execute_result"
    }
   ],
   "source": [
    "var = df['km_driven'][0]\n",
    "var = var.split(\" \")\n",
    "km = int(var[0].replace(\",\",\"\"))\n",
    "km"
   ]
  },
  {
   "cell_type": "code",
   "execution_count": 33,
   "id": "f87b0ea8-18d5-442d-809f-b95e84bc20ae",
   "metadata": {},
   "outputs": [
    {
     "data": {
      "text/plain": [
       "19974"
      ]
     },
     "execution_count": 33,
     "metadata": {},
     "output_type": "execute_result"
    }
   ],
   "source": [
    "temp_list = []\n",
    "for km in df['km_driven']:\n",
    "    var = km.split(\" \")\n",
    "    var = int(var[0].replace(\",\",\"\"))\n",
    "    temp_list.append(var)\n",
    "len(temp_list)"
   ]
  },
  {
   "cell_type": "code",
   "execution_count": 34,
   "id": "0a23b131-f938-4ed4-b9db-9132b1de511f",
   "metadata": {},
   "outputs": [],
   "source": [
    "df['km_driven'] = temp_list"
   ]
  },
  {
   "cell_type": "code",
   "execution_count": 35,
   "id": "760fa500-7ead-4e99-8e97-b0fe155f67f2",
   "metadata": {},
   "outputs": [
    {
     "data": {
      "text/plain": [
       "First Owner    19974\n",
       "Name: owner_type, dtype: int64"
      ]
     },
     "execution_count": 35,
     "metadata": {},
     "output_type": "execute_result"
    }
   ],
   "source": [
    "df['owner_type'].value_counts()"
   ]
  },
  {
   "cell_type": "code",
   "execution_count": 36,
   "id": "58bcc5cf-a6b7-4954-9705-8668b94dd0dd",
   "metadata": {},
   "outputs": [
    {
     "data": {
      "text/plain": [
       "Diesel      9815\n",
       "Petrol      9763\n",
       "CNG          316\n",
       "LPG           66\n",
       "Electric      14\n",
       "Name: fuel_type, dtype: int64"
      ]
     },
     "execution_count": 36,
     "metadata": {},
     "output_type": "execute_result"
    }
   ],
   "source": [
    "df['fuel_type'].value_counts()"
   ]
  },
  {
   "cell_type": "code",
   "execution_count": 37,
   "id": "607f3487-bd40-47c9-90ea-cd3e3e4c0526",
   "metadata": {},
   "outputs": [],
   "source": [
    "### fuel_type is nomial data hence we are doing one hot encoding \n",
    "\n",
    "df = pd.get_dummies(df, columns = ['fuel_type'])"
   ]
  },
  {
   "cell_type": "code",
   "execution_count": 38,
   "id": "a0146271-db14-4591-98e5-519505d96e2c",
   "metadata": {},
   "outputs": [
    {
     "data": {
      "text/plain": [
       "Manual       16025\n",
       "Automatic     3949\n",
       "Name: transmission_type, dtype: int64"
      ]
     },
     "execution_count": 38,
     "metadata": {},
     "output_type": "execute_result"
    }
   ],
   "source": [
    "df['transmission_type'].value_counts()"
   ]
  },
  {
   "cell_type": "code",
   "execution_count": 39,
   "id": "1f9155f0-e1fc-410f-a539-f44a9fef4764",
   "metadata": {},
   "outputs": [],
   "source": [
    "df = pd.get_dummies(df, columns = ['transmission_type'])"
   ]
  },
  {
   "cell_type": "code",
   "execution_count": 40,
   "id": "485c3acd-9b7c-4f8d-8167-a2acf93248e2",
   "metadata": {},
   "outputs": [],
   "source": [
    "var = df['mileage'][0]"
   ]
  },
  {
   "cell_type": "code",
   "execution_count": 67,
   "id": "b98ad9e1-db65-4771-bcb3-00c5bb1bf215",
   "metadata": {},
   "outputs": [],
   "source": [
    "import re \n",
    "df['mileage'].replace(r'[ ,*a-zA-Z/]+','',regex =True,inplace = True)\n",
    "df['mileage'] = df['mileage'].astype(float)\n"
   ]
  },
  {
   "cell_type": "code",
   "execution_count": 70,
   "id": "5ceaa649",
   "metadata": {},
   "outputs": [
    {
     "data": {
      "text/plain": [
       "0"
      ]
     },
     "execution_count": 70,
     "metadata": {},
     "output_type": "execute_result"
    }
   ],
   "source": [
    "df['mileage'].isna().sum()"
   ]
  },
  {
   "cell_type": "code",
   "execution_count": 69,
   "id": "0a4480f1",
   "metadata": {},
   "outputs": [],
   "source": [
    "df['mileage'].fillna(df['mileage'].mean(), inplace=True)"
   ]
  },
  {
   "cell_type": "code",
   "execution_count": 44,
   "id": "b95ee6a7-f770-44cc-accf-f5a38ac654c7",
   "metadata": {},
   "outputs": [
    {
     "data": {
      "text/plain": [
       "0         796.0\n",
       "1        1197.0\n",
       "2        1197.0\n",
       "3         998.0\n",
       "4        1498.0\n",
       "          ...  \n",
       "19969    1364.0\n",
       "19970    1373.0\n",
       "19971    1498.0\n",
       "19972    2179.0\n",
       "19973    1497.0\n",
       "Name: engine, Length: 19974, dtype: float64"
      ]
     },
     "execution_count": 44,
     "metadata": {},
     "output_type": "execute_result"
    }
   ],
   "source": [
    "df['engine']\n",
    "df['engine'].replace(r'[ ,*a-zA-Z]+','',regex =True,inplace = True)\n",
    "# df['engine'].astype(int)\n",
    "engine = []\n",
    "for value in df['engine']:\n",
    "    if type(value) == str:\n",
    "        engine.append(int(value))\n",
    "    else:\n",
    "        engine.append(value)\n",
    "        # continue\n",
    "df['engine']= engine\n",
    "df['engine']"
   ]
  },
  {
   "cell_type": "code",
   "execution_count": 73,
   "id": "978936ea-7f41-458e-9944-1382a253e656",
   "metadata": {},
   "outputs": [
    {
     "data": {
      "text/plain": [
       "0"
      ]
     },
     "execution_count": 73,
     "metadata": {},
     "output_type": "execute_result"
    }
   ],
   "source": [
    "df['engine'].isna().sum()"
   ]
  },
  {
   "cell_type": "code",
   "execution_count": 72,
   "id": "4a10d133",
   "metadata": {},
   "outputs": [],
   "source": [
    "df['engine'].fillna(df['engine'].mode()[0], inplace=True)"
   ]
  },
  {
   "cell_type": "code",
   "execution_count": 46,
   "id": "ad02e7b3-5073-40ae-976f-0499a41ac670",
   "metadata": {},
   "outputs": [
    {
     "data": {
      "text/plain": [
       "Index(['full_name', 'selling_price', 'new_price', 'year', 'km_driven',\n",
       "       'owner_type', 'mileage', 'engine', 'max_power', 'seats',\n",
       "       'brand_name_Ambassador', 'brand_name_Audi', 'brand_name_BMW',\n",
       "       'brand_name_Bentley', 'brand_name_Chevrolet', 'brand_name_DC',\n",
       "       'brand_name_Daewoo', 'brand_name_Datsun', 'brand_name_Ferrari',\n",
       "       'brand_name_Fiat', 'brand_name_Force', 'brand_name_Ford',\n",
       "       'brand_name_Honda', 'brand_name_Hyundai', 'brand_name_ISUZU',\n",
       "       'brand_name_Isuzu', 'brand_name_Jaguar', 'brand_name_Jeep',\n",
       "       'brand_name_Kia', 'brand_name_Lamborghini', 'brand_name_Land',\n",
       "       'brand_name_Lexus', 'brand_name_MG', 'brand_name_Mahindra',\n",
       "       'brand_name_Maruti', 'brand_name_Maserati', 'brand_name_Mercedes-AMG',\n",
       "       'brand_name_Mercedes-Benz', 'brand_name_Mini', 'brand_name_Mitsubishi',\n",
       "       'brand_name_Nissan', 'brand_name_Opel', 'brand_name_OpelCorsa',\n",
       "       'brand_name_Porsche', 'brand_name_Premier', 'brand_name_Renault',\n",
       "       'brand_name_Rolls-Royce', 'brand_name_Skoda', 'brand_name_Tata',\n",
       "       'brand_name_Toyota', 'brand_name_Volkswagen', 'brand_name_Volvo',\n",
       "       'price', 'seller_type_Dealer', 'seller_type_Individual',\n",
       "       'seller_type_Trustmark Dealer', 'fuel_type_CNG', 'fuel_type_Diesel',\n",
       "       'fuel_type_Electric', 'fuel_type_LPG', 'fuel_type_Petrol',\n",
       "       'transmission_type_Automatic', 'transmission_type_Manual'],\n",
       "      dtype='object')"
      ]
     },
     "execution_count": 46,
     "metadata": {},
     "output_type": "execute_result"
    }
   ],
   "source": [
    "# df.loc[df['brand_name']=='BMW']\n",
    "df.columns"
   ]
  },
  {
   "cell_type": "code",
   "execution_count": 47,
   "id": "745ce374-6082-42aa-a214-8c9d43a27db9",
   "metadata": {},
   "outputs": [
    {
     "data": {
      "text/plain": [
       "1477.8059806685462"
      ]
     },
     "execution_count": 47,
     "metadata": {},
     "output_type": "execute_result"
    }
   ],
   "source": [
    "df['engine'].mean()"
   ]
  },
  {
   "cell_type": "code",
   "execution_count": 48,
   "id": "c62bc942-dd9d-4515-8cae-dd703e06550a",
   "metadata": {},
   "outputs": [
    {
     "data": {
      "text/plain": [
       "1248.0"
      ]
     },
     "execution_count": 48,
     "metadata": {},
     "output_type": "execute_result"
    }
   ],
   "source": [
    "df['engine'].median()"
   ]
  },
  {
   "cell_type": "code",
   "execution_count": 49,
   "id": "fcff0d7e-207c-450e-8a23-8af10c2b7f0a",
   "metadata": {},
   "outputs": [
    {
     "data": {
      "text/plain": [
       "0    1197.0\n",
       "Name: engine, dtype: float64"
      ]
     },
     "execution_count": 49,
     "metadata": {},
     "output_type": "execute_result"
    }
   ],
   "source": [
    "df['engine'].mode()"
   ]
  },
  {
   "cell_type": "code",
   "execution_count": 50,
   "id": "730df172-80c9-41b1-b3b4-c2e2b785c0ac",
   "metadata": {},
   "outputs": [],
   "source": [
    "df['engine'].fillna(df['engine'].mode(), inplace=True)"
   ]
  },
  {
   "cell_type": "code",
   "execution_count": 51,
   "id": "780fc4af-455b-4979-8e64-64c946fb4e86",
   "metadata": {},
   "outputs": [
    {
     "data": {
      "text/html": [
       "<div>\n",
       "<style scoped>\n",
       "    .dataframe tbody tr th:only-of-type {\n",
       "        vertical-align: middle;\n",
       "    }\n",
       "\n",
       "    .dataframe tbody tr th {\n",
       "        vertical-align: top;\n",
       "    }\n",
       "\n",
       "    .dataframe thead th {\n",
       "        text-align: right;\n",
       "    }\n",
       "</style>\n",
       "<table border=\"1\" class=\"dataframe\">\n",
       "  <thead>\n",
       "    <tr style=\"text-align: right;\">\n",
       "      <th></th>\n",
       "      <th>full_name</th>\n",
       "      <th>selling_price</th>\n",
       "      <th>new_price</th>\n",
       "      <th>year</th>\n",
       "      <th>km_driven</th>\n",
       "      <th>owner_type</th>\n",
       "      <th>mileage</th>\n",
       "      <th>engine</th>\n",
       "      <th>max_power</th>\n",
       "      <th>seats</th>\n",
       "      <th>...</th>\n",
       "      <th>seller_type_Individual</th>\n",
       "      <th>seller_type_Trustmark Dealer</th>\n",
       "      <th>fuel_type_CNG</th>\n",
       "      <th>fuel_type_Diesel</th>\n",
       "      <th>fuel_type_Electric</th>\n",
       "      <th>fuel_type_LPG</th>\n",
       "      <th>fuel_type_Petrol</th>\n",
       "      <th>transmission_type_Automatic</th>\n",
       "      <th>transmission_type_Manual</th>\n",
       "      <th>brand_name</th>\n",
       "    </tr>\n",
       "  </thead>\n",
       "  <tbody>\n",
       "    <tr>\n",
       "      <th>140</th>\n",
       "      <td>BMW 5 Series 530d M Sport</td>\n",
       "      <td>26 Lakh*</td>\n",
       "      <td>NaN</td>\n",
       "      <td>2016</td>\n",
       "      <td>63000</td>\n",
       "      <td>First Owner</td>\n",
       "      <td>18.59</td>\n",
       "      <td>2993.0</td>\n",
       "      <td>Max Power261.49 bhp</td>\n",
       "      <td>Seats5</td>\n",
       "      <td>...</td>\n",
       "      <td>0</td>\n",
       "      <td>0</td>\n",
       "      <td>0</td>\n",
       "      <td>1</td>\n",
       "      <td>0</td>\n",
       "      <td>0</td>\n",
       "      <td>0</td>\n",
       "      <td>1</td>\n",
       "      <td>0</td>\n",
       "      <td>BMW</td>\n",
       "    </tr>\n",
       "    <tr>\n",
       "      <th>180</th>\n",
       "      <td>BMW 3 Series 320d Luxury Line</td>\n",
       "      <td>20.9 Lakh*</td>\n",
       "      <td>NaN</td>\n",
       "      <td>2016</td>\n",
       "      <td>68000</td>\n",
       "      <td>First Owner</td>\n",
       "      <td>22.69</td>\n",
       "      <td>1995.0</td>\n",
       "      <td>Max Power190 bhp</td>\n",
       "      <td>Seats5</td>\n",
       "      <td>...</td>\n",
       "      <td>0</td>\n",
       "      <td>0</td>\n",
       "      <td>0</td>\n",
       "      <td>1</td>\n",
       "      <td>0</td>\n",
       "      <td>0</td>\n",
       "      <td>0</td>\n",
       "      <td>1</td>\n",
       "      <td>0</td>\n",
       "      <td>BMW</td>\n",
       "    </tr>\n",
       "    <tr>\n",
       "      <th>402</th>\n",
       "      <td>BMW Z4 M40i</td>\n",
       "      <td>82.5 Lakh*</td>\n",
       "      <td>New Car (On-Road Price) : Rs.77.06-94.14 Lakh*</td>\n",
       "      <td>2020</td>\n",
       "      <td>2000</td>\n",
       "      <td>First Owner</td>\n",
       "      <td>11.29</td>\n",
       "      <td>2998.0</td>\n",
       "      <td>Max Power335 bhp</td>\n",
       "      <td>Seats2</td>\n",
       "      <td>...</td>\n",
       "      <td>0</td>\n",
       "      <td>0</td>\n",
       "      <td>0</td>\n",
       "      <td>0</td>\n",
       "      <td>0</td>\n",
       "      <td>0</td>\n",
       "      <td>1</td>\n",
       "      <td>1</td>\n",
       "      <td>0</td>\n",
       "      <td>BMW</td>\n",
       "    </tr>\n",
       "    <tr>\n",
       "      <th>422</th>\n",
       "      <td>BMW 6 Series GT 630i Luxury Line</td>\n",
       "      <td>55 Lakh*</td>\n",
       "      <td>New Car (On-Road Price) : Rs.78.37 Lakh*</td>\n",
       "      <td>2018</td>\n",
       "      <td>30000</td>\n",
       "      <td>First Owner</td>\n",
       "      <td>14.28</td>\n",
       "      <td>1998.0</td>\n",
       "      <td>Max Power254.7 bhp</td>\n",
       "      <td>Seats4</td>\n",
       "      <td>...</td>\n",
       "      <td>1</td>\n",
       "      <td>0</td>\n",
       "      <td>0</td>\n",
       "      <td>0</td>\n",
       "      <td>0</td>\n",
       "      <td>0</td>\n",
       "      <td>1</td>\n",
       "      <td>1</td>\n",
       "      <td>0</td>\n",
       "      <td>BMW</td>\n",
       "    </tr>\n",
       "    <tr>\n",
       "      <th>457</th>\n",
       "      <td>BMW X5 xDrive 30d xLine</td>\n",
       "      <td>79 Lakh*</td>\n",
       "      <td>New Car (On-Road Price) : Rs.83.78-95.29 Lakh*</td>\n",
       "      <td>2019</td>\n",
       "      <td>19000</td>\n",
       "      <td>First Owner</td>\n",
       "      <td>13.38</td>\n",
       "      <td>2993.0</td>\n",
       "      <td>Max Power265 bhp</td>\n",
       "      <td>Seats5</td>\n",
       "      <td>...</td>\n",
       "      <td>1</td>\n",
       "      <td>0</td>\n",
       "      <td>0</td>\n",
       "      <td>1</td>\n",
       "      <td>0</td>\n",
       "      <td>0</td>\n",
       "      <td>0</td>\n",
       "      <td>1</td>\n",
       "      <td>0</td>\n",
       "      <td>BMW</td>\n",
       "    </tr>\n",
       "    <tr>\n",
       "      <th>...</th>\n",
       "      <td>...</td>\n",
       "      <td>...</td>\n",
       "      <td>...</td>\n",
       "      <td>...</td>\n",
       "      <td>...</td>\n",
       "      <td>...</td>\n",
       "      <td>...</td>\n",
       "      <td>...</td>\n",
       "      <td>...</td>\n",
       "      <td>...</td>\n",
       "      <td>...</td>\n",
       "      <td>...</td>\n",
       "      <td>...</td>\n",
       "      <td>...</td>\n",
       "      <td>...</td>\n",
       "      <td>...</td>\n",
       "      <td>...</td>\n",
       "      <td>...</td>\n",
       "      <td>...</td>\n",
       "      <td>...</td>\n",
       "      <td>...</td>\n",
       "    </tr>\n",
       "    <tr>\n",
       "      <th>19809</th>\n",
       "      <td>BMW 5 Series 520d Luxury Line</td>\n",
       "      <td>52.95 Lakh*</td>\n",
       "      <td>New Car (On-Road Price) : Rs.76.04-85.24 Lakh*</td>\n",
       "      <td>2019</td>\n",
       "      <td>4000</td>\n",
       "      <td>First Owner</td>\n",
       "      <td>18.12</td>\n",
       "      <td>1995.0</td>\n",
       "      <td>Max Power190 bhp</td>\n",
       "      <td>Seats5</td>\n",
       "      <td>...</td>\n",
       "      <td>0</td>\n",
       "      <td>0</td>\n",
       "      <td>0</td>\n",
       "      <td>1</td>\n",
       "      <td>0</td>\n",
       "      <td>0</td>\n",
       "      <td>0</td>\n",
       "      <td>1</td>\n",
       "      <td>0</td>\n",
       "      <td>BMW</td>\n",
       "    </tr>\n",
       "    <tr>\n",
       "      <th>19823</th>\n",
       "      <td>BMW 5 Series 520d Luxury Line</td>\n",
       "      <td>23.25 Lakh*</td>\n",
       "      <td>New Car (On-Road Price) : Rs.78.37-87.92 Lakh*</td>\n",
       "      <td>2014</td>\n",
       "      <td>43000</td>\n",
       "      <td>First Owner</td>\n",
       "      <td>18.12</td>\n",
       "      <td>1995.0</td>\n",
       "      <td>Max Power190 bhp</td>\n",
       "      <td>Seats5</td>\n",
       "      <td>...</td>\n",
       "      <td>0</td>\n",
       "      <td>0</td>\n",
       "      <td>0</td>\n",
       "      <td>1</td>\n",
       "      <td>0</td>\n",
       "      <td>0</td>\n",
       "      <td>0</td>\n",
       "      <td>1</td>\n",
       "      <td>0</td>\n",
       "      <td>BMW</td>\n",
       "    </tr>\n",
       "    <tr>\n",
       "      <th>19833</th>\n",
       "      <td>BMW X1 sDrive 20d xLine</td>\n",
       "      <td>29 Lakh*</td>\n",
       "      <td>NaN</td>\n",
       "      <td>2018</td>\n",
       "      <td>39000</td>\n",
       "      <td>First Owner</td>\n",
       "      <td>20.68</td>\n",
       "      <td>1995.0</td>\n",
       "      <td>Max Power188 bhp</td>\n",
       "      <td>Seats5</td>\n",
       "      <td>...</td>\n",
       "      <td>0</td>\n",
       "      <td>0</td>\n",
       "      <td>0</td>\n",
       "      <td>1</td>\n",
       "      <td>0</td>\n",
       "      <td>0</td>\n",
       "      <td>0</td>\n",
       "      <td>1</td>\n",
       "      <td>0</td>\n",
       "      <td>BMW</td>\n",
       "    </tr>\n",
       "    <tr>\n",
       "      <th>19865</th>\n",
       "      <td>BMW 3 Series 316i</td>\n",
       "      <td>10 Lakh*</td>\n",
       "      <td>New Car (On-Road Price) : Rs.54.61-63.78 Lakh*</td>\n",
       "      <td>1996</td>\n",
       "      <td>50000</td>\n",
       "      <td>First Owner</td>\n",
       "      <td>11.9</td>\n",
       "      <td>1995.0</td>\n",
       "      <td>Max Power154 bhp</td>\n",
       "      <td>Seats5</td>\n",
       "      <td>...</td>\n",
       "      <td>1</td>\n",
       "      <td>0</td>\n",
       "      <td>0</td>\n",
       "      <td>0</td>\n",
       "      <td>0</td>\n",
       "      <td>0</td>\n",
       "      <td>1</td>\n",
       "      <td>1</td>\n",
       "      <td>0</td>\n",
       "      <td>BMW</td>\n",
       "    </tr>\n",
       "    <tr>\n",
       "      <th>19911</th>\n",
       "      <td>BMW 5 Series 520d Luxury Line</td>\n",
       "      <td>39.75 Lakh*</td>\n",
       "      <td>New Car (On-Road Price) : Rs.76.04-85.24 Lakh*</td>\n",
       "      <td>2017</td>\n",
       "      <td>30000</td>\n",
       "      <td>First Owner</td>\n",
       "      <td>22.48</td>\n",
       "      <td>1995.0</td>\n",
       "      <td>Max Power187.74 bhp</td>\n",
       "      <td>Seats5</td>\n",
       "      <td>...</td>\n",
       "      <td>0</td>\n",
       "      <td>0</td>\n",
       "      <td>0</td>\n",
       "      <td>1</td>\n",
       "      <td>0</td>\n",
       "      <td>0</td>\n",
       "      <td>0</td>\n",
       "      <td>1</td>\n",
       "      <td>0</td>\n",
       "      <td>BMW</td>\n",
       "    </tr>\n",
       "  </tbody>\n",
       "</table>\n",
       "<p>483 rows × 64 columns</p>\n",
       "</div>"
      ],
      "text/plain": [
       "                              full_name selling_price  \\\n",
       "140           BMW 5 Series 530d M Sport      26 Lakh*   \n",
       "180       BMW 3 Series 320d Luxury Line    20.9 Lakh*   \n",
       "402                         BMW Z4 M40i    82.5 Lakh*   \n",
       "422    BMW 6 Series GT 630i Luxury Line      55 Lakh*   \n",
       "457             BMW X5 xDrive 30d xLine      79 Lakh*   \n",
       "...                                 ...           ...   \n",
       "19809     BMW 5 Series 520d Luxury Line   52.95 Lakh*   \n",
       "19823     BMW 5 Series 520d Luxury Line   23.25 Lakh*   \n",
       "19833           BMW X1 sDrive 20d xLine      29 Lakh*   \n",
       "19865                 BMW 3 Series 316i      10 Lakh*   \n",
       "19911     BMW 5 Series 520d Luxury Line   39.75 Lakh*   \n",
       "\n",
       "                                            new_price  year  km_driven  \\\n",
       "140                                               NaN  2016      63000   \n",
       "180                                               NaN  2016      68000   \n",
       "402    New Car (On-Road Price) : Rs.77.06-94.14 Lakh*  2020       2000   \n",
       "422          New Car (On-Road Price) : Rs.78.37 Lakh*  2018      30000   \n",
       "457    New Car (On-Road Price) : Rs.83.78-95.29 Lakh*  2019      19000   \n",
       "...                                               ...   ...        ...   \n",
       "19809  New Car (On-Road Price) : Rs.76.04-85.24 Lakh*  2019       4000   \n",
       "19823  New Car (On-Road Price) : Rs.78.37-87.92 Lakh*  2014      43000   \n",
       "19833                                             NaN  2018      39000   \n",
       "19865  New Car (On-Road Price) : Rs.54.61-63.78 Lakh*  1996      50000   \n",
       "19911  New Car (On-Road Price) : Rs.76.04-85.24 Lakh*  2017      30000   \n",
       "\n",
       "        owner_type mileage  engine            max_power   seats  ...  \\\n",
       "140    First Owner   18.59  2993.0  Max Power261.49 bhp  Seats5  ...   \n",
       "180    First Owner   22.69  1995.0     Max Power190 bhp  Seats5  ...   \n",
       "402    First Owner   11.29  2998.0     Max Power335 bhp  Seats2  ...   \n",
       "422    First Owner   14.28  1998.0   Max Power254.7 bhp  Seats4  ...   \n",
       "457    First Owner   13.38  2993.0     Max Power265 bhp  Seats5  ...   \n",
       "...            ...     ...     ...                  ...     ...  ...   \n",
       "19809  First Owner   18.12  1995.0     Max Power190 bhp  Seats5  ...   \n",
       "19823  First Owner   18.12  1995.0     Max Power190 bhp  Seats5  ...   \n",
       "19833  First Owner   20.68  1995.0     Max Power188 bhp  Seats5  ...   \n",
       "19865  First Owner    11.9  1995.0     Max Power154 bhp  Seats5  ...   \n",
       "19911  First Owner   22.48  1995.0  Max Power187.74 bhp  Seats5  ...   \n",
       "\n",
       "       seller_type_Individual  seller_type_Trustmark Dealer  fuel_type_CNG  \\\n",
       "140                         0                             0              0   \n",
       "180                         0                             0              0   \n",
       "402                         0                             0              0   \n",
       "422                         1                             0              0   \n",
       "457                         1                             0              0   \n",
       "...                       ...                           ...            ...   \n",
       "19809                       0                             0              0   \n",
       "19823                       0                             0              0   \n",
       "19833                       0                             0              0   \n",
       "19865                       1                             0              0   \n",
       "19911                       0                             0              0   \n",
       "\n",
       "       fuel_type_Diesel  fuel_type_Electric  fuel_type_LPG  fuel_type_Petrol  \\\n",
       "140                   1                   0              0                 0   \n",
       "180                   1                   0              0                 0   \n",
       "402                   0                   0              0                 1   \n",
       "422                   0                   0              0                 1   \n",
       "457                   1                   0              0                 0   \n",
       "...                 ...                 ...            ...               ...   \n",
       "19809                 1                   0              0                 0   \n",
       "19823                 1                   0              0                 0   \n",
       "19833                 1                   0              0                 0   \n",
       "19865                 0                   0              0                 1   \n",
       "19911                 1                   0              0                 0   \n",
       "\n",
       "       transmission_type_Automatic  transmission_type_Manual  brand_name  \n",
       "140                              1                         0         BMW  \n",
       "180                              1                         0         BMW  \n",
       "402                              1                         0         BMW  \n",
       "422                              1                         0         BMW  \n",
       "457                              1                         0         BMW  \n",
       "...                            ...                       ...         ...  \n",
       "19809                            1                         0         BMW  \n",
       "19823                            1                         0         BMW  \n",
       "19833                            1                         0         BMW  \n",
       "19865                            1                         0         BMW  \n",
       "19911                            1                         0         BMW  \n",
       "\n",
       "[483 rows x 64 columns]"
      ]
     },
     "execution_count": 51,
     "metadata": {},
     "output_type": "execute_result"
    }
   ],
   "source": [
    "s1 = pd.Series(brand_name)\n",
    "df['brand_name'] = s1\n",
    "df.loc[df['brand_name'] == 'BMW']"
   ]
  },
  {
   "cell_type": "code",
   "execution_count": 74,
   "id": "c72e6ce5-54f1-43aa-b5f8-201374695897",
   "metadata": {},
   "outputs": [],
   "source": [
    "df['max_power'].value_counts()\n",
    "df['max_power'].replace(r'[ ,*a-zA-Z]+','',regex =True,inplace = True)\n",
    "df['max_power'] = df['max_power'].astype(float)"
   ]
  },
  {
   "cell_type": "code",
   "execution_count": 77,
   "id": "58e0bf1e",
   "metadata": {},
   "outputs": [
    {
     "data": {
      "text/plain": [
       "0"
      ]
     },
     "execution_count": 77,
     "metadata": {},
     "output_type": "execute_result"
    }
   ],
   "source": [
    "df['max_power'].isna().sum()"
   ]
  },
  {
   "cell_type": "code",
   "execution_count": 76,
   "id": "4bf1a652",
   "metadata": {},
   "outputs": [],
   "source": [
    "df['max_power'].fillna(df['max_power'].median(),inplace=True)"
   ]
  },
  {
   "cell_type": "code",
   "execution_count": 53,
   "id": "dde0669b-20ff-45ed-bd74-8c91491195b6",
   "metadata": {},
   "outputs": [
    {
     "ename": "ValueError",
     "evalue": "cannot convert float NaN to integer",
     "output_type": "error",
     "traceback": [
      "\u001b[1;31m---------------------------------------------------------------------------\u001b[0m",
      "\u001b[1;31mValueError\u001b[0m                                Traceback (most recent call last)",
      "Input \u001b[1;32mIn [53]\u001b[0m, in \u001b[0;36m<cell line: 3>\u001b[1;34m()\u001b[0m\n\u001b[0;32m      1\u001b[0m df[\u001b[38;5;124m'\u001b[39m\u001b[38;5;124mseats\u001b[39m\u001b[38;5;124m'\u001b[39m][\u001b[38;5;241m0\u001b[39m][\u001b[38;5;241m-\u001b[39m\u001b[38;5;241m1\u001b[39m]\n\u001b[0;32m      2\u001b[0m df[\u001b[38;5;124m'\u001b[39m\u001b[38;5;124mseats\u001b[39m\u001b[38;5;124m'\u001b[39m]\u001b[38;5;241m.\u001b[39mreplace(\u001b[38;5;124mr\u001b[39m\u001b[38;5;124m'\u001b[39m\u001b[38;5;124m[ ,a-zA-Z]+\u001b[39m\u001b[38;5;124m'\u001b[39m,\u001b[38;5;124m'\u001b[39m\u001b[38;5;124m'\u001b[39m,regex \u001b[38;5;241m=\u001b[39m\u001b[38;5;28;01mTrue\u001b[39;00m,inplace \u001b[38;5;241m=\u001b[39m \u001b[38;5;28;01mTrue\u001b[39;00m)\n\u001b[1;32m----> 3\u001b[0m \u001b[43mdf\u001b[49m\u001b[43m[\u001b[49m\u001b[38;5;124;43m'\u001b[39;49m\u001b[38;5;124;43mseats\u001b[39;49m\u001b[38;5;124;43m'\u001b[39;49m\u001b[43m]\u001b[49m\u001b[38;5;241;43m.\u001b[39;49m\u001b[43mastype\u001b[49m\u001b[43m(\u001b[49m\u001b[38;5;28;43mint\u001b[39;49m\u001b[43m)\u001b[49m\n",
      "File \u001b[1;32m~\\.conda\\envs\\car\\lib\\site-packages\\pandas\\core\\generic.py:5912\u001b[0m, in \u001b[0;36mNDFrame.astype\u001b[1;34m(self, dtype, copy, errors)\u001b[0m\n\u001b[0;32m   5905\u001b[0m     results \u001b[38;5;241m=\u001b[39m [\n\u001b[0;32m   5906\u001b[0m         \u001b[38;5;28mself\u001b[39m\u001b[38;5;241m.\u001b[39miloc[:, i]\u001b[38;5;241m.\u001b[39mastype(dtype, copy\u001b[38;5;241m=\u001b[39mcopy)\n\u001b[0;32m   5907\u001b[0m         \u001b[38;5;28;01mfor\u001b[39;00m i \u001b[38;5;129;01min\u001b[39;00m \u001b[38;5;28mrange\u001b[39m(\u001b[38;5;28mlen\u001b[39m(\u001b[38;5;28mself\u001b[39m\u001b[38;5;241m.\u001b[39mcolumns))\n\u001b[0;32m   5908\u001b[0m     ]\n\u001b[0;32m   5910\u001b[0m \u001b[38;5;28;01melse\u001b[39;00m:\n\u001b[0;32m   5911\u001b[0m     \u001b[38;5;66;03m# else, only a single dtype is given\u001b[39;00m\n\u001b[1;32m-> 5912\u001b[0m     new_data \u001b[38;5;241m=\u001b[39m \u001b[38;5;28;43mself\u001b[39;49m\u001b[38;5;241;43m.\u001b[39;49m\u001b[43m_mgr\u001b[49m\u001b[38;5;241;43m.\u001b[39;49m\u001b[43mastype\u001b[49m\u001b[43m(\u001b[49m\u001b[43mdtype\u001b[49m\u001b[38;5;241;43m=\u001b[39;49m\u001b[43mdtype\u001b[49m\u001b[43m,\u001b[49m\u001b[43m \u001b[49m\u001b[43mcopy\u001b[49m\u001b[38;5;241;43m=\u001b[39;49m\u001b[43mcopy\u001b[49m\u001b[43m,\u001b[49m\u001b[43m \u001b[49m\u001b[43merrors\u001b[49m\u001b[38;5;241;43m=\u001b[39;49m\u001b[43merrors\u001b[49m\u001b[43m)\u001b[49m\n\u001b[0;32m   5913\u001b[0m     \u001b[38;5;28;01mreturn\u001b[39;00m \u001b[38;5;28mself\u001b[39m\u001b[38;5;241m.\u001b[39m_constructor(new_data)\u001b[38;5;241m.\u001b[39m__finalize__(\u001b[38;5;28mself\u001b[39m, method\u001b[38;5;241m=\u001b[39m\u001b[38;5;124m\"\u001b[39m\u001b[38;5;124mastype\u001b[39m\u001b[38;5;124m\"\u001b[39m)\n\u001b[0;32m   5915\u001b[0m \u001b[38;5;66;03m# GH 33113: handle empty frame or series\u001b[39;00m\n",
      "File \u001b[1;32m~\\.conda\\envs\\car\\lib\\site-packages\\pandas\\core\\internals\\managers.py:419\u001b[0m, in \u001b[0;36mBaseBlockManager.astype\u001b[1;34m(self, dtype, copy, errors)\u001b[0m\n\u001b[0;32m    418\u001b[0m \u001b[38;5;28;01mdef\u001b[39;00m \u001b[38;5;21mastype\u001b[39m(\u001b[38;5;28mself\u001b[39m: T, dtype, copy: \u001b[38;5;28mbool\u001b[39m \u001b[38;5;241m=\u001b[39m \u001b[38;5;28;01mFalse\u001b[39;00m, errors: \u001b[38;5;28mstr\u001b[39m \u001b[38;5;241m=\u001b[39m \u001b[38;5;124m\"\u001b[39m\u001b[38;5;124mraise\u001b[39m\u001b[38;5;124m\"\u001b[39m) \u001b[38;5;241m-\u001b[39m\u001b[38;5;241m>\u001b[39m T:\n\u001b[1;32m--> 419\u001b[0m     \u001b[38;5;28;01mreturn\u001b[39;00m \u001b[38;5;28;43mself\u001b[39;49m\u001b[38;5;241;43m.\u001b[39;49m\u001b[43mapply\u001b[49m\u001b[43m(\u001b[49m\u001b[38;5;124;43m\"\u001b[39;49m\u001b[38;5;124;43mastype\u001b[39;49m\u001b[38;5;124;43m\"\u001b[39;49m\u001b[43m,\u001b[49m\u001b[43m \u001b[49m\u001b[43mdtype\u001b[49m\u001b[38;5;241;43m=\u001b[39;49m\u001b[43mdtype\u001b[49m\u001b[43m,\u001b[49m\u001b[43m \u001b[49m\u001b[43mcopy\u001b[49m\u001b[38;5;241;43m=\u001b[39;49m\u001b[43mcopy\u001b[49m\u001b[43m,\u001b[49m\u001b[43m \u001b[49m\u001b[43merrors\u001b[49m\u001b[38;5;241;43m=\u001b[39;49m\u001b[43merrors\u001b[49m\u001b[43m)\u001b[49m\n",
      "File \u001b[1;32m~\\.conda\\envs\\car\\lib\\site-packages\\pandas\\core\\internals\\managers.py:304\u001b[0m, in \u001b[0;36mBaseBlockManager.apply\u001b[1;34m(self, f, align_keys, ignore_failures, **kwargs)\u001b[0m\n\u001b[0;32m    302\u001b[0m         applied \u001b[38;5;241m=\u001b[39m b\u001b[38;5;241m.\u001b[39mapply(f, \u001b[38;5;241m*\u001b[39m\u001b[38;5;241m*\u001b[39mkwargs)\n\u001b[0;32m    303\u001b[0m     \u001b[38;5;28;01melse\u001b[39;00m:\n\u001b[1;32m--> 304\u001b[0m         applied \u001b[38;5;241m=\u001b[39m \u001b[38;5;28;43mgetattr\u001b[39;49m\u001b[43m(\u001b[49m\u001b[43mb\u001b[49m\u001b[43m,\u001b[49m\u001b[43m \u001b[49m\u001b[43mf\u001b[49m\u001b[43m)\u001b[49m\u001b[43m(\u001b[49m\u001b[38;5;241;43m*\u001b[39;49m\u001b[38;5;241;43m*\u001b[39;49m\u001b[43mkwargs\u001b[49m\u001b[43m)\u001b[49m\n\u001b[0;32m    305\u001b[0m \u001b[38;5;28;01mexcept\u001b[39;00m (\u001b[38;5;167;01mTypeError\u001b[39;00m, \u001b[38;5;167;01mNotImplementedError\u001b[39;00m):\n\u001b[0;32m    306\u001b[0m     \u001b[38;5;28;01mif\u001b[39;00m \u001b[38;5;129;01mnot\u001b[39;00m ignore_failures:\n",
      "File \u001b[1;32m~\\.conda\\envs\\car\\lib\\site-packages\\pandas\\core\\internals\\blocks.py:580\u001b[0m, in \u001b[0;36mBlock.astype\u001b[1;34m(self, dtype, copy, errors)\u001b[0m\n\u001b[0;32m    562\u001b[0m \u001b[38;5;124;03m\"\"\"\u001b[39;00m\n\u001b[0;32m    563\u001b[0m \u001b[38;5;124;03mCoerce to the new dtype.\u001b[39;00m\n\u001b[0;32m    564\u001b[0m \n\u001b[1;32m   (...)\u001b[0m\n\u001b[0;32m    576\u001b[0m \u001b[38;5;124;03mBlock\u001b[39;00m\n\u001b[0;32m    577\u001b[0m \u001b[38;5;124;03m\"\"\"\u001b[39;00m\n\u001b[0;32m    578\u001b[0m values \u001b[38;5;241m=\u001b[39m \u001b[38;5;28mself\u001b[39m\u001b[38;5;241m.\u001b[39mvalues\n\u001b[1;32m--> 580\u001b[0m new_values \u001b[38;5;241m=\u001b[39m \u001b[43mastype_array_safe\u001b[49m\u001b[43m(\u001b[49m\u001b[43mvalues\u001b[49m\u001b[43m,\u001b[49m\u001b[43m \u001b[49m\u001b[43mdtype\u001b[49m\u001b[43m,\u001b[49m\u001b[43m \u001b[49m\u001b[43mcopy\u001b[49m\u001b[38;5;241;43m=\u001b[39;49m\u001b[43mcopy\u001b[49m\u001b[43m,\u001b[49m\u001b[43m \u001b[49m\u001b[43merrors\u001b[49m\u001b[38;5;241;43m=\u001b[39;49m\u001b[43merrors\u001b[49m\u001b[43m)\u001b[49m\n\u001b[0;32m    582\u001b[0m new_values \u001b[38;5;241m=\u001b[39m maybe_coerce_values(new_values)\n\u001b[0;32m    583\u001b[0m newb \u001b[38;5;241m=\u001b[39m \u001b[38;5;28mself\u001b[39m\u001b[38;5;241m.\u001b[39mmake_block(new_values)\n",
      "File \u001b[1;32m~\\.conda\\envs\\car\\lib\\site-packages\\pandas\\core\\dtypes\\cast.py:1292\u001b[0m, in \u001b[0;36mastype_array_safe\u001b[1;34m(values, dtype, copy, errors)\u001b[0m\n\u001b[0;32m   1289\u001b[0m     dtype \u001b[38;5;241m=\u001b[39m dtype\u001b[38;5;241m.\u001b[39mnumpy_dtype\n\u001b[0;32m   1291\u001b[0m \u001b[38;5;28;01mtry\u001b[39;00m:\n\u001b[1;32m-> 1292\u001b[0m     new_values \u001b[38;5;241m=\u001b[39m \u001b[43mastype_array\u001b[49m\u001b[43m(\u001b[49m\u001b[43mvalues\u001b[49m\u001b[43m,\u001b[49m\u001b[43m \u001b[49m\u001b[43mdtype\u001b[49m\u001b[43m,\u001b[49m\u001b[43m \u001b[49m\u001b[43mcopy\u001b[49m\u001b[38;5;241;43m=\u001b[39;49m\u001b[43mcopy\u001b[49m\u001b[43m)\u001b[49m\n\u001b[0;32m   1293\u001b[0m \u001b[38;5;28;01mexcept\u001b[39;00m (\u001b[38;5;167;01mValueError\u001b[39;00m, \u001b[38;5;167;01mTypeError\u001b[39;00m):\n\u001b[0;32m   1294\u001b[0m     \u001b[38;5;66;03m# e.g. astype_nansafe can fail on object-dtype of strings\u001b[39;00m\n\u001b[0;32m   1295\u001b[0m     \u001b[38;5;66;03m#  trying to convert to float\u001b[39;00m\n\u001b[0;32m   1296\u001b[0m     \u001b[38;5;28;01mif\u001b[39;00m errors \u001b[38;5;241m==\u001b[39m \u001b[38;5;124m\"\u001b[39m\u001b[38;5;124mignore\u001b[39m\u001b[38;5;124m\"\u001b[39m:\n",
      "File \u001b[1;32m~\\.conda\\envs\\car\\lib\\site-packages\\pandas\\core\\dtypes\\cast.py:1237\u001b[0m, in \u001b[0;36mastype_array\u001b[1;34m(values, dtype, copy)\u001b[0m\n\u001b[0;32m   1234\u001b[0m     values \u001b[38;5;241m=\u001b[39m values\u001b[38;5;241m.\u001b[39mastype(dtype, copy\u001b[38;5;241m=\u001b[39mcopy)\n\u001b[0;32m   1236\u001b[0m \u001b[38;5;28;01melse\u001b[39;00m:\n\u001b[1;32m-> 1237\u001b[0m     values \u001b[38;5;241m=\u001b[39m \u001b[43mastype_nansafe\u001b[49m\u001b[43m(\u001b[49m\u001b[43mvalues\u001b[49m\u001b[43m,\u001b[49m\u001b[43m \u001b[49m\u001b[43mdtype\u001b[49m\u001b[43m,\u001b[49m\u001b[43m \u001b[49m\u001b[43mcopy\u001b[49m\u001b[38;5;241;43m=\u001b[39;49m\u001b[43mcopy\u001b[49m\u001b[43m)\u001b[49m\n\u001b[0;32m   1239\u001b[0m \u001b[38;5;66;03m# in pandas we don't store numpy str dtypes, so convert to object\u001b[39;00m\n\u001b[0;32m   1240\u001b[0m \u001b[38;5;28;01mif\u001b[39;00m \u001b[38;5;28misinstance\u001b[39m(dtype, np\u001b[38;5;241m.\u001b[39mdtype) \u001b[38;5;129;01mand\u001b[39;00m \u001b[38;5;28missubclass\u001b[39m(values\u001b[38;5;241m.\u001b[39mdtype\u001b[38;5;241m.\u001b[39mtype, \u001b[38;5;28mstr\u001b[39m):\n",
      "File \u001b[1;32m~\\.conda\\envs\\car\\lib\\site-packages\\pandas\\core\\dtypes\\cast.py:1154\u001b[0m, in \u001b[0;36mastype_nansafe\u001b[1;34m(arr, dtype, copy, skipna)\u001b[0m\n\u001b[0;32m   1150\u001b[0m \u001b[38;5;28;01melif\u001b[39;00m is_object_dtype(arr\u001b[38;5;241m.\u001b[39mdtype):\n\u001b[0;32m   1151\u001b[0m \n\u001b[0;32m   1152\u001b[0m     \u001b[38;5;66;03m# work around NumPy brokenness, #1987\u001b[39;00m\n\u001b[0;32m   1153\u001b[0m     \u001b[38;5;28;01mif\u001b[39;00m np\u001b[38;5;241m.\u001b[39missubdtype(dtype\u001b[38;5;241m.\u001b[39mtype, np\u001b[38;5;241m.\u001b[39minteger):\n\u001b[1;32m-> 1154\u001b[0m         \u001b[38;5;28;01mreturn\u001b[39;00m \u001b[43mlib\u001b[49m\u001b[38;5;241;43m.\u001b[39;49m\u001b[43mastype_intsafe\u001b[49m\u001b[43m(\u001b[49m\u001b[43marr\u001b[49m\u001b[43m,\u001b[49m\u001b[43m \u001b[49m\u001b[43mdtype\u001b[49m\u001b[43m)\u001b[49m\n\u001b[0;32m   1156\u001b[0m     \u001b[38;5;66;03m# if we have a datetime/timedelta array of objects\u001b[39;00m\n\u001b[0;32m   1157\u001b[0m     \u001b[38;5;66;03m# then coerce to a proper dtype and recall astype_nansafe\u001b[39;00m\n\u001b[0;32m   1159\u001b[0m     \u001b[38;5;28;01melif\u001b[39;00m is_datetime64_dtype(dtype):\n",
      "File \u001b[1;32m~\\.conda\\envs\\car\\lib\\site-packages\\pandas\\_libs\\lib.pyx:668\u001b[0m, in \u001b[0;36mpandas._libs.lib.astype_intsafe\u001b[1;34m()\u001b[0m\n",
      "\u001b[1;31mValueError\u001b[0m: cannot convert float NaN to integer"
     ]
    }
   ],
   "source": [
    "df['seats'][0][-1]\n",
    "df['seats'].replace(r'[ ,a-zA-Z]+','',regex =True,inplace = True)\n",
    "df['seats'].astype(int)"
   ]
  },
  {
   "cell_type": "code",
   "execution_count": 78,
   "id": "b4f18ef5-498b-4969-ad6f-1b28e96d83c0",
   "metadata": {},
   "outputs": [
    {
     "data": {
      "text/plain": [
       "0        5\n",
       "1        5\n",
       "2        5\n",
       "3        5\n",
       "4        5\n",
       "        ..\n",
       "19969    5\n",
       "19970    7\n",
       "19971    5\n",
       "19972    7\n",
       "19973    5\n",
       "Name: seats, Length: 19974, dtype: object"
      ]
     },
     "execution_count": 78,
     "metadata": {},
     "output_type": "execute_result"
    }
   ],
   "source": [
    "df['seats']"
   ]
  },
  {
   "cell_type": "code",
   "execution_count": 79,
   "id": "4a58f324-3591-48cb-a344-65471acc3843",
   "metadata": {},
   "outputs": [
    {
     "data": {
      "text/plain": [
       "0        5.0\n",
       "1        5.0\n",
       "2        5.0\n",
       "3        5.0\n",
       "4        5.0\n",
       "        ... \n",
       "19969    5.0\n",
       "19970    7.0\n",
       "19971    5.0\n",
       "19972    7.0\n",
       "19973    5.0\n",
       "Name: seats, Length: 19974, dtype: float64"
      ]
     },
     "execution_count": 79,
     "metadata": {},
     "output_type": "execute_result"
    }
   ],
   "source": [
    "seat = []\n",
    "for value in df['seats']:\n",
    "    if type(value) == str:\n",
    "        seat.append(int(value))\n",
    "    else:\n",
    "        seat.append(value)\n",
    "        # continue\n",
    "df['seats']= seat\n",
    "df['seats']"
   ]
  },
  {
   "cell_type": "code",
   "execution_count": 81,
   "id": "11cd9ad3-ee56-4d71-8094-483bad975255",
   "metadata": {},
   "outputs": [
    {
     "data": {
      "text/plain": [
       "87"
      ]
     },
     "execution_count": 81,
     "metadata": {},
     "output_type": "execute_result"
    }
   ],
   "source": [
    "df['seats'].isna().sum()"
   ]
  },
  {
   "cell_type": "code",
   "execution_count": 83,
   "id": "e02e4177",
   "metadata": {},
   "outputs": [],
   "source": [
    "df['seats'].fillna(df['seats'].mode()[0], inplace=True)"
   ]
  },
  {
   "cell_type": "code",
   "execution_count": 82,
   "id": "e50fd29a",
   "metadata": {},
   "outputs": [
    {
     "data": {
      "text/plain": [
       "0    5.0\n",
       "Name: seats, dtype: float64"
      ]
     },
     "execution_count": 82,
     "metadata": {},
     "output_type": "execute_result"
    }
   ],
   "source": [
    "df['seats'].mode()"
   ]
  },
  {
   "cell_type": "code",
   "execution_count": null,
   "id": "71c94a57-813e-4a25-b676-153d70ab5524",
   "metadata": {},
   "outputs": [],
   "source": [
    "\n",
    "df['Car_Age'] = 2022 - df['year']"
   ]
  },
  {
   "cell_type": "code",
   "execution_count": 59,
   "id": "f05b832c",
   "metadata": {},
   "outputs": [
    {
     "data": {
      "text/html": [
       "<div>\n",
       "<style scoped>\n",
       "    .dataframe tbody tr th:only-of-type {\n",
       "        vertical-align: middle;\n",
       "    }\n",
       "\n",
       "    .dataframe tbody tr th {\n",
       "        vertical-align: top;\n",
       "    }\n",
       "\n",
       "    .dataframe thead th {\n",
       "        text-align: right;\n",
       "    }\n",
       "</style>\n",
       "<table border=\"1\" class=\"dataframe\">\n",
       "  <thead>\n",
       "    <tr style=\"text-align: right;\">\n",
       "      <th></th>\n",
       "      <th>0</th>\n",
       "    </tr>\n",
       "  </thead>\n",
       "  <tbody>\n",
       "    <tr>\n",
       "      <th>full_name</th>\n",
       "      <td>Maruti Alto Std</td>\n",
       "    </tr>\n",
       "    <tr>\n",
       "      <th>selling_price</th>\n",
       "      <td>1.2 Lakh*</td>\n",
       "    </tr>\n",
       "    <tr>\n",
       "      <th>new_price</th>\n",
       "      <td>NaN</td>\n",
       "    </tr>\n",
       "    <tr>\n",
       "      <th>year</th>\n",
       "      <td>2012</td>\n",
       "    </tr>\n",
       "    <tr>\n",
       "      <th>km_driven</th>\n",
       "      <td>120000</td>\n",
       "    </tr>\n",
       "    <tr>\n",
       "      <th>...</th>\n",
       "      <td>...</td>\n",
       "    </tr>\n",
       "    <tr>\n",
       "      <th>fuel_type_LPG</th>\n",
       "      <td>0</td>\n",
       "    </tr>\n",
       "    <tr>\n",
       "      <th>fuel_type_Petrol</th>\n",
       "      <td>1</td>\n",
       "    </tr>\n",
       "    <tr>\n",
       "      <th>transmission_type_Automatic</th>\n",
       "      <td>0</td>\n",
       "    </tr>\n",
       "    <tr>\n",
       "      <th>transmission_type_Manual</th>\n",
       "      <td>1</td>\n",
       "    </tr>\n",
       "    <tr>\n",
       "      <th>brand_name</th>\n",
       "      <td>Maruti</td>\n",
       "    </tr>\n",
       "  </tbody>\n",
       "</table>\n",
       "<p>64 rows × 1 columns</p>\n",
       "</div>"
      ],
      "text/plain": [
       "                                           0\n",
       "full_name                    Maruti Alto Std\n",
       "selling_price                      1.2 Lakh*\n",
       "new_price                                NaN\n",
       "year                                    2012\n",
       "km_driven                             120000\n",
       "...                                      ...\n",
       "fuel_type_LPG                              0\n",
       "fuel_type_Petrol                           1\n",
       "transmission_type_Automatic                0\n",
       "transmission_type_Manual                   1\n",
       "brand_name                            Maruti\n",
       "\n",
       "[64 rows x 1 columns]"
      ]
     },
     "execution_count": 59,
     "metadata": {},
     "output_type": "execute_result"
    }
   ],
   "source": [
    "df.head(1).T"
   ]
  },
  {
   "cell_type": "code",
   "execution_count": 84,
   "id": "be2209b0",
   "metadata": {},
   "outputs": [
    {
     "name": "stdout",
     "output_type": "stream",
     "text": [
      "<class 'pandas.core.frame.DataFrame'>\n",
      "RangeIndex: 19974 entries, 0 to 19973\n",
      "Data columns (total 64 columns):\n",
      " #   Column                        Non-Null Count  Dtype  \n",
      "---  ------                        --------------  -----  \n",
      " 0   full_name                     19974 non-null  object \n",
      " 1   selling_price                 19974 non-null  object \n",
      " 2   new_price                     9564 non-null   object \n",
      " 3   year                          19974 non-null  int64  \n",
      " 4   km_driven                     19974 non-null  int64  \n",
      " 5   owner_type                    19974 non-null  object \n",
      " 6   mileage                       19974 non-null  float64\n",
      " 7   engine                        19974 non-null  float64\n",
      " 8   max_power                     19974 non-null  float64\n",
      " 9   seats                         19974 non-null  float64\n",
      " 10  brand_name_Ambassador         19974 non-null  uint8  \n",
      " 11  brand_name_Audi               19974 non-null  uint8  \n",
      " 12  brand_name_BMW                19974 non-null  uint8  \n",
      " 13  brand_name_Bentley            19974 non-null  uint8  \n",
      " 14  brand_name_Chevrolet          19974 non-null  uint8  \n",
      " 15  brand_name_DC                 19974 non-null  uint8  \n",
      " 16  brand_name_Daewoo             19974 non-null  uint8  \n",
      " 17  brand_name_Datsun             19974 non-null  uint8  \n",
      " 18  brand_name_Ferrari            19974 non-null  uint8  \n",
      " 19  brand_name_Fiat               19974 non-null  uint8  \n",
      " 20  brand_name_Force              19974 non-null  uint8  \n",
      " 21  brand_name_Ford               19974 non-null  uint8  \n",
      " 22  brand_name_Honda              19974 non-null  uint8  \n",
      " 23  brand_name_Hyundai            19974 non-null  uint8  \n",
      " 24  brand_name_ISUZU              19974 non-null  uint8  \n",
      " 25  brand_name_Isuzu              19974 non-null  uint8  \n",
      " 26  brand_name_Jaguar             19974 non-null  uint8  \n",
      " 27  brand_name_Jeep               19974 non-null  uint8  \n",
      " 28  brand_name_Kia                19974 non-null  uint8  \n",
      " 29  brand_name_Lamborghini        19974 non-null  uint8  \n",
      " 30  brand_name_Land               19974 non-null  uint8  \n",
      " 31  brand_name_Lexus              19974 non-null  uint8  \n",
      " 32  brand_name_MG                 19974 non-null  uint8  \n",
      " 33  brand_name_Mahindra           19974 non-null  uint8  \n",
      " 34  brand_name_Maruti             19974 non-null  uint8  \n",
      " 35  brand_name_Maserati           19974 non-null  uint8  \n",
      " 36  brand_name_Mercedes-AMG       19974 non-null  uint8  \n",
      " 37  brand_name_Mercedes-Benz      19974 non-null  uint8  \n",
      " 38  brand_name_Mini               19974 non-null  uint8  \n",
      " 39  brand_name_Mitsubishi         19974 non-null  uint8  \n",
      " 40  brand_name_Nissan             19974 non-null  uint8  \n",
      " 41  brand_name_Opel               19974 non-null  uint8  \n",
      " 42  brand_name_OpelCorsa          19974 non-null  uint8  \n",
      " 43  brand_name_Porsche            19974 non-null  uint8  \n",
      " 44  brand_name_Premier            19974 non-null  uint8  \n",
      " 45  brand_name_Renault            19974 non-null  uint8  \n",
      " 46  brand_name_Rolls-Royce        19974 non-null  uint8  \n",
      " 47  brand_name_Skoda              19974 non-null  uint8  \n",
      " 48  brand_name_Tata               19974 non-null  uint8  \n",
      " 49  brand_name_Toyota             19974 non-null  uint8  \n",
      " 50  brand_name_Volkswagen         19974 non-null  uint8  \n",
      " 51  brand_name_Volvo              19974 non-null  uint8  \n",
      " 52  price                         19974 non-null  int64  \n",
      " 53  seller_type_Dealer            19974 non-null  uint8  \n",
      " 54  seller_type_Individual        19974 non-null  uint8  \n",
      " 55  seller_type_Trustmark Dealer  19974 non-null  uint8  \n",
      " 56  fuel_type_CNG                 19974 non-null  uint8  \n",
      " 57  fuel_type_Diesel              19974 non-null  uint8  \n",
      " 58  fuel_type_Electric            19974 non-null  uint8  \n",
      " 59  fuel_type_LPG                 19974 non-null  uint8  \n",
      " 60  fuel_type_Petrol              19974 non-null  uint8  \n",
      " 61  transmission_type_Automatic   19974 non-null  uint8  \n",
      " 62  transmission_type_Manual      19974 non-null  uint8  \n",
      " 63  brand_name                    19974 non-null  object \n",
      "dtypes: float64(4), int64(3), object(5), uint8(52)\n",
      "memory usage: 2.8+ MB\n"
     ]
    }
   ],
   "source": [
    "df.info()"
   ]
  },
  {
   "cell_type": "code",
   "execution_count": null,
   "id": "3c5ddbd3",
   "metadata": {},
   "outputs": [],
   "source": []
  },
  {
   "cell_type": "code",
   "execution_count": null,
   "id": "77eab3d4",
   "metadata": {},
   "outputs": [],
   "source": []
  },
  {
   "cell_type": "code",
   "execution_count": null,
   "id": "72bfa2a5",
   "metadata": {},
   "outputs": [],
   "source": []
  },
  {
   "cell_type": "code",
   "execution_count": null,
   "id": "84c7b5c5",
   "metadata": {},
   "outputs": [],
   "source": []
  },
  {
   "cell_type": "markdown",
   "id": "1d5de283-5ea1-4b76-ba41-6adc1dd25aa9",
   "metadata": {},
   "source": [
    "### Step 6: Feature Selction "
   ]
  },
  {
   "cell_type": "code",
   "execution_count": 85,
   "id": "b47bffb7-c92d-4c51-9dbd-9bfa7fbc405a",
   "metadata": {},
   "outputs": [],
   "source": [
    "df.columns \n",
    "final_df = df.drop(columns = ['selling_price','full_name','brand_name','new_price','owner_type','year'], axis = 1)\n"
   ]
  },
  {
   "cell_type": "code",
   "execution_count": 86,
   "id": "c0992af0",
   "metadata": {},
   "outputs": [
    {
     "data": {
      "text/html": [
       "<div>\n",
       "<style scoped>\n",
       "    .dataframe tbody tr th:only-of-type {\n",
       "        vertical-align: middle;\n",
       "    }\n",
       "\n",
       "    .dataframe tbody tr th {\n",
       "        vertical-align: top;\n",
       "    }\n",
       "\n",
       "    .dataframe thead th {\n",
       "        text-align: right;\n",
       "    }\n",
       "</style>\n",
       "<table border=\"1\" class=\"dataframe\">\n",
       "  <thead>\n",
       "    <tr style=\"text-align: right;\">\n",
       "      <th></th>\n",
       "      <th>0</th>\n",
       "    </tr>\n",
       "  </thead>\n",
       "  <tbody>\n",
       "    <tr>\n",
       "      <th>km_driven</th>\n",
       "      <td>120000.0</td>\n",
       "    </tr>\n",
       "    <tr>\n",
       "      <th>mileage</th>\n",
       "      <td>19.7</td>\n",
       "    </tr>\n",
       "    <tr>\n",
       "      <th>engine</th>\n",
       "      <td>796.0</td>\n",
       "    </tr>\n",
       "    <tr>\n",
       "      <th>max_power</th>\n",
       "      <td>46.3</td>\n",
       "    </tr>\n",
       "    <tr>\n",
       "      <th>seats</th>\n",
       "      <td>5.0</td>\n",
       "    </tr>\n",
       "    <tr>\n",
       "      <th>brand_name_Ambassador</th>\n",
       "      <td>0.0</td>\n",
       "    </tr>\n",
       "    <tr>\n",
       "      <th>brand_name_Audi</th>\n",
       "      <td>0.0</td>\n",
       "    </tr>\n",
       "    <tr>\n",
       "      <th>brand_name_BMW</th>\n",
       "      <td>0.0</td>\n",
       "    </tr>\n",
       "    <tr>\n",
       "      <th>brand_name_Bentley</th>\n",
       "      <td>0.0</td>\n",
       "    </tr>\n",
       "    <tr>\n",
       "      <th>brand_name_Chevrolet</th>\n",
       "      <td>0.0</td>\n",
       "    </tr>\n",
       "    <tr>\n",
       "      <th>brand_name_DC</th>\n",
       "      <td>0.0</td>\n",
       "    </tr>\n",
       "    <tr>\n",
       "      <th>brand_name_Daewoo</th>\n",
       "      <td>0.0</td>\n",
       "    </tr>\n",
       "    <tr>\n",
       "      <th>brand_name_Datsun</th>\n",
       "      <td>0.0</td>\n",
       "    </tr>\n",
       "    <tr>\n",
       "      <th>brand_name_Ferrari</th>\n",
       "      <td>0.0</td>\n",
       "    </tr>\n",
       "    <tr>\n",
       "      <th>brand_name_Fiat</th>\n",
       "      <td>0.0</td>\n",
       "    </tr>\n",
       "    <tr>\n",
       "      <th>brand_name_Force</th>\n",
       "      <td>0.0</td>\n",
       "    </tr>\n",
       "    <tr>\n",
       "      <th>brand_name_Ford</th>\n",
       "      <td>0.0</td>\n",
       "    </tr>\n",
       "    <tr>\n",
       "      <th>brand_name_Honda</th>\n",
       "      <td>0.0</td>\n",
       "    </tr>\n",
       "    <tr>\n",
       "      <th>brand_name_Hyundai</th>\n",
       "      <td>0.0</td>\n",
       "    </tr>\n",
       "    <tr>\n",
       "      <th>brand_name_ISUZU</th>\n",
       "      <td>0.0</td>\n",
       "    </tr>\n",
       "    <tr>\n",
       "      <th>brand_name_Isuzu</th>\n",
       "      <td>0.0</td>\n",
       "    </tr>\n",
       "    <tr>\n",
       "      <th>brand_name_Jaguar</th>\n",
       "      <td>0.0</td>\n",
       "    </tr>\n",
       "    <tr>\n",
       "      <th>brand_name_Jeep</th>\n",
       "      <td>0.0</td>\n",
       "    </tr>\n",
       "    <tr>\n",
       "      <th>brand_name_Kia</th>\n",
       "      <td>0.0</td>\n",
       "    </tr>\n",
       "    <tr>\n",
       "      <th>brand_name_Lamborghini</th>\n",
       "      <td>0.0</td>\n",
       "    </tr>\n",
       "    <tr>\n",
       "      <th>brand_name_Land</th>\n",
       "      <td>0.0</td>\n",
       "    </tr>\n",
       "    <tr>\n",
       "      <th>brand_name_Lexus</th>\n",
       "      <td>0.0</td>\n",
       "    </tr>\n",
       "    <tr>\n",
       "      <th>brand_name_MG</th>\n",
       "      <td>0.0</td>\n",
       "    </tr>\n",
       "    <tr>\n",
       "      <th>brand_name_Mahindra</th>\n",
       "      <td>0.0</td>\n",
       "    </tr>\n",
       "    <tr>\n",
       "      <th>brand_name_Maruti</th>\n",
       "      <td>1.0</td>\n",
       "    </tr>\n",
       "    <tr>\n",
       "      <th>brand_name_Maserati</th>\n",
       "      <td>0.0</td>\n",
       "    </tr>\n",
       "    <tr>\n",
       "      <th>brand_name_Mercedes-AMG</th>\n",
       "      <td>0.0</td>\n",
       "    </tr>\n",
       "    <tr>\n",
       "      <th>brand_name_Mercedes-Benz</th>\n",
       "      <td>0.0</td>\n",
       "    </tr>\n",
       "    <tr>\n",
       "      <th>brand_name_Mini</th>\n",
       "      <td>0.0</td>\n",
       "    </tr>\n",
       "    <tr>\n",
       "      <th>brand_name_Mitsubishi</th>\n",
       "      <td>0.0</td>\n",
       "    </tr>\n",
       "    <tr>\n",
       "      <th>brand_name_Nissan</th>\n",
       "      <td>0.0</td>\n",
       "    </tr>\n",
       "    <tr>\n",
       "      <th>brand_name_Opel</th>\n",
       "      <td>0.0</td>\n",
       "    </tr>\n",
       "    <tr>\n",
       "      <th>brand_name_OpelCorsa</th>\n",
       "      <td>0.0</td>\n",
       "    </tr>\n",
       "    <tr>\n",
       "      <th>brand_name_Porsche</th>\n",
       "      <td>0.0</td>\n",
       "    </tr>\n",
       "    <tr>\n",
       "      <th>brand_name_Premier</th>\n",
       "      <td>0.0</td>\n",
       "    </tr>\n",
       "    <tr>\n",
       "      <th>brand_name_Renault</th>\n",
       "      <td>0.0</td>\n",
       "    </tr>\n",
       "    <tr>\n",
       "      <th>brand_name_Rolls-Royce</th>\n",
       "      <td>0.0</td>\n",
       "    </tr>\n",
       "    <tr>\n",
       "      <th>brand_name_Skoda</th>\n",
       "      <td>0.0</td>\n",
       "    </tr>\n",
       "    <tr>\n",
       "      <th>brand_name_Tata</th>\n",
       "      <td>0.0</td>\n",
       "    </tr>\n",
       "    <tr>\n",
       "      <th>brand_name_Toyota</th>\n",
       "      <td>0.0</td>\n",
       "    </tr>\n",
       "    <tr>\n",
       "      <th>brand_name_Volkswagen</th>\n",
       "      <td>0.0</td>\n",
       "    </tr>\n",
       "    <tr>\n",
       "      <th>brand_name_Volvo</th>\n",
       "      <td>0.0</td>\n",
       "    </tr>\n",
       "    <tr>\n",
       "      <th>price</th>\n",
       "      <td>120000.0</td>\n",
       "    </tr>\n",
       "    <tr>\n",
       "      <th>seller_type_Dealer</th>\n",
       "      <td>0.0</td>\n",
       "    </tr>\n",
       "    <tr>\n",
       "      <th>seller_type_Individual</th>\n",
       "      <td>1.0</td>\n",
       "    </tr>\n",
       "    <tr>\n",
       "      <th>seller_type_Trustmark Dealer</th>\n",
       "      <td>0.0</td>\n",
       "    </tr>\n",
       "    <tr>\n",
       "      <th>fuel_type_CNG</th>\n",
       "      <td>0.0</td>\n",
       "    </tr>\n",
       "    <tr>\n",
       "      <th>fuel_type_Diesel</th>\n",
       "      <td>0.0</td>\n",
       "    </tr>\n",
       "    <tr>\n",
       "      <th>fuel_type_Electric</th>\n",
       "      <td>0.0</td>\n",
       "    </tr>\n",
       "    <tr>\n",
       "      <th>fuel_type_LPG</th>\n",
       "      <td>0.0</td>\n",
       "    </tr>\n",
       "    <tr>\n",
       "      <th>fuel_type_Petrol</th>\n",
       "      <td>1.0</td>\n",
       "    </tr>\n",
       "    <tr>\n",
       "      <th>transmission_type_Automatic</th>\n",
       "      <td>0.0</td>\n",
       "    </tr>\n",
       "    <tr>\n",
       "      <th>transmission_type_Manual</th>\n",
       "      <td>1.0</td>\n",
       "    </tr>\n",
       "  </tbody>\n",
       "</table>\n",
       "</div>"
      ],
      "text/plain": [
       "                                     0\n",
       "km_driven                     120000.0\n",
       "mileage                           19.7\n",
       "engine                           796.0\n",
       "max_power                         46.3\n",
       "seats                              5.0\n",
       "brand_name_Ambassador              0.0\n",
       "brand_name_Audi                    0.0\n",
       "brand_name_BMW                     0.0\n",
       "brand_name_Bentley                 0.0\n",
       "brand_name_Chevrolet               0.0\n",
       "brand_name_DC                      0.0\n",
       "brand_name_Daewoo                  0.0\n",
       "brand_name_Datsun                  0.0\n",
       "brand_name_Ferrari                 0.0\n",
       "brand_name_Fiat                    0.0\n",
       "brand_name_Force                   0.0\n",
       "brand_name_Ford                    0.0\n",
       "brand_name_Honda                   0.0\n",
       "brand_name_Hyundai                 0.0\n",
       "brand_name_ISUZU                   0.0\n",
       "brand_name_Isuzu                   0.0\n",
       "brand_name_Jaguar                  0.0\n",
       "brand_name_Jeep                    0.0\n",
       "brand_name_Kia                     0.0\n",
       "brand_name_Lamborghini             0.0\n",
       "brand_name_Land                    0.0\n",
       "brand_name_Lexus                   0.0\n",
       "brand_name_MG                      0.0\n",
       "brand_name_Mahindra                0.0\n",
       "brand_name_Maruti                  1.0\n",
       "brand_name_Maserati                0.0\n",
       "brand_name_Mercedes-AMG            0.0\n",
       "brand_name_Mercedes-Benz           0.0\n",
       "brand_name_Mini                    0.0\n",
       "brand_name_Mitsubishi              0.0\n",
       "brand_name_Nissan                  0.0\n",
       "brand_name_Opel                    0.0\n",
       "brand_name_OpelCorsa               0.0\n",
       "brand_name_Porsche                 0.0\n",
       "brand_name_Premier                 0.0\n",
       "brand_name_Renault                 0.0\n",
       "brand_name_Rolls-Royce             0.0\n",
       "brand_name_Skoda                   0.0\n",
       "brand_name_Tata                    0.0\n",
       "brand_name_Toyota                  0.0\n",
       "brand_name_Volkswagen              0.0\n",
       "brand_name_Volvo                   0.0\n",
       "price                         120000.0\n",
       "seller_type_Dealer                 0.0\n",
       "seller_type_Individual             1.0\n",
       "seller_type_Trustmark Dealer       0.0\n",
       "fuel_type_CNG                      0.0\n",
       "fuel_type_Diesel                   0.0\n",
       "fuel_type_Electric                 0.0\n",
       "fuel_type_LPG                      0.0\n",
       "fuel_type_Petrol                   1.0\n",
       "transmission_type_Automatic        0.0\n",
       "transmission_type_Manual           1.0"
      ]
     },
     "execution_count": 86,
     "metadata": {},
     "output_type": "execute_result"
    }
   ],
   "source": [
    "final_df.head(1).T"
   ]
  },
  {
   "cell_type": "code",
   "execution_count": 57,
   "id": "890bf5bf-2911-4c97-9c09-8d7b0c45483d",
   "metadata": {},
   "outputs": [
    {
     "data": {
      "text/plain": [
       "Index(['selling_price', 'km_driven', 'mileage', 'engine', 'max_power',\n",
       "       'brand_name_Ambassador', 'brand_name_Audi', 'brand_name_BMW',\n",
       "       'brand_name_Bentley', 'brand_name_Chevrolet', 'brand_name_DC',\n",
       "       'brand_name_Daewoo', 'brand_name_Datsun', 'brand_name_Ferrari',\n",
       "       'brand_name_Fiat', 'brand_name_Force', 'brand_name_Ford',\n",
       "       'brand_name_Honda', 'brand_name_Hyundai', 'brand_name_ISUZU',\n",
       "       'brand_name_Isuzu', 'brand_name_Jaguar', 'brand_name_Jeep',\n",
       "       'brand_name_Kia', 'brand_name_Lamborghini', 'brand_name_Land',\n",
       "       'brand_name_Lexus', 'brand_name_MG', 'brand_name_Mahindra',\n",
       "       'brand_name_Maruti', 'brand_name_Maserati', 'brand_name_Mercedes-AMG',\n",
       "       'brand_name_Mercedes-Benz', 'brand_name_Mini', 'brand_name_Mitsubishi',\n",
       "       'brand_name_Nissan', 'brand_name_Opel', 'brand_name_OpelCorsa',\n",
       "       'brand_name_Porsche', 'brand_name_Premier', 'brand_name_Renault',\n",
       "       'brand_name_Rolls-Royce', 'brand_name_Skoda', 'brand_name_Tata',\n",
       "       'brand_name_Toyota', 'brand_name_Volkswagen', 'brand_name_Volvo',\n",
       "       'price', 'seller_type_Dealer', 'seller_type_Individual',\n",
       "       'seller_type_Trustmark Dealer', 'fuel_type_CNG', 'fuel_type_Diesel',\n",
       "       'fuel_type_Electric', 'fuel_type_LPG', 'fuel_type_Petrol',\n",
       "       'transmission_type_Automatic', 'transmission_type_Manual'],\n",
       "      dtype='object')"
      ]
     },
     "execution_count": 57,
     "metadata": {},
     "output_type": "execute_result"
    }
   ],
   "source": [
    "final_df.columns"
   ]
  },
  {
   "cell_type": "raw",
   "id": "00a1224e",
   "metadata": {},
   "source": [
    "Categorical \n",
    "\n",
    "    1. Ordinal --- >> label encoding(replace, labelEncoder) S, M, L == \n",
    "    2. Nominal --- >> one hot encoding (pd.get_dummies) e.g BMW, Audi, Mercedes "
   ]
  },
  {
   "cell_type": "raw",
   "id": "5b716eb1",
   "metadata": {},
   "source": [
    "pd.get_dummies(drop_first=True)\n",
    "\n",
    "\n",
    "value    BMW, Audi, Mercedes \n",
    "\n",
    "BMW       1   0       0\n",
    "Audi      0   1       0\n",
    "Mercedes  0   0       1\n",
    "\n",
    "\n",
    "DROP_First = true\n",
    "\n",
    "value    BMW, Mercedes \n",
    "\n",
    "BMW       1        0\n",
    "Audi      0        0\n",
    "Mercedes  0        1\n",
    "Mercedes  0        1\n",
    "BMW       1        0\n",
    "Audi      0        0\n"
   ]
  },
  {
   "cell_type": "raw",
   "id": "341adcdc",
   "metadata": {},
   "source": [
    "Model Training \n",
    "Model Evaluation  >> final model \n",
    "\n",
    "User test Function \n"
   ]
  },
  {
   "cell_type": "code",
   "execution_count": 87,
   "id": "85d71435",
   "metadata": {},
   "outputs": [
    {
     "name": "stdout",
     "output_type": "stream",
     "text": [
      "<class 'pandas.core.frame.DataFrame'>\n",
      "RangeIndex: 19974 entries, 0 to 19973\n",
      "Data columns (total 58 columns):\n",
      " #   Column                        Non-Null Count  Dtype  \n",
      "---  ------                        --------------  -----  \n",
      " 0   km_driven                     19974 non-null  int64  \n",
      " 1   mileage                       19974 non-null  float64\n",
      " 2   engine                        19974 non-null  float64\n",
      " 3   max_power                     19974 non-null  float64\n",
      " 4   seats                         19974 non-null  float64\n",
      " 5   brand_name_Ambassador         19974 non-null  uint8  \n",
      " 6   brand_name_Audi               19974 non-null  uint8  \n",
      " 7   brand_name_BMW                19974 non-null  uint8  \n",
      " 8   brand_name_Bentley            19974 non-null  uint8  \n",
      " 9   brand_name_Chevrolet          19974 non-null  uint8  \n",
      " 10  brand_name_DC                 19974 non-null  uint8  \n",
      " 11  brand_name_Daewoo             19974 non-null  uint8  \n",
      " 12  brand_name_Datsun             19974 non-null  uint8  \n",
      " 13  brand_name_Ferrari            19974 non-null  uint8  \n",
      " 14  brand_name_Fiat               19974 non-null  uint8  \n",
      " 15  brand_name_Force              19974 non-null  uint8  \n",
      " 16  brand_name_Ford               19974 non-null  uint8  \n",
      " 17  brand_name_Honda              19974 non-null  uint8  \n",
      " 18  brand_name_Hyundai            19974 non-null  uint8  \n",
      " 19  brand_name_ISUZU              19974 non-null  uint8  \n",
      " 20  brand_name_Isuzu              19974 non-null  uint8  \n",
      " 21  brand_name_Jaguar             19974 non-null  uint8  \n",
      " 22  brand_name_Jeep               19974 non-null  uint8  \n",
      " 23  brand_name_Kia                19974 non-null  uint8  \n",
      " 24  brand_name_Lamborghini        19974 non-null  uint8  \n",
      " 25  brand_name_Land               19974 non-null  uint8  \n",
      " 26  brand_name_Lexus              19974 non-null  uint8  \n",
      " 27  brand_name_MG                 19974 non-null  uint8  \n",
      " 28  brand_name_Mahindra           19974 non-null  uint8  \n",
      " 29  brand_name_Maruti             19974 non-null  uint8  \n",
      " 30  brand_name_Maserati           19974 non-null  uint8  \n",
      " 31  brand_name_Mercedes-AMG       19974 non-null  uint8  \n",
      " 32  brand_name_Mercedes-Benz      19974 non-null  uint8  \n",
      " 33  brand_name_Mini               19974 non-null  uint8  \n",
      " 34  brand_name_Mitsubishi         19974 non-null  uint8  \n",
      " 35  brand_name_Nissan             19974 non-null  uint8  \n",
      " 36  brand_name_Opel               19974 non-null  uint8  \n",
      " 37  brand_name_OpelCorsa          19974 non-null  uint8  \n",
      " 38  brand_name_Porsche            19974 non-null  uint8  \n",
      " 39  brand_name_Premier            19974 non-null  uint8  \n",
      " 40  brand_name_Renault            19974 non-null  uint8  \n",
      " 41  brand_name_Rolls-Royce        19974 non-null  uint8  \n",
      " 42  brand_name_Skoda              19974 non-null  uint8  \n",
      " 43  brand_name_Tata               19974 non-null  uint8  \n",
      " 44  brand_name_Toyota             19974 non-null  uint8  \n",
      " 45  brand_name_Volkswagen         19974 non-null  uint8  \n",
      " 46  brand_name_Volvo              19974 non-null  uint8  \n",
      " 47  price                         19974 non-null  int64  \n",
      " 48  seller_type_Dealer            19974 non-null  uint8  \n",
      " 49  seller_type_Individual        19974 non-null  uint8  \n",
      " 50  seller_type_Trustmark Dealer  19974 non-null  uint8  \n",
      " 51  fuel_type_CNG                 19974 non-null  uint8  \n",
      " 52  fuel_type_Diesel              19974 non-null  uint8  \n",
      " 53  fuel_type_Electric            19974 non-null  uint8  \n",
      " 54  fuel_type_LPG                 19974 non-null  uint8  \n",
      " 55  fuel_type_Petrol              19974 non-null  uint8  \n",
      " 56  transmission_type_Automatic   19974 non-null  uint8  \n",
      " 57  transmission_type_Manual      19974 non-null  uint8  \n",
      "dtypes: float64(4), int64(2), uint8(52)\n",
      "memory usage: 1.9 MB\n"
     ]
    }
   ],
   "source": [
    "final_df.info()"
   ]
  },
  {
   "cell_type": "code",
   "execution_count": 88,
   "id": "44371dc9",
   "metadata": {},
   "outputs": [
    {
     "data": {
      "text/plain": [
       "km_driven                       0\n",
       "mileage                         0\n",
       "engine                          0\n",
       "max_power                       0\n",
       "seats                           0\n",
       "brand_name_Ambassador           0\n",
       "brand_name_Audi                 0\n",
       "brand_name_BMW                  0\n",
       "brand_name_Bentley              0\n",
       "brand_name_Chevrolet            0\n",
       "brand_name_DC                   0\n",
       "brand_name_Daewoo               0\n",
       "brand_name_Datsun               0\n",
       "brand_name_Ferrari              0\n",
       "brand_name_Fiat                 0\n",
       "brand_name_Force                0\n",
       "brand_name_Ford                 0\n",
       "brand_name_Honda                0\n",
       "brand_name_Hyundai              0\n",
       "brand_name_ISUZU                0\n",
       "brand_name_Isuzu                0\n",
       "brand_name_Jaguar               0\n",
       "brand_name_Jeep                 0\n",
       "brand_name_Kia                  0\n",
       "brand_name_Lamborghini          0\n",
       "brand_name_Land                 0\n",
       "brand_name_Lexus                0\n",
       "brand_name_MG                   0\n",
       "brand_name_Mahindra             0\n",
       "brand_name_Maruti               0\n",
       "brand_name_Maserati             0\n",
       "brand_name_Mercedes-AMG         0\n",
       "brand_name_Mercedes-Benz        0\n",
       "brand_name_Mini                 0\n",
       "brand_name_Mitsubishi           0\n",
       "brand_name_Nissan               0\n",
       "brand_name_Opel                 0\n",
       "brand_name_OpelCorsa            0\n",
       "brand_name_Porsche              0\n",
       "brand_name_Premier              0\n",
       "brand_name_Renault              0\n",
       "brand_name_Rolls-Royce          0\n",
       "brand_name_Skoda                0\n",
       "brand_name_Tata                 0\n",
       "brand_name_Toyota               0\n",
       "brand_name_Volkswagen           0\n",
       "brand_name_Volvo                0\n",
       "price                           0\n",
       "seller_type_Dealer              0\n",
       "seller_type_Individual          0\n",
       "seller_type_Trustmark Dealer    0\n",
       "fuel_type_CNG                   0\n",
       "fuel_type_Diesel                0\n",
       "fuel_type_Electric              0\n",
       "fuel_type_LPG                   0\n",
       "fuel_type_Petrol                0\n",
       "transmission_type_Automatic     0\n",
       "transmission_type_Manual        0\n",
       "dtype: int64"
      ]
     },
     "execution_count": 88,
     "metadata": {},
     "output_type": "execute_result"
    }
   ],
   "source": [
    "final_df.isna().sum()"
   ]
  },
  {
   "cell_type": "markdown",
   "id": "8a5e69ef",
   "metadata": {},
   "source": [
    "### Step 6: Model Training"
   ]
  },
  {
   "cell_type": "code",
   "execution_count": 91,
   "id": "e009196a",
   "metadata": {},
   "outputs": [],
   "source": [
    "from sklearn.model_selection import train_test_split\n",
    "from sklearn.linear_model import LinearRegression\n",
    "from sklearn. metrics import mean_absolute_error, mean_squared_error, r2_score\n",
    "\n",
    "\n",
    "x = final_df.drop('price',axis = 1)\n",
    "y = final_df['price']\n",
    "\n",
    "x_train, x_test, y_train, y_test =train_test_split(x,y, random_state = 25, test_size = 0.20)"
   ]
  },
  {
   "cell_type": "code",
   "execution_count": 92,
   "id": "7bd74891",
   "metadata": {},
   "outputs": [
    {
     "data": {
      "text/html": [
       "<style>#sk-container-id-1 {color: black;background-color: white;}#sk-container-id-1 pre{padding: 0;}#sk-container-id-1 div.sk-toggleable {background-color: white;}#sk-container-id-1 label.sk-toggleable__label {cursor: pointer;display: block;width: 100%;margin-bottom: 0;padding: 0.3em;box-sizing: border-box;text-align: center;}#sk-container-id-1 label.sk-toggleable__label-arrow:before {content: \"▸\";float: left;margin-right: 0.25em;color: #696969;}#sk-container-id-1 label.sk-toggleable__label-arrow:hover:before {color: black;}#sk-container-id-1 div.sk-estimator:hover label.sk-toggleable__label-arrow:before {color: black;}#sk-container-id-1 div.sk-toggleable__content {max-height: 0;max-width: 0;overflow: hidden;text-align: left;background-color: #f0f8ff;}#sk-container-id-1 div.sk-toggleable__content pre {margin: 0.2em;color: black;border-radius: 0.25em;background-color: #f0f8ff;}#sk-container-id-1 input.sk-toggleable__control:checked~div.sk-toggleable__content {max-height: 200px;max-width: 100%;overflow: auto;}#sk-container-id-1 input.sk-toggleable__control:checked~label.sk-toggleable__label-arrow:before {content: \"▾\";}#sk-container-id-1 div.sk-estimator input.sk-toggleable__control:checked~label.sk-toggleable__label {background-color: #d4ebff;}#sk-container-id-1 div.sk-label input.sk-toggleable__control:checked~label.sk-toggleable__label {background-color: #d4ebff;}#sk-container-id-1 input.sk-hidden--visually {border: 0;clip: rect(1px 1px 1px 1px);clip: rect(1px, 1px, 1px, 1px);height: 1px;margin: -1px;overflow: hidden;padding: 0;position: absolute;width: 1px;}#sk-container-id-1 div.sk-estimator {font-family: monospace;background-color: #f0f8ff;border: 1px dotted black;border-radius: 0.25em;box-sizing: border-box;margin-bottom: 0.5em;}#sk-container-id-1 div.sk-estimator:hover {background-color: #d4ebff;}#sk-container-id-1 div.sk-parallel-item::after {content: \"\";width: 100%;border-bottom: 1px solid gray;flex-grow: 1;}#sk-container-id-1 div.sk-label:hover label.sk-toggleable__label {background-color: #d4ebff;}#sk-container-id-1 div.sk-serial::before {content: \"\";position: absolute;border-left: 1px solid gray;box-sizing: border-box;top: 0;bottom: 0;left: 50%;z-index: 0;}#sk-container-id-1 div.sk-serial {display: flex;flex-direction: column;align-items: center;background-color: white;padding-right: 0.2em;padding-left: 0.2em;position: relative;}#sk-container-id-1 div.sk-item {position: relative;z-index: 1;}#sk-container-id-1 div.sk-parallel {display: flex;align-items: stretch;justify-content: center;background-color: white;position: relative;}#sk-container-id-1 div.sk-item::before, #sk-container-id-1 div.sk-parallel-item::before {content: \"\";position: absolute;border-left: 1px solid gray;box-sizing: border-box;top: 0;bottom: 0;left: 50%;z-index: -1;}#sk-container-id-1 div.sk-parallel-item {display: flex;flex-direction: column;z-index: 1;position: relative;background-color: white;}#sk-container-id-1 div.sk-parallel-item:first-child::after {align-self: flex-end;width: 50%;}#sk-container-id-1 div.sk-parallel-item:last-child::after {align-self: flex-start;width: 50%;}#sk-container-id-1 div.sk-parallel-item:only-child::after {width: 0;}#sk-container-id-1 div.sk-dashed-wrapped {border: 1px dashed gray;margin: 0 0.4em 0.5em 0.4em;box-sizing: border-box;padding-bottom: 0.4em;background-color: white;}#sk-container-id-1 div.sk-label label {font-family: monospace;font-weight: bold;display: inline-block;line-height: 1.2em;}#sk-container-id-1 div.sk-label-container {text-align: center;}#sk-container-id-1 div.sk-container {/* jupyter's `normalize.less` sets `[hidden] { display: none; }` but bootstrap.min.css set `[hidden] { display: none !important; }` so we also need the `!important` here to be able to override the default hidden behavior on the sphinx rendered scikit-learn.org. See: https://github.com/scikit-learn/scikit-learn/issues/21755 */display: inline-block !important;position: relative;}#sk-container-id-1 div.sk-text-repr-fallback {display: none;}</style><div id=\"sk-container-id-1\" class=\"sk-top-container\"><div class=\"sk-text-repr-fallback\"><pre>LinearRegression()</pre><b>In a Jupyter environment, please rerun this cell to show the HTML representation or trust the notebook. <br />On GitHub, the HTML representation is unable to render, please try loading this page with nbviewer.org.</b></div><div class=\"sk-container\" hidden><div class=\"sk-item\"><div class=\"sk-estimator sk-toggleable\"><input class=\"sk-toggleable__control sk-hidden--visually\" id=\"sk-estimator-id-1\" type=\"checkbox\" checked><label for=\"sk-estimator-id-1\" class=\"sk-toggleable__label sk-toggleable__label-arrow\">LinearRegression</label><div class=\"sk-toggleable__content\"><pre>LinearRegression()</pre></div></div></div></div></div>"
      ],
      "text/plain": [
       "LinearRegression()"
      ]
     },
     "execution_count": 92,
     "metadata": {},
     "output_type": "execute_result"
    }
   ],
   "source": [
    "### Model Tranining \n",
    "\n",
    "lin_reg_model = LinearRegression()\n",
    "lin_reg_model.fit(x_train,y_train)"
   ]
  },
  {
   "cell_type": "code",
   "execution_count": 93,
   "id": "55a39fb6",
   "metadata": {},
   "outputs": [
    {
     "name": "stdout",
     "output_type": "stream",
     "text": [
      "MSE = 220321571040.52103\n",
      "RMSE = 469384.24668976804\n",
      "MAE = 237378.54586475823\n",
      "R - Sequared Value = 0.6954664376098187\n"
     ]
    }
   ],
   "source": [
    "### Model Evaluation \n",
    "\n",
    "### Testing  Data \n",
    "y_pred = lin_reg_model.predict(x_test)\n",
    "\n",
    "def model_eval(actual,pred):\n",
    "    mse = mean_squared_error(actual,pred)\n",
    "    print(f\"MSE = {mse}\")\n",
    "    print(f\"RMSE = {np.sqrt(mse)}\")\n",
    "    \n",
    "    mae = mean_absolute_error(actual, pred)\n",
    "    print(f\"MAE = {mae}\")\n",
    "    \n",
    "    r2 = r2_score(actual,pred)\n",
    "    print(f\"R - Sequared Value = {r2}\")\n",
    "    \n",
    "model_eval(y_test, y_pred)"
   ]
  },
  {
   "cell_type": "code",
   "execution_count": 94,
   "id": "7c68a72c",
   "metadata": {},
   "outputs": [
    {
     "name": "stdout",
     "output_type": "stream",
     "text": [
      "MSE = 225162050714.6808\n",
      "RMSE = 474512.4347313575\n",
      "MAE = 231107.40940554\n",
      "R - Sequared Value = 0.7366835534678873\n"
     ]
    }
   ],
   "source": [
    "### Training data \n",
    "\n",
    "y_pred = lin_reg_model.predict(x_train)\n",
    "model_eval(y_train,y_pred)"
   ]
  },
  {
   "cell_type": "code",
   "execution_count": null,
   "id": "e5b733e4",
   "metadata": {},
   "outputs": [],
   "source": [
    "Bias - Variance \n",
    "high  -  Low >> underfitting "
   ]
  },
  {
   "cell_type": "code",
   "execution_count": 95,
   "id": "8c940d17",
   "metadata": {},
   "outputs": [
    {
     "data": {
      "text/plain": [
       "(15979, 57)"
      ]
     },
     "execution_count": 95,
     "metadata": {},
     "output_type": "execute_result"
    }
   ],
   "source": [
    "x_train.shape"
   ]
  },
  {
   "cell_type": "code",
   "execution_count": null,
   "id": "e58af287",
   "metadata": {},
   "outputs": [],
   "source": [
    "### KNN "
   ]
  },
  {
   "cell_type": "code",
   "execution_count": null,
   "id": "490f1156",
   "metadata": {},
   "outputs": [],
   "source": [
    "### Decision Tree "
   ]
  },
  {
   "cell_type": "code",
   "execution_count": 103,
   "id": "bd0416aa",
   "metadata": {},
   "outputs": [
    {
     "data": {
      "text/html": [
       "<style>#sk-container-id-5 {color: black;background-color: white;}#sk-container-id-5 pre{padding: 0;}#sk-container-id-5 div.sk-toggleable {background-color: white;}#sk-container-id-5 label.sk-toggleable__label {cursor: pointer;display: block;width: 100%;margin-bottom: 0;padding: 0.3em;box-sizing: border-box;text-align: center;}#sk-container-id-5 label.sk-toggleable__label-arrow:before {content: \"▸\";float: left;margin-right: 0.25em;color: #696969;}#sk-container-id-5 label.sk-toggleable__label-arrow:hover:before {color: black;}#sk-container-id-5 div.sk-estimator:hover label.sk-toggleable__label-arrow:before {color: black;}#sk-container-id-5 div.sk-toggleable__content {max-height: 0;max-width: 0;overflow: hidden;text-align: left;background-color: #f0f8ff;}#sk-container-id-5 div.sk-toggleable__content pre {margin: 0.2em;color: black;border-radius: 0.25em;background-color: #f0f8ff;}#sk-container-id-5 input.sk-toggleable__control:checked~div.sk-toggleable__content {max-height: 200px;max-width: 100%;overflow: auto;}#sk-container-id-5 input.sk-toggleable__control:checked~label.sk-toggleable__label-arrow:before {content: \"▾\";}#sk-container-id-5 div.sk-estimator input.sk-toggleable__control:checked~label.sk-toggleable__label {background-color: #d4ebff;}#sk-container-id-5 div.sk-label input.sk-toggleable__control:checked~label.sk-toggleable__label {background-color: #d4ebff;}#sk-container-id-5 input.sk-hidden--visually {border: 0;clip: rect(1px 1px 1px 1px);clip: rect(1px, 1px, 1px, 1px);height: 1px;margin: -1px;overflow: hidden;padding: 0;position: absolute;width: 1px;}#sk-container-id-5 div.sk-estimator {font-family: monospace;background-color: #f0f8ff;border: 1px dotted black;border-radius: 0.25em;box-sizing: border-box;margin-bottom: 0.5em;}#sk-container-id-5 div.sk-estimator:hover {background-color: #d4ebff;}#sk-container-id-5 div.sk-parallel-item::after {content: \"\";width: 100%;border-bottom: 1px solid gray;flex-grow: 1;}#sk-container-id-5 div.sk-label:hover label.sk-toggleable__label {background-color: #d4ebff;}#sk-container-id-5 div.sk-serial::before {content: \"\";position: absolute;border-left: 1px solid gray;box-sizing: border-box;top: 0;bottom: 0;left: 50%;z-index: 0;}#sk-container-id-5 div.sk-serial {display: flex;flex-direction: column;align-items: center;background-color: white;padding-right: 0.2em;padding-left: 0.2em;position: relative;}#sk-container-id-5 div.sk-item {position: relative;z-index: 1;}#sk-container-id-5 div.sk-parallel {display: flex;align-items: stretch;justify-content: center;background-color: white;position: relative;}#sk-container-id-5 div.sk-item::before, #sk-container-id-5 div.sk-parallel-item::before {content: \"\";position: absolute;border-left: 1px solid gray;box-sizing: border-box;top: 0;bottom: 0;left: 50%;z-index: -1;}#sk-container-id-5 div.sk-parallel-item {display: flex;flex-direction: column;z-index: 1;position: relative;background-color: white;}#sk-container-id-5 div.sk-parallel-item:first-child::after {align-self: flex-end;width: 50%;}#sk-container-id-5 div.sk-parallel-item:last-child::after {align-self: flex-start;width: 50%;}#sk-container-id-5 div.sk-parallel-item:only-child::after {width: 0;}#sk-container-id-5 div.sk-dashed-wrapped {border: 1px dashed gray;margin: 0 0.4em 0.5em 0.4em;box-sizing: border-box;padding-bottom: 0.4em;background-color: white;}#sk-container-id-5 div.sk-label label {font-family: monospace;font-weight: bold;display: inline-block;line-height: 1.2em;}#sk-container-id-5 div.sk-label-container {text-align: center;}#sk-container-id-5 div.sk-container {/* jupyter's `normalize.less` sets `[hidden] { display: none; }` but bootstrap.min.css set `[hidden] { display: none !important; }` so we also need the `!important` here to be able to override the default hidden behavior on the sphinx rendered scikit-learn.org. See: https://github.com/scikit-learn/scikit-learn/issues/21755 */display: inline-block !important;position: relative;}#sk-container-id-5 div.sk-text-repr-fallback {display: none;}</style><div id=\"sk-container-id-5\" class=\"sk-top-container\"><div class=\"sk-text-repr-fallback\"><pre>DecisionTreeRegressor(random_state=10)</pre><b>In a Jupyter environment, please rerun this cell to show the HTML representation or trust the notebook. <br />On GitHub, the HTML representation is unable to render, please try loading this page with nbviewer.org.</b></div><div class=\"sk-container\" hidden><div class=\"sk-item\"><div class=\"sk-estimator sk-toggleable\"><input class=\"sk-toggleable__control sk-hidden--visually\" id=\"sk-estimator-id-5\" type=\"checkbox\" checked><label for=\"sk-estimator-id-5\" class=\"sk-toggleable__label sk-toggleable__label-arrow\">DecisionTreeRegressor</label><div class=\"sk-toggleable__content\"><pre>DecisionTreeRegressor(random_state=10)</pre></div></div></div></div></div>"
      ],
      "text/plain": [
       "DecisionTreeRegressor(random_state=10)"
      ]
     },
     "execution_count": 103,
     "metadata": {},
     "output_type": "execute_result"
    }
   ],
   "source": [
    "from sklearn.tree import DecisionTreeRegressor\n",
    "x_train, x_test, y_train, y_test =train_test_split(x,y, random_state = 25, test_size = 0.30)\n",
    "dt_model = DecisionTreeRegressor(random_state=10)\n",
    "dt_model.fit(x_train,y_train)"
   ]
  },
  {
   "cell_type": "code",
   "execution_count": 104,
   "id": "dc881e70",
   "metadata": {},
   "outputs": [
    {
     "name": "stdout",
     "output_type": "stream",
     "text": [
      "Testing  Data Metrics\n",
      "MSE = 174709939194.37408\n",
      "RMSE = 417983.18051612325\n",
      "MAE = 172158.6225545002\n",
      "R - Sequared Value = 0.7708644796320698\n",
      "******************************\n",
      "Training Data Metrics\n",
      "MSE = 1571597016.9114728\n",
      "RMSE = 39643.372925515214\n",
      "MAE = 12943.109689546718\n",
      "R - Sequared Value = 0.9981666064867618\n"
     ]
    }
   ],
   "source": [
    "print(f\"Testing  Data Metrics\")\n",
    "y_pred = dt_model.predict(x_test)\n",
    "model_eval(y_test, y_pred)\n",
    "print(\"*\"*30)\n",
    "print(f\"Training Data Metrics\")\n",
    "y_pred = dt_model.predict(x_train)\n",
    "model_eval(y_train,y_pred)"
   ]
  },
  {
   "cell_type": "raw",
   "id": "176af232",
   "metadata": {},
   "source": [
    "Bias - Variance \n",
    "low  -  high >> underfitting "
   ]
  },
  {
   "cell_type": "code",
   "execution_count": 107,
   "id": "002ef60b",
   "metadata": {},
   "outputs": [
    {
     "data": {
      "text/html": [
       "<style>#sk-container-id-6 {color: black;background-color: white;}#sk-container-id-6 pre{padding: 0;}#sk-container-id-6 div.sk-toggleable {background-color: white;}#sk-container-id-6 label.sk-toggleable__label {cursor: pointer;display: block;width: 100%;margin-bottom: 0;padding: 0.3em;box-sizing: border-box;text-align: center;}#sk-container-id-6 label.sk-toggleable__label-arrow:before {content: \"▸\";float: left;margin-right: 0.25em;color: #696969;}#sk-container-id-6 label.sk-toggleable__label-arrow:hover:before {color: black;}#sk-container-id-6 div.sk-estimator:hover label.sk-toggleable__label-arrow:before {color: black;}#sk-container-id-6 div.sk-toggleable__content {max-height: 0;max-width: 0;overflow: hidden;text-align: left;background-color: #f0f8ff;}#sk-container-id-6 div.sk-toggleable__content pre {margin: 0.2em;color: black;border-radius: 0.25em;background-color: #f0f8ff;}#sk-container-id-6 input.sk-toggleable__control:checked~div.sk-toggleable__content {max-height: 200px;max-width: 100%;overflow: auto;}#sk-container-id-6 input.sk-toggleable__control:checked~label.sk-toggleable__label-arrow:before {content: \"▾\";}#sk-container-id-6 div.sk-estimator input.sk-toggleable__control:checked~label.sk-toggleable__label {background-color: #d4ebff;}#sk-container-id-6 div.sk-label input.sk-toggleable__control:checked~label.sk-toggleable__label {background-color: #d4ebff;}#sk-container-id-6 input.sk-hidden--visually {border: 0;clip: rect(1px 1px 1px 1px);clip: rect(1px, 1px, 1px, 1px);height: 1px;margin: -1px;overflow: hidden;padding: 0;position: absolute;width: 1px;}#sk-container-id-6 div.sk-estimator {font-family: monospace;background-color: #f0f8ff;border: 1px dotted black;border-radius: 0.25em;box-sizing: border-box;margin-bottom: 0.5em;}#sk-container-id-6 div.sk-estimator:hover {background-color: #d4ebff;}#sk-container-id-6 div.sk-parallel-item::after {content: \"\";width: 100%;border-bottom: 1px solid gray;flex-grow: 1;}#sk-container-id-6 div.sk-label:hover label.sk-toggleable__label {background-color: #d4ebff;}#sk-container-id-6 div.sk-serial::before {content: \"\";position: absolute;border-left: 1px solid gray;box-sizing: border-box;top: 0;bottom: 0;left: 50%;z-index: 0;}#sk-container-id-6 div.sk-serial {display: flex;flex-direction: column;align-items: center;background-color: white;padding-right: 0.2em;padding-left: 0.2em;position: relative;}#sk-container-id-6 div.sk-item {position: relative;z-index: 1;}#sk-container-id-6 div.sk-parallel {display: flex;align-items: stretch;justify-content: center;background-color: white;position: relative;}#sk-container-id-6 div.sk-item::before, #sk-container-id-6 div.sk-parallel-item::before {content: \"\";position: absolute;border-left: 1px solid gray;box-sizing: border-box;top: 0;bottom: 0;left: 50%;z-index: -1;}#sk-container-id-6 div.sk-parallel-item {display: flex;flex-direction: column;z-index: 1;position: relative;background-color: white;}#sk-container-id-6 div.sk-parallel-item:first-child::after {align-self: flex-end;width: 50%;}#sk-container-id-6 div.sk-parallel-item:last-child::after {align-self: flex-start;width: 50%;}#sk-container-id-6 div.sk-parallel-item:only-child::after {width: 0;}#sk-container-id-6 div.sk-dashed-wrapped {border: 1px dashed gray;margin: 0 0.4em 0.5em 0.4em;box-sizing: border-box;padding-bottom: 0.4em;background-color: white;}#sk-container-id-6 div.sk-label label {font-family: monospace;font-weight: bold;display: inline-block;line-height: 1.2em;}#sk-container-id-6 div.sk-label-container {text-align: center;}#sk-container-id-6 div.sk-container {/* jupyter's `normalize.less` sets `[hidden] { display: none; }` but bootstrap.min.css set `[hidden] { display: none !important; }` so we also need the `!important` here to be able to override the default hidden behavior on the sphinx rendered scikit-learn.org. See: https://github.com/scikit-learn/scikit-learn/issues/21755 */display: inline-block !important;position: relative;}#sk-container-id-6 div.sk-text-repr-fallback {display: none;}</style><div id=\"sk-container-id-6\" class=\"sk-top-container\"><div class=\"sk-text-repr-fallback\"><pre>RandomizedSearchCV(cv=5, estimator=DecisionTreeRegressor(random_state=10),\n",
       "                   param_distributions={&#x27;criterion&#x27;: [&#x27;squared_error&#x27;,\n",
       "                                                      &#x27;absolute_error&#x27;],\n",
       "                                        &#x27;max_depth&#x27;: array([5, 6, 7, 8, 9]),\n",
       "                                        &#x27;min_samples_leaf&#x27;: array([1, 2, 3, 4]),\n",
       "                                        &#x27;min_samples_split&#x27;: array([2, 3, 4])})</pre><b>In a Jupyter environment, please rerun this cell to show the HTML representation or trust the notebook. <br />On GitHub, the HTML representation is unable to render, please try loading this page with nbviewer.org.</b></div><div class=\"sk-container\" hidden><div class=\"sk-item sk-dashed-wrapped\"><div class=\"sk-label-container\"><div class=\"sk-label sk-toggleable\"><input class=\"sk-toggleable__control sk-hidden--visually\" id=\"sk-estimator-id-6\" type=\"checkbox\" ><label for=\"sk-estimator-id-6\" class=\"sk-toggleable__label sk-toggleable__label-arrow\">RandomizedSearchCV</label><div class=\"sk-toggleable__content\"><pre>RandomizedSearchCV(cv=5, estimator=DecisionTreeRegressor(random_state=10),\n",
       "                   param_distributions={&#x27;criterion&#x27;: [&#x27;squared_error&#x27;,\n",
       "                                                      &#x27;absolute_error&#x27;],\n",
       "                                        &#x27;max_depth&#x27;: array([5, 6, 7, 8, 9]),\n",
       "                                        &#x27;min_samples_leaf&#x27;: array([1, 2, 3, 4]),\n",
       "                                        &#x27;min_samples_split&#x27;: array([2, 3, 4])})</pre></div></div></div><div class=\"sk-parallel\"><div class=\"sk-parallel-item\"><div class=\"sk-item\"><div class=\"sk-label-container\"><div class=\"sk-label sk-toggleable\"><input class=\"sk-toggleable__control sk-hidden--visually\" id=\"sk-estimator-id-7\" type=\"checkbox\" ><label for=\"sk-estimator-id-7\" class=\"sk-toggleable__label sk-toggleable__label-arrow\">estimator: DecisionTreeRegressor</label><div class=\"sk-toggleable__content\"><pre>DecisionTreeRegressor(random_state=10)</pre></div></div></div><div class=\"sk-serial\"><div class=\"sk-item\"><div class=\"sk-estimator sk-toggleable\"><input class=\"sk-toggleable__control sk-hidden--visually\" id=\"sk-estimator-id-8\" type=\"checkbox\" ><label for=\"sk-estimator-id-8\" class=\"sk-toggleable__label sk-toggleable__label-arrow\">DecisionTreeRegressor</label><div class=\"sk-toggleable__content\"><pre>DecisionTreeRegressor(random_state=10)</pre></div></div></div></div></div></div></div></div></div></div>"
      ],
      "text/plain": [
       "RandomizedSearchCV(cv=5, estimator=DecisionTreeRegressor(random_state=10),\n",
       "                   param_distributions={'criterion': ['squared_error',\n",
       "                                                      'absolute_error'],\n",
       "                                        'max_depth': array([5, 6, 7, 8, 9]),\n",
       "                                        'min_samples_leaf': array([1, 2, 3, 4]),\n",
       "                                        'min_samples_split': array([2, 3, 4])})"
      ]
     },
     "execution_count": 107,
     "metadata": {},
     "output_type": "execute_result"
    }
   ],
   "source": [
    "dt_hyp_model = DecisionTreeRegressor(random_state=10)\n",
    "hyp = {\n",
    "    'criterion': ['squared_error','absolute_error'],\n",
    "    'max_depth': np.arange(5,10),\n",
    "    'min_samples_split': np.arange(2,5),\n",
    "    'min_samples_leaf':np.arange(1,5)\n",
    "}\n",
    "\n",
    "from sklearn.model_selection import RandomizedSearchCV\n",
    "\n",
    "rscv = RandomizedSearchCV(dt_hyp_model, hyp, cv = 5)\n",
    "rscv.fit(x_train,y_train)"
   ]
  },
  {
   "cell_type": "code",
   "execution_count": 108,
   "id": "3c82ba96",
   "metadata": {},
   "outputs": [
    {
     "data": {
      "text/html": [
       "<style>#sk-container-id-7 {color: black;background-color: white;}#sk-container-id-7 pre{padding: 0;}#sk-container-id-7 div.sk-toggleable {background-color: white;}#sk-container-id-7 label.sk-toggleable__label {cursor: pointer;display: block;width: 100%;margin-bottom: 0;padding: 0.3em;box-sizing: border-box;text-align: center;}#sk-container-id-7 label.sk-toggleable__label-arrow:before {content: \"▸\";float: left;margin-right: 0.25em;color: #696969;}#sk-container-id-7 label.sk-toggleable__label-arrow:hover:before {color: black;}#sk-container-id-7 div.sk-estimator:hover label.sk-toggleable__label-arrow:before {color: black;}#sk-container-id-7 div.sk-toggleable__content {max-height: 0;max-width: 0;overflow: hidden;text-align: left;background-color: #f0f8ff;}#sk-container-id-7 div.sk-toggleable__content pre {margin: 0.2em;color: black;border-radius: 0.25em;background-color: #f0f8ff;}#sk-container-id-7 input.sk-toggleable__control:checked~div.sk-toggleable__content {max-height: 200px;max-width: 100%;overflow: auto;}#sk-container-id-7 input.sk-toggleable__control:checked~label.sk-toggleable__label-arrow:before {content: \"▾\";}#sk-container-id-7 div.sk-estimator input.sk-toggleable__control:checked~label.sk-toggleable__label {background-color: #d4ebff;}#sk-container-id-7 div.sk-label input.sk-toggleable__control:checked~label.sk-toggleable__label {background-color: #d4ebff;}#sk-container-id-7 input.sk-hidden--visually {border: 0;clip: rect(1px 1px 1px 1px);clip: rect(1px, 1px, 1px, 1px);height: 1px;margin: -1px;overflow: hidden;padding: 0;position: absolute;width: 1px;}#sk-container-id-7 div.sk-estimator {font-family: monospace;background-color: #f0f8ff;border: 1px dotted black;border-radius: 0.25em;box-sizing: border-box;margin-bottom: 0.5em;}#sk-container-id-7 div.sk-estimator:hover {background-color: #d4ebff;}#sk-container-id-7 div.sk-parallel-item::after {content: \"\";width: 100%;border-bottom: 1px solid gray;flex-grow: 1;}#sk-container-id-7 div.sk-label:hover label.sk-toggleable__label {background-color: #d4ebff;}#sk-container-id-7 div.sk-serial::before {content: \"\";position: absolute;border-left: 1px solid gray;box-sizing: border-box;top: 0;bottom: 0;left: 50%;z-index: 0;}#sk-container-id-7 div.sk-serial {display: flex;flex-direction: column;align-items: center;background-color: white;padding-right: 0.2em;padding-left: 0.2em;position: relative;}#sk-container-id-7 div.sk-item {position: relative;z-index: 1;}#sk-container-id-7 div.sk-parallel {display: flex;align-items: stretch;justify-content: center;background-color: white;position: relative;}#sk-container-id-7 div.sk-item::before, #sk-container-id-7 div.sk-parallel-item::before {content: \"\";position: absolute;border-left: 1px solid gray;box-sizing: border-box;top: 0;bottom: 0;left: 50%;z-index: -1;}#sk-container-id-7 div.sk-parallel-item {display: flex;flex-direction: column;z-index: 1;position: relative;background-color: white;}#sk-container-id-7 div.sk-parallel-item:first-child::after {align-self: flex-end;width: 50%;}#sk-container-id-7 div.sk-parallel-item:last-child::after {align-self: flex-start;width: 50%;}#sk-container-id-7 div.sk-parallel-item:only-child::after {width: 0;}#sk-container-id-7 div.sk-dashed-wrapped {border: 1px dashed gray;margin: 0 0.4em 0.5em 0.4em;box-sizing: border-box;padding-bottom: 0.4em;background-color: white;}#sk-container-id-7 div.sk-label label {font-family: monospace;font-weight: bold;display: inline-block;line-height: 1.2em;}#sk-container-id-7 div.sk-label-container {text-align: center;}#sk-container-id-7 div.sk-container {/* jupyter's `normalize.less` sets `[hidden] { display: none; }` but bootstrap.min.css set `[hidden] { display: none !important; }` so we also need the `!important` here to be able to override the default hidden behavior on the sphinx rendered scikit-learn.org. See: https://github.com/scikit-learn/scikit-learn/issues/21755 */display: inline-block !important;position: relative;}#sk-container-id-7 div.sk-text-repr-fallback {display: none;}</style><div id=\"sk-container-id-7\" class=\"sk-top-container\"><div class=\"sk-text-repr-fallback\"><pre>DecisionTreeRegressor(criterion=&#x27;absolute_error&#x27;, max_depth=8,\n",
       "                      min_samples_leaf=2, random_state=10)</pre><b>In a Jupyter environment, please rerun this cell to show the HTML representation or trust the notebook. <br />On GitHub, the HTML representation is unable to render, please try loading this page with nbviewer.org.</b></div><div class=\"sk-container\" hidden><div class=\"sk-item\"><div class=\"sk-estimator sk-toggleable\"><input class=\"sk-toggleable__control sk-hidden--visually\" id=\"sk-estimator-id-9\" type=\"checkbox\" checked><label for=\"sk-estimator-id-9\" class=\"sk-toggleable__label sk-toggleable__label-arrow\">DecisionTreeRegressor</label><div class=\"sk-toggleable__content\"><pre>DecisionTreeRegressor(criterion=&#x27;absolute_error&#x27;, max_depth=8,\n",
       "                      min_samples_leaf=2, random_state=10)</pre></div></div></div></div></div>"
      ],
      "text/plain": [
       "DecisionTreeRegressor(criterion='absolute_error', max_depth=8,\n",
       "                      min_samples_leaf=2, random_state=10)"
      ]
     },
     "execution_count": 108,
     "metadata": {},
     "output_type": "execute_result"
    }
   ],
   "source": [
    "rscv.best_estimator_"
   ]
  },
  {
   "cell_type": "code",
   "execution_count": 109,
   "id": "ff554179",
   "metadata": {},
   "outputs": [
    {
     "name": "stdout",
     "output_type": "stream",
     "text": [
      "Testing  Data Metrics\n",
      "MSE = 164378217428.85156\n",
      "RMSE = 405435.83638949774\n",
      "MAE = 179040.33722676456\n",
      "R - Sequared Value = 0.784414735867955\n",
      "******************************\n",
      "Training Data Metrics\n",
      "MSE = 120447067991.59023\n",
      "RMSE = 347054.8486789807\n",
      "MAE = 154379.16493813033\n",
      "R - Sequared Value = 0.8594888697496301\n"
     ]
    }
   ],
   "source": [
    "dt_hyp_model = rscv.best_estimator_\n",
    "dt_hyp_model.fit(x_train,y_train)\n",
    "\n",
    "\n",
    "print(f\"Testing  Data Metrics\")\n",
    "y_pred = dt_hyp_model.predict(x_test)\n",
    "model_eval(y_test, y_pred)\n",
    "print(\"*\"*30)\n",
    "print(f\"Training Data Metrics\")\n",
    "y_pred = dt_hyp_model.predict(x_train)\n",
    "model_eval(y_train,y_pred)\n"
   ]
  },
  {
   "cell_type": "code",
   "execution_count": null,
   "id": "635a8c32",
   "metadata": {},
   "outputs": [],
   "source": [
    "Bias - Variance \n",
    "high  - low varince "
   ]
  },
  {
   "cell_type": "code",
   "execution_count": 112,
   "id": "4d2178b7",
   "metadata": {},
   "outputs": [
    {
     "name": "stdout",
     "output_type": "stream",
     "text": [
      "Testing  Data Metrics\n",
      "MSE = 132719803557.63716\n",
      "RMSE = 364307.2927593368\n",
      "MAE = 145118.55036257204\n",
      "R - Sequared Value = 0.8259353681219304\n",
      "******************************\n",
      "Training Data Metrics\n",
      "MSE = 22546990484.67035\n",
      "RMSE = 150156.55325249827\n",
      "MAE = 58313.70332578155\n",
      "R - Sequared Value = 0.9736971337735961\n"
     ]
    }
   ],
   "source": [
    "### Random Forest \n",
    "\n",
    "from sklearn.ensemble import RandomForestRegressor\n",
    "rm_model = RandomForestRegressor(random_state = 5)\n",
    "rm_model.fit(x_train,y_train)\n",
    "\n",
    "def model_test(model): \n",
    "    print(f\"Testing  Data Metrics\")\n",
    "    y_pred = model.predict(x_test)\n",
    "    model_eval(y_test, y_pred)\n",
    "    print(\"*\"*30)\n",
    "    print(f\"Training Data Metrics\")\n",
    "    y_pred = model.predict(x_train)\n",
    "    model_eval(y_train,y_pred)"
   ]
  },
  {
   "cell_type": "code",
   "execution_count": null,
   "id": "0f8249e8",
   "metadata": {},
   "outputs": [],
   "source": [
    "Bias - Variance\n",
    "low - high"
   ]
  },
  {
   "cell_type": "code",
   "execution_count": 113,
   "id": "71629c45",
   "metadata": {},
   "outputs": [],
   "source": [
    "def mdoel_test(model): \n",
    "    print(f\"Testing  Data Metrics\")\n",
    "    y_pred = model.predict(x_test)\n",
    "    model_eval(y_test, y_pred)\n",
    "    print(\"*\"*30)\n",
    "    print(f\"Training Data Metrics\")\n",
    "    y_pred = model.predict(x_train)\n",
    "    model_eval(y_train,y_pred)"
   ]
  },
  {
   "cell_type": "code",
   "execution_count": 116,
   "id": "50af9cd7",
   "metadata": {},
   "outputs": [
    {
     "ename": "KeyboardInterrupt",
     "evalue": "",
     "output_type": "error",
     "traceback": [
      "\u001b[1;31m---------------------------------------------------------------------------\u001b[0m",
      "\u001b[1;31mKeyboardInterrupt\u001b[0m                         Traceback (most recent call last)",
      "Input \u001b[1;32mIn [116]\u001b[0m, in \u001b[0;36m<cell line: 17>\u001b[1;34m()\u001b[0m\n\u001b[0;32m     15\u001b[0m \u001b[38;5;28;01mfrom\u001b[39;00m \u001b[38;5;21;01msklearn\u001b[39;00m\u001b[38;5;21;01m.\u001b[39;00m\u001b[38;5;21;01mmodel_selection\u001b[39;00m \u001b[38;5;28;01mimport\u001b[39;00m RandomizedSearchCV\n\u001b[0;32m     16\u001b[0m rscv \u001b[38;5;241m=\u001b[39m RandomizedSearchCV(rm_hyp_model,hyp, cv\u001b[38;5;241m=\u001b[39m \u001b[38;5;241m5\u001b[39m)\n\u001b[1;32m---> 17\u001b[0m \u001b[43mrscv\u001b[49m\u001b[38;5;241;43m.\u001b[39;49m\u001b[43mfit\u001b[49m\u001b[43m(\u001b[49m\u001b[43mx_train\u001b[49m\u001b[43m,\u001b[49m\u001b[43my_train\u001b[49m\u001b[43m)\u001b[49m\n",
      "File \u001b[1;32m~\\.conda\\envs\\car\\lib\\site-packages\\sklearn\\model_selection\\_search.py:875\u001b[0m, in \u001b[0;36mBaseSearchCV.fit\u001b[1;34m(self, X, y, groups, **fit_params)\u001b[0m\n\u001b[0;32m    869\u001b[0m     results \u001b[38;5;241m=\u001b[39m \u001b[38;5;28mself\u001b[39m\u001b[38;5;241m.\u001b[39m_format_results(\n\u001b[0;32m    870\u001b[0m         all_candidate_params, n_splits, all_out, all_more_results\n\u001b[0;32m    871\u001b[0m     )\n\u001b[0;32m    873\u001b[0m     \u001b[38;5;28;01mreturn\u001b[39;00m results\n\u001b[1;32m--> 875\u001b[0m \u001b[38;5;28;43mself\u001b[39;49m\u001b[38;5;241;43m.\u001b[39;49m\u001b[43m_run_search\u001b[49m\u001b[43m(\u001b[49m\u001b[43mevaluate_candidates\u001b[49m\u001b[43m)\u001b[49m\n\u001b[0;32m    877\u001b[0m \u001b[38;5;66;03m# multimetric is determined here because in the case of a callable\u001b[39;00m\n\u001b[0;32m    878\u001b[0m \u001b[38;5;66;03m# self.scoring the return type is only known after calling\u001b[39;00m\n\u001b[0;32m    879\u001b[0m first_test_score \u001b[38;5;241m=\u001b[39m all_out[\u001b[38;5;241m0\u001b[39m][\u001b[38;5;124m\"\u001b[39m\u001b[38;5;124mtest_scores\u001b[39m\u001b[38;5;124m\"\u001b[39m]\n",
      "File \u001b[1;32m~\\.conda\\envs\\car\\lib\\site-packages\\sklearn\\model_selection\\_search.py:1753\u001b[0m, in \u001b[0;36mRandomizedSearchCV._run_search\u001b[1;34m(self, evaluate_candidates)\u001b[0m\n\u001b[0;32m   1751\u001b[0m \u001b[38;5;28;01mdef\u001b[39;00m \u001b[38;5;21m_run_search\u001b[39m(\u001b[38;5;28mself\u001b[39m, evaluate_candidates):\n\u001b[0;32m   1752\u001b[0m     \u001b[38;5;124;03m\"\"\"Search n_iter candidates from param_distributions\"\"\"\u001b[39;00m\n\u001b[1;32m-> 1753\u001b[0m     \u001b[43mevaluate_candidates\u001b[49m\u001b[43m(\u001b[49m\n\u001b[0;32m   1754\u001b[0m \u001b[43m        \u001b[49m\u001b[43mParameterSampler\u001b[49m\u001b[43m(\u001b[49m\n\u001b[0;32m   1755\u001b[0m \u001b[43m            \u001b[49m\u001b[38;5;28;43mself\u001b[39;49m\u001b[38;5;241;43m.\u001b[39;49m\u001b[43mparam_distributions\u001b[49m\u001b[43m,\u001b[49m\u001b[43m \u001b[49m\u001b[38;5;28;43mself\u001b[39;49m\u001b[38;5;241;43m.\u001b[39;49m\u001b[43mn_iter\u001b[49m\u001b[43m,\u001b[49m\u001b[43m \u001b[49m\u001b[43mrandom_state\u001b[49m\u001b[38;5;241;43m=\u001b[39;49m\u001b[38;5;28;43mself\u001b[39;49m\u001b[38;5;241;43m.\u001b[39;49m\u001b[43mrandom_state\u001b[49m\n\u001b[0;32m   1756\u001b[0m \u001b[43m        \u001b[49m\u001b[43m)\u001b[49m\n\u001b[0;32m   1757\u001b[0m \u001b[43m    \u001b[49m\u001b[43m)\u001b[49m\n",
      "File \u001b[1;32m~\\.conda\\envs\\car\\lib\\site-packages\\sklearn\\model_selection\\_search.py:822\u001b[0m, in \u001b[0;36mBaseSearchCV.fit.<locals>.evaluate_candidates\u001b[1;34m(candidate_params, cv, more_results)\u001b[0m\n\u001b[0;32m    814\u001b[0m \u001b[38;5;28;01mif\u001b[39;00m \u001b[38;5;28mself\u001b[39m\u001b[38;5;241m.\u001b[39mverbose \u001b[38;5;241m>\u001b[39m \u001b[38;5;241m0\u001b[39m:\n\u001b[0;32m    815\u001b[0m     \u001b[38;5;28mprint\u001b[39m(\n\u001b[0;32m    816\u001b[0m         \u001b[38;5;124m\"\u001b[39m\u001b[38;5;124mFitting \u001b[39m\u001b[38;5;132;01m{0}\u001b[39;00m\u001b[38;5;124m folds for each of \u001b[39m\u001b[38;5;132;01m{1}\u001b[39;00m\u001b[38;5;124m candidates,\u001b[39m\u001b[38;5;124m\"\u001b[39m\n\u001b[0;32m    817\u001b[0m         \u001b[38;5;124m\"\u001b[39m\u001b[38;5;124m totalling \u001b[39m\u001b[38;5;132;01m{2}\u001b[39;00m\u001b[38;5;124m fits\u001b[39m\u001b[38;5;124m\"\u001b[39m\u001b[38;5;241m.\u001b[39mformat(\n\u001b[0;32m    818\u001b[0m             n_splits, n_candidates, n_candidates \u001b[38;5;241m*\u001b[39m n_splits\n\u001b[0;32m    819\u001b[0m         )\n\u001b[0;32m    820\u001b[0m     )\n\u001b[1;32m--> 822\u001b[0m out \u001b[38;5;241m=\u001b[39m \u001b[43mparallel\u001b[49m\u001b[43m(\u001b[49m\n\u001b[0;32m    823\u001b[0m \u001b[43m    \u001b[49m\u001b[43mdelayed\u001b[49m\u001b[43m(\u001b[49m\u001b[43m_fit_and_score\u001b[49m\u001b[43m)\u001b[49m\u001b[43m(\u001b[49m\n\u001b[0;32m    824\u001b[0m \u001b[43m        \u001b[49m\u001b[43mclone\u001b[49m\u001b[43m(\u001b[49m\u001b[43mbase_estimator\u001b[49m\u001b[43m)\u001b[49m\u001b[43m,\u001b[49m\n\u001b[0;32m    825\u001b[0m \u001b[43m        \u001b[49m\u001b[43mX\u001b[49m\u001b[43m,\u001b[49m\n\u001b[0;32m    826\u001b[0m \u001b[43m        \u001b[49m\u001b[43my\u001b[49m\u001b[43m,\u001b[49m\n\u001b[0;32m    827\u001b[0m \u001b[43m        \u001b[49m\u001b[43mtrain\u001b[49m\u001b[38;5;241;43m=\u001b[39;49m\u001b[43mtrain\u001b[49m\u001b[43m,\u001b[49m\n\u001b[0;32m    828\u001b[0m \u001b[43m        \u001b[49m\u001b[43mtest\u001b[49m\u001b[38;5;241;43m=\u001b[39;49m\u001b[43mtest\u001b[49m\u001b[43m,\u001b[49m\n\u001b[0;32m    829\u001b[0m \u001b[43m        \u001b[49m\u001b[43mparameters\u001b[49m\u001b[38;5;241;43m=\u001b[39;49m\u001b[43mparameters\u001b[49m\u001b[43m,\u001b[49m\n\u001b[0;32m    830\u001b[0m \u001b[43m        \u001b[49m\u001b[43msplit_progress\u001b[49m\u001b[38;5;241;43m=\u001b[39;49m\u001b[43m(\u001b[49m\u001b[43msplit_idx\u001b[49m\u001b[43m,\u001b[49m\u001b[43m \u001b[49m\u001b[43mn_splits\u001b[49m\u001b[43m)\u001b[49m\u001b[43m,\u001b[49m\n\u001b[0;32m    831\u001b[0m \u001b[43m        \u001b[49m\u001b[43mcandidate_progress\u001b[49m\u001b[38;5;241;43m=\u001b[39;49m\u001b[43m(\u001b[49m\u001b[43mcand_idx\u001b[49m\u001b[43m,\u001b[49m\u001b[43m \u001b[49m\u001b[43mn_candidates\u001b[49m\u001b[43m)\u001b[49m\u001b[43m,\u001b[49m\n\u001b[0;32m    832\u001b[0m \u001b[43m        \u001b[49m\u001b[38;5;241;43m*\u001b[39;49m\u001b[38;5;241;43m*\u001b[39;49m\u001b[43mfit_and_score_kwargs\u001b[49m\u001b[43m,\u001b[49m\n\u001b[0;32m    833\u001b[0m \u001b[43m    \u001b[49m\u001b[43m)\u001b[49m\n\u001b[0;32m    834\u001b[0m \u001b[43m    \u001b[49m\u001b[38;5;28;43;01mfor\u001b[39;49;00m\u001b[43m \u001b[49m\u001b[43m(\u001b[49m\u001b[43mcand_idx\u001b[49m\u001b[43m,\u001b[49m\u001b[43m \u001b[49m\u001b[43mparameters\u001b[49m\u001b[43m)\u001b[49m\u001b[43m,\u001b[49m\u001b[43m \u001b[49m\u001b[43m(\u001b[49m\u001b[43msplit_idx\u001b[49m\u001b[43m,\u001b[49m\u001b[43m \u001b[49m\u001b[43m(\u001b[49m\u001b[43mtrain\u001b[49m\u001b[43m,\u001b[49m\u001b[43m \u001b[49m\u001b[43mtest\u001b[49m\u001b[43m)\u001b[49m\u001b[43m)\u001b[49m\u001b[43m \u001b[49m\u001b[38;5;129;43;01min\u001b[39;49;00m\u001b[43m \u001b[49m\u001b[43mproduct\u001b[49m\u001b[43m(\u001b[49m\n\u001b[0;32m    835\u001b[0m \u001b[43m        \u001b[49m\u001b[38;5;28;43menumerate\u001b[39;49m\u001b[43m(\u001b[49m\u001b[43mcandidate_params\u001b[49m\u001b[43m)\u001b[49m\u001b[43m,\u001b[49m\u001b[43m \u001b[49m\u001b[38;5;28;43menumerate\u001b[39;49m\u001b[43m(\u001b[49m\u001b[43mcv\u001b[49m\u001b[38;5;241;43m.\u001b[39;49m\u001b[43msplit\u001b[49m\u001b[43m(\u001b[49m\u001b[43mX\u001b[49m\u001b[43m,\u001b[49m\u001b[43m \u001b[49m\u001b[43my\u001b[49m\u001b[43m,\u001b[49m\u001b[43m \u001b[49m\u001b[43mgroups\u001b[49m\u001b[43m)\u001b[49m\u001b[43m)\u001b[49m\n\u001b[0;32m    836\u001b[0m \u001b[43m    \u001b[49m\u001b[43m)\u001b[49m\n\u001b[0;32m    837\u001b[0m \u001b[43m\u001b[49m\u001b[43m)\u001b[49m\n\u001b[0;32m    839\u001b[0m \u001b[38;5;28;01mif\u001b[39;00m \u001b[38;5;28mlen\u001b[39m(out) \u001b[38;5;241m<\u001b[39m \u001b[38;5;241m1\u001b[39m:\n\u001b[0;32m    840\u001b[0m     \u001b[38;5;28;01mraise\u001b[39;00m \u001b[38;5;167;01mValueError\u001b[39;00m(\n\u001b[0;32m    841\u001b[0m         \u001b[38;5;124m\"\u001b[39m\u001b[38;5;124mNo fits were performed. \u001b[39m\u001b[38;5;124m\"\u001b[39m\n\u001b[0;32m    842\u001b[0m         \u001b[38;5;124m\"\u001b[39m\u001b[38;5;124mWas the CV iterator empty? \u001b[39m\u001b[38;5;124m\"\u001b[39m\n\u001b[0;32m    843\u001b[0m         \u001b[38;5;124m\"\u001b[39m\u001b[38;5;124mWere there no candidates?\u001b[39m\u001b[38;5;124m\"\u001b[39m\n\u001b[0;32m    844\u001b[0m     )\n",
      "File \u001b[1;32m~\\.conda\\envs\\car\\lib\\site-packages\\joblib\\parallel.py:1046\u001b[0m, in \u001b[0;36mParallel.__call__\u001b[1;34m(self, iterable)\u001b[0m\n\u001b[0;32m   1043\u001b[0m \u001b[38;5;28;01mif\u001b[39;00m \u001b[38;5;28mself\u001b[39m\u001b[38;5;241m.\u001b[39mdispatch_one_batch(iterator):\n\u001b[0;32m   1044\u001b[0m     \u001b[38;5;28mself\u001b[39m\u001b[38;5;241m.\u001b[39m_iterating \u001b[38;5;241m=\u001b[39m \u001b[38;5;28mself\u001b[39m\u001b[38;5;241m.\u001b[39m_original_iterator \u001b[38;5;129;01mis\u001b[39;00m \u001b[38;5;129;01mnot\u001b[39;00m \u001b[38;5;28;01mNone\u001b[39;00m\n\u001b[1;32m-> 1046\u001b[0m \u001b[38;5;28;01mwhile\u001b[39;00m \u001b[38;5;28;43mself\u001b[39;49m\u001b[38;5;241;43m.\u001b[39;49m\u001b[43mdispatch_one_batch\u001b[49m\u001b[43m(\u001b[49m\u001b[43miterator\u001b[49m\u001b[43m)\u001b[49m:\n\u001b[0;32m   1047\u001b[0m     \u001b[38;5;28;01mpass\u001b[39;00m\n\u001b[0;32m   1049\u001b[0m \u001b[38;5;28;01mif\u001b[39;00m pre_dispatch \u001b[38;5;241m==\u001b[39m \u001b[38;5;124m\"\u001b[39m\u001b[38;5;124mall\u001b[39m\u001b[38;5;124m\"\u001b[39m \u001b[38;5;129;01mor\u001b[39;00m n_jobs \u001b[38;5;241m==\u001b[39m \u001b[38;5;241m1\u001b[39m:\n\u001b[0;32m   1050\u001b[0m     \u001b[38;5;66;03m# The iterable was consumed all at once by the above for loop.\u001b[39;00m\n\u001b[0;32m   1051\u001b[0m     \u001b[38;5;66;03m# No need to wait for async callbacks to trigger to\u001b[39;00m\n\u001b[0;32m   1052\u001b[0m     \u001b[38;5;66;03m# consumption.\u001b[39;00m\n",
      "File \u001b[1;32m~\\.conda\\envs\\car\\lib\\site-packages\\joblib\\parallel.py:861\u001b[0m, in \u001b[0;36mParallel.dispatch_one_batch\u001b[1;34m(self, iterator)\u001b[0m\n\u001b[0;32m    859\u001b[0m     \u001b[38;5;28;01mreturn\u001b[39;00m \u001b[38;5;28;01mFalse\u001b[39;00m\n\u001b[0;32m    860\u001b[0m \u001b[38;5;28;01melse\u001b[39;00m:\n\u001b[1;32m--> 861\u001b[0m     \u001b[38;5;28;43mself\u001b[39;49m\u001b[38;5;241;43m.\u001b[39;49m\u001b[43m_dispatch\u001b[49m\u001b[43m(\u001b[49m\u001b[43mtasks\u001b[49m\u001b[43m)\u001b[49m\n\u001b[0;32m    862\u001b[0m     \u001b[38;5;28;01mreturn\u001b[39;00m \u001b[38;5;28;01mTrue\u001b[39;00m\n",
      "File \u001b[1;32m~\\.conda\\envs\\car\\lib\\site-packages\\joblib\\parallel.py:779\u001b[0m, in \u001b[0;36mParallel._dispatch\u001b[1;34m(self, batch)\u001b[0m\n\u001b[0;32m    777\u001b[0m \u001b[38;5;28;01mwith\u001b[39;00m \u001b[38;5;28mself\u001b[39m\u001b[38;5;241m.\u001b[39m_lock:\n\u001b[0;32m    778\u001b[0m     job_idx \u001b[38;5;241m=\u001b[39m \u001b[38;5;28mlen\u001b[39m(\u001b[38;5;28mself\u001b[39m\u001b[38;5;241m.\u001b[39m_jobs)\n\u001b[1;32m--> 779\u001b[0m     job \u001b[38;5;241m=\u001b[39m \u001b[38;5;28;43mself\u001b[39;49m\u001b[38;5;241;43m.\u001b[39;49m\u001b[43m_backend\u001b[49m\u001b[38;5;241;43m.\u001b[39;49m\u001b[43mapply_async\u001b[49m\u001b[43m(\u001b[49m\u001b[43mbatch\u001b[49m\u001b[43m,\u001b[49m\u001b[43m \u001b[49m\u001b[43mcallback\u001b[49m\u001b[38;5;241;43m=\u001b[39;49m\u001b[43mcb\u001b[49m\u001b[43m)\u001b[49m\n\u001b[0;32m    780\u001b[0m     \u001b[38;5;66;03m# A job can complete so quickly than its callback is\u001b[39;00m\n\u001b[0;32m    781\u001b[0m     \u001b[38;5;66;03m# called before we get here, causing self._jobs to\u001b[39;00m\n\u001b[0;32m    782\u001b[0m     \u001b[38;5;66;03m# grow. To ensure correct results ordering, .insert is\u001b[39;00m\n\u001b[0;32m    783\u001b[0m     \u001b[38;5;66;03m# used (rather than .append) in the following line\u001b[39;00m\n\u001b[0;32m    784\u001b[0m     \u001b[38;5;28mself\u001b[39m\u001b[38;5;241m.\u001b[39m_jobs\u001b[38;5;241m.\u001b[39minsert(job_idx, job)\n",
      "File \u001b[1;32m~\\.conda\\envs\\car\\lib\\site-packages\\joblib\\_parallel_backends.py:208\u001b[0m, in \u001b[0;36mSequentialBackend.apply_async\u001b[1;34m(self, func, callback)\u001b[0m\n\u001b[0;32m    206\u001b[0m \u001b[38;5;28;01mdef\u001b[39;00m \u001b[38;5;21mapply_async\u001b[39m(\u001b[38;5;28mself\u001b[39m, func, callback\u001b[38;5;241m=\u001b[39m\u001b[38;5;28;01mNone\u001b[39;00m):\n\u001b[0;32m    207\u001b[0m     \u001b[38;5;124;03m\"\"\"Schedule a func to be run\"\"\"\u001b[39;00m\n\u001b[1;32m--> 208\u001b[0m     result \u001b[38;5;241m=\u001b[39m \u001b[43mImmediateResult\u001b[49m\u001b[43m(\u001b[49m\u001b[43mfunc\u001b[49m\u001b[43m)\u001b[49m\n\u001b[0;32m    209\u001b[0m     \u001b[38;5;28;01mif\u001b[39;00m callback:\n\u001b[0;32m    210\u001b[0m         callback(result)\n",
      "File \u001b[1;32m~\\.conda\\envs\\car\\lib\\site-packages\\joblib\\_parallel_backends.py:572\u001b[0m, in \u001b[0;36mImmediateResult.__init__\u001b[1;34m(self, batch)\u001b[0m\n\u001b[0;32m    569\u001b[0m \u001b[38;5;28;01mdef\u001b[39;00m \u001b[38;5;21m__init__\u001b[39m(\u001b[38;5;28mself\u001b[39m, batch):\n\u001b[0;32m    570\u001b[0m     \u001b[38;5;66;03m# Don't delay the application, to avoid keeping the input\u001b[39;00m\n\u001b[0;32m    571\u001b[0m     \u001b[38;5;66;03m# arguments in memory\u001b[39;00m\n\u001b[1;32m--> 572\u001b[0m     \u001b[38;5;28mself\u001b[39m\u001b[38;5;241m.\u001b[39mresults \u001b[38;5;241m=\u001b[39m \u001b[43mbatch\u001b[49m\u001b[43m(\u001b[49m\u001b[43m)\u001b[49m\n",
      "File \u001b[1;32m~\\.conda\\envs\\car\\lib\\site-packages\\joblib\\parallel.py:262\u001b[0m, in \u001b[0;36mBatchedCalls.__call__\u001b[1;34m(self)\u001b[0m\n\u001b[0;32m    258\u001b[0m \u001b[38;5;28;01mdef\u001b[39;00m \u001b[38;5;21m__call__\u001b[39m(\u001b[38;5;28mself\u001b[39m):\n\u001b[0;32m    259\u001b[0m     \u001b[38;5;66;03m# Set the default nested backend to self._backend but do not set the\u001b[39;00m\n\u001b[0;32m    260\u001b[0m     \u001b[38;5;66;03m# change the default number of processes to -1\u001b[39;00m\n\u001b[0;32m    261\u001b[0m     \u001b[38;5;28;01mwith\u001b[39;00m parallel_backend(\u001b[38;5;28mself\u001b[39m\u001b[38;5;241m.\u001b[39m_backend, n_jobs\u001b[38;5;241m=\u001b[39m\u001b[38;5;28mself\u001b[39m\u001b[38;5;241m.\u001b[39m_n_jobs):\n\u001b[1;32m--> 262\u001b[0m         \u001b[38;5;28;01mreturn\u001b[39;00m [func(\u001b[38;5;241m*\u001b[39margs, \u001b[38;5;241m*\u001b[39m\u001b[38;5;241m*\u001b[39mkwargs)\n\u001b[0;32m    263\u001b[0m                 \u001b[38;5;28;01mfor\u001b[39;00m func, args, kwargs \u001b[38;5;129;01min\u001b[39;00m \u001b[38;5;28mself\u001b[39m\u001b[38;5;241m.\u001b[39mitems]\n",
      "File \u001b[1;32m~\\.conda\\envs\\car\\lib\\site-packages\\joblib\\parallel.py:262\u001b[0m, in \u001b[0;36m<listcomp>\u001b[1;34m(.0)\u001b[0m\n\u001b[0;32m    258\u001b[0m \u001b[38;5;28;01mdef\u001b[39;00m \u001b[38;5;21m__call__\u001b[39m(\u001b[38;5;28mself\u001b[39m):\n\u001b[0;32m    259\u001b[0m     \u001b[38;5;66;03m# Set the default nested backend to self._backend but do not set the\u001b[39;00m\n\u001b[0;32m    260\u001b[0m     \u001b[38;5;66;03m# change the default number of processes to -1\u001b[39;00m\n\u001b[0;32m    261\u001b[0m     \u001b[38;5;28;01mwith\u001b[39;00m parallel_backend(\u001b[38;5;28mself\u001b[39m\u001b[38;5;241m.\u001b[39m_backend, n_jobs\u001b[38;5;241m=\u001b[39m\u001b[38;5;28mself\u001b[39m\u001b[38;5;241m.\u001b[39m_n_jobs):\n\u001b[1;32m--> 262\u001b[0m         \u001b[38;5;28;01mreturn\u001b[39;00m [\u001b[43mfunc\u001b[49m\u001b[43m(\u001b[49m\u001b[38;5;241;43m*\u001b[39;49m\u001b[43margs\u001b[49m\u001b[43m,\u001b[49m\u001b[43m \u001b[49m\u001b[38;5;241;43m*\u001b[39;49m\u001b[38;5;241;43m*\u001b[39;49m\u001b[43mkwargs\u001b[49m\u001b[43m)\u001b[49m\n\u001b[0;32m    263\u001b[0m                 \u001b[38;5;28;01mfor\u001b[39;00m func, args, kwargs \u001b[38;5;129;01min\u001b[39;00m \u001b[38;5;28mself\u001b[39m\u001b[38;5;241m.\u001b[39mitems]\n",
      "File \u001b[1;32m~\\.conda\\envs\\car\\lib\\site-packages\\sklearn\\utils\\fixes.py:117\u001b[0m, in \u001b[0;36m_FuncWrapper.__call__\u001b[1;34m(self, *args, **kwargs)\u001b[0m\n\u001b[0;32m    115\u001b[0m \u001b[38;5;28;01mdef\u001b[39;00m \u001b[38;5;21m__call__\u001b[39m(\u001b[38;5;28mself\u001b[39m, \u001b[38;5;241m*\u001b[39margs, \u001b[38;5;241m*\u001b[39m\u001b[38;5;241m*\u001b[39mkwargs):\n\u001b[0;32m    116\u001b[0m     \u001b[38;5;28;01mwith\u001b[39;00m config_context(\u001b[38;5;241m*\u001b[39m\u001b[38;5;241m*\u001b[39m\u001b[38;5;28mself\u001b[39m\u001b[38;5;241m.\u001b[39mconfig):\n\u001b[1;32m--> 117\u001b[0m         \u001b[38;5;28;01mreturn\u001b[39;00m \u001b[38;5;28;43mself\u001b[39;49m\u001b[38;5;241;43m.\u001b[39;49m\u001b[43mfunction\u001b[49m\u001b[43m(\u001b[49m\u001b[38;5;241;43m*\u001b[39;49m\u001b[43margs\u001b[49m\u001b[43m,\u001b[49m\u001b[43m \u001b[49m\u001b[38;5;241;43m*\u001b[39;49m\u001b[38;5;241;43m*\u001b[39;49m\u001b[43mkwargs\u001b[49m\u001b[43m)\u001b[49m\n",
      "File \u001b[1;32m~\\.conda\\envs\\car\\lib\\site-packages\\sklearn\\model_selection\\_validation.py:686\u001b[0m, in \u001b[0;36m_fit_and_score\u001b[1;34m(estimator, X, y, scorer, train, test, verbose, parameters, fit_params, return_train_score, return_parameters, return_n_test_samples, return_times, return_estimator, split_progress, candidate_progress, error_score)\u001b[0m\n\u001b[0;32m    684\u001b[0m         estimator\u001b[38;5;241m.\u001b[39mfit(X_train, \u001b[38;5;241m*\u001b[39m\u001b[38;5;241m*\u001b[39mfit_params)\n\u001b[0;32m    685\u001b[0m     \u001b[38;5;28;01melse\u001b[39;00m:\n\u001b[1;32m--> 686\u001b[0m         \u001b[43mestimator\u001b[49m\u001b[38;5;241;43m.\u001b[39;49m\u001b[43mfit\u001b[49m\u001b[43m(\u001b[49m\u001b[43mX_train\u001b[49m\u001b[43m,\u001b[49m\u001b[43m \u001b[49m\u001b[43my_train\u001b[49m\u001b[43m,\u001b[49m\u001b[43m \u001b[49m\u001b[38;5;241;43m*\u001b[39;49m\u001b[38;5;241;43m*\u001b[39;49m\u001b[43mfit_params\u001b[49m\u001b[43m)\u001b[49m\n\u001b[0;32m    688\u001b[0m \u001b[38;5;28;01mexcept\u001b[39;00m \u001b[38;5;167;01mException\u001b[39;00m:\n\u001b[0;32m    689\u001b[0m     \u001b[38;5;66;03m# Note fit time as time until error\u001b[39;00m\n\u001b[0;32m    690\u001b[0m     fit_time \u001b[38;5;241m=\u001b[39m time\u001b[38;5;241m.\u001b[39mtime() \u001b[38;5;241m-\u001b[39m start_time\n",
      "File \u001b[1;32m~\\.conda\\envs\\car\\lib\\site-packages\\sklearn\\ensemble\\_forest.py:476\u001b[0m, in \u001b[0;36mBaseForest.fit\u001b[1;34m(self, X, y, sample_weight)\u001b[0m\n\u001b[0;32m    465\u001b[0m trees \u001b[38;5;241m=\u001b[39m [\n\u001b[0;32m    466\u001b[0m     \u001b[38;5;28mself\u001b[39m\u001b[38;5;241m.\u001b[39m_make_estimator(append\u001b[38;5;241m=\u001b[39m\u001b[38;5;28;01mFalse\u001b[39;00m, random_state\u001b[38;5;241m=\u001b[39mrandom_state)\n\u001b[0;32m    467\u001b[0m     \u001b[38;5;28;01mfor\u001b[39;00m i \u001b[38;5;129;01min\u001b[39;00m \u001b[38;5;28mrange\u001b[39m(n_more_estimators)\n\u001b[0;32m    468\u001b[0m ]\n\u001b[0;32m    470\u001b[0m \u001b[38;5;66;03m# Parallel loop: we prefer the threading backend as the Cython code\u001b[39;00m\n\u001b[0;32m    471\u001b[0m \u001b[38;5;66;03m# for fitting the trees is internally releasing the Python GIL\u001b[39;00m\n\u001b[0;32m    472\u001b[0m \u001b[38;5;66;03m# making threading more efficient than multiprocessing in\u001b[39;00m\n\u001b[0;32m    473\u001b[0m \u001b[38;5;66;03m# that case. However, for joblib 0.12+ we respect any\u001b[39;00m\n\u001b[0;32m    474\u001b[0m \u001b[38;5;66;03m# parallel_backend contexts set at a higher level,\u001b[39;00m\n\u001b[0;32m    475\u001b[0m \u001b[38;5;66;03m# since correctness does not rely on using threads.\u001b[39;00m\n\u001b[1;32m--> 476\u001b[0m trees \u001b[38;5;241m=\u001b[39m \u001b[43mParallel\u001b[49m\u001b[43m(\u001b[49m\n\u001b[0;32m    477\u001b[0m \u001b[43m    \u001b[49m\u001b[43mn_jobs\u001b[49m\u001b[38;5;241;43m=\u001b[39;49m\u001b[38;5;28;43mself\u001b[39;49m\u001b[38;5;241;43m.\u001b[39;49m\u001b[43mn_jobs\u001b[49m\u001b[43m,\u001b[49m\n\u001b[0;32m    478\u001b[0m \u001b[43m    \u001b[49m\u001b[43mverbose\u001b[49m\u001b[38;5;241;43m=\u001b[39;49m\u001b[38;5;28;43mself\u001b[39;49m\u001b[38;5;241;43m.\u001b[39;49m\u001b[43mverbose\u001b[49m\u001b[43m,\u001b[49m\n\u001b[0;32m    479\u001b[0m \u001b[43m    \u001b[49m\u001b[43mprefer\u001b[49m\u001b[38;5;241;43m=\u001b[39;49m\u001b[38;5;124;43m\"\u001b[39;49m\u001b[38;5;124;43mthreads\u001b[39;49m\u001b[38;5;124;43m\"\u001b[39;49m\u001b[43m,\u001b[49m\n\u001b[0;32m    480\u001b[0m \u001b[43m\u001b[49m\u001b[43m)\u001b[49m\u001b[43m(\u001b[49m\n\u001b[0;32m    481\u001b[0m \u001b[43m    \u001b[49m\u001b[43mdelayed\u001b[49m\u001b[43m(\u001b[49m\u001b[43m_parallel_build_trees\u001b[49m\u001b[43m)\u001b[49m\u001b[43m(\u001b[49m\n\u001b[0;32m    482\u001b[0m \u001b[43m        \u001b[49m\u001b[43mt\u001b[49m\u001b[43m,\u001b[49m\n\u001b[0;32m    483\u001b[0m \u001b[43m        \u001b[49m\u001b[38;5;28;43mself\u001b[39;49m\u001b[38;5;241;43m.\u001b[39;49m\u001b[43mbootstrap\u001b[49m\u001b[43m,\u001b[49m\n\u001b[0;32m    484\u001b[0m \u001b[43m        \u001b[49m\u001b[43mX\u001b[49m\u001b[43m,\u001b[49m\n\u001b[0;32m    485\u001b[0m \u001b[43m        \u001b[49m\u001b[43my\u001b[49m\u001b[43m,\u001b[49m\n\u001b[0;32m    486\u001b[0m \u001b[43m        \u001b[49m\u001b[43msample_weight\u001b[49m\u001b[43m,\u001b[49m\n\u001b[0;32m    487\u001b[0m \u001b[43m        \u001b[49m\u001b[43mi\u001b[49m\u001b[43m,\u001b[49m\n\u001b[0;32m    488\u001b[0m \u001b[43m        \u001b[49m\u001b[38;5;28;43mlen\u001b[39;49m\u001b[43m(\u001b[49m\u001b[43mtrees\u001b[49m\u001b[43m)\u001b[49m\u001b[43m,\u001b[49m\n\u001b[0;32m    489\u001b[0m \u001b[43m        \u001b[49m\u001b[43mverbose\u001b[49m\u001b[38;5;241;43m=\u001b[39;49m\u001b[38;5;28;43mself\u001b[39;49m\u001b[38;5;241;43m.\u001b[39;49m\u001b[43mverbose\u001b[49m\u001b[43m,\u001b[49m\n\u001b[0;32m    490\u001b[0m \u001b[43m        \u001b[49m\u001b[43mclass_weight\u001b[49m\u001b[38;5;241;43m=\u001b[39;49m\u001b[38;5;28;43mself\u001b[39;49m\u001b[38;5;241;43m.\u001b[39;49m\u001b[43mclass_weight\u001b[49m\u001b[43m,\u001b[49m\n\u001b[0;32m    491\u001b[0m \u001b[43m        \u001b[49m\u001b[43mn_samples_bootstrap\u001b[49m\u001b[38;5;241;43m=\u001b[39;49m\u001b[43mn_samples_bootstrap\u001b[49m\u001b[43m,\u001b[49m\n\u001b[0;32m    492\u001b[0m \u001b[43m    \u001b[49m\u001b[43m)\u001b[49m\n\u001b[0;32m    493\u001b[0m \u001b[43m    \u001b[49m\u001b[38;5;28;43;01mfor\u001b[39;49;00m\u001b[43m \u001b[49m\u001b[43mi\u001b[49m\u001b[43m,\u001b[49m\u001b[43m \u001b[49m\u001b[43mt\u001b[49m\u001b[43m \u001b[49m\u001b[38;5;129;43;01min\u001b[39;49;00m\u001b[43m \u001b[49m\u001b[38;5;28;43menumerate\u001b[39;49m\u001b[43m(\u001b[49m\u001b[43mtrees\u001b[49m\u001b[43m)\u001b[49m\n\u001b[0;32m    494\u001b[0m \u001b[43m\u001b[49m\u001b[43m)\u001b[49m\n\u001b[0;32m    496\u001b[0m \u001b[38;5;66;03m# Collect newly grown trees\u001b[39;00m\n\u001b[0;32m    497\u001b[0m \u001b[38;5;28mself\u001b[39m\u001b[38;5;241m.\u001b[39mestimators_\u001b[38;5;241m.\u001b[39mextend(trees)\n",
      "File \u001b[1;32m~\\.conda\\envs\\car\\lib\\site-packages\\joblib\\parallel.py:1046\u001b[0m, in \u001b[0;36mParallel.__call__\u001b[1;34m(self, iterable)\u001b[0m\n\u001b[0;32m   1043\u001b[0m \u001b[38;5;28;01mif\u001b[39;00m \u001b[38;5;28mself\u001b[39m\u001b[38;5;241m.\u001b[39mdispatch_one_batch(iterator):\n\u001b[0;32m   1044\u001b[0m     \u001b[38;5;28mself\u001b[39m\u001b[38;5;241m.\u001b[39m_iterating \u001b[38;5;241m=\u001b[39m \u001b[38;5;28mself\u001b[39m\u001b[38;5;241m.\u001b[39m_original_iterator \u001b[38;5;129;01mis\u001b[39;00m \u001b[38;5;129;01mnot\u001b[39;00m \u001b[38;5;28;01mNone\u001b[39;00m\n\u001b[1;32m-> 1046\u001b[0m \u001b[38;5;28;01mwhile\u001b[39;00m \u001b[38;5;28;43mself\u001b[39;49m\u001b[38;5;241;43m.\u001b[39;49m\u001b[43mdispatch_one_batch\u001b[49m\u001b[43m(\u001b[49m\u001b[43miterator\u001b[49m\u001b[43m)\u001b[49m:\n\u001b[0;32m   1047\u001b[0m     \u001b[38;5;28;01mpass\u001b[39;00m\n\u001b[0;32m   1049\u001b[0m \u001b[38;5;28;01mif\u001b[39;00m pre_dispatch \u001b[38;5;241m==\u001b[39m \u001b[38;5;124m\"\u001b[39m\u001b[38;5;124mall\u001b[39m\u001b[38;5;124m\"\u001b[39m \u001b[38;5;129;01mor\u001b[39;00m n_jobs \u001b[38;5;241m==\u001b[39m \u001b[38;5;241m1\u001b[39m:\n\u001b[0;32m   1050\u001b[0m     \u001b[38;5;66;03m# The iterable was consumed all at once by the above for loop.\u001b[39;00m\n\u001b[0;32m   1051\u001b[0m     \u001b[38;5;66;03m# No need to wait for async callbacks to trigger to\u001b[39;00m\n\u001b[0;32m   1052\u001b[0m     \u001b[38;5;66;03m# consumption.\u001b[39;00m\n",
      "File \u001b[1;32m~\\.conda\\envs\\car\\lib\\site-packages\\joblib\\parallel.py:861\u001b[0m, in \u001b[0;36mParallel.dispatch_one_batch\u001b[1;34m(self, iterator)\u001b[0m\n\u001b[0;32m    859\u001b[0m     \u001b[38;5;28;01mreturn\u001b[39;00m \u001b[38;5;28;01mFalse\u001b[39;00m\n\u001b[0;32m    860\u001b[0m \u001b[38;5;28;01melse\u001b[39;00m:\n\u001b[1;32m--> 861\u001b[0m     \u001b[38;5;28;43mself\u001b[39;49m\u001b[38;5;241;43m.\u001b[39;49m\u001b[43m_dispatch\u001b[49m\u001b[43m(\u001b[49m\u001b[43mtasks\u001b[49m\u001b[43m)\u001b[49m\n\u001b[0;32m    862\u001b[0m     \u001b[38;5;28;01mreturn\u001b[39;00m \u001b[38;5;28;01mTrue\u001b[39;00m\n",
      "File \u001b[1;32m~\\.conda\\envs\\car\\lib\\site-packages\\joblib\\parallel.py:779\u001b[0m, in \u001b[0;36mParallel._dispatch\u001b[1;34m(self, batch)\u001b[0m\n\u001b[0;32m    777\u001b[0m \u001b[38;5;28;01mwith\u001b[39;00m \u001b[38;5;28mself\u001b[39m\u001b[38;5;241m.\u001b[39m_lock:\n\u001b[0;32m    778\u001b[0m     job_idx \u001b[38;5;241m=\u001b[39m \u001b[38;5;28mlen\u001b[39m(\u001b[38;5;28mself\u001b[39m\u001b[38;5;241m.\u001b[39m_jobs)\n\u001b[1;32m--> 779\u001b[0m     job \u001b[38;5;241m=\u001b[39m \u001b[38;5;28;43mself\u001b[39;49m\u001b[38;5;241;43m.\u001b[39;49m\u001b[43m_backend\u001b[49m\u001b[38;5;241;43m.\u001b[39;49m\u001b[43mapply_async\u001b[49m\u001b[43m(\u001b[49m\u001b[43mbatch\u001b[49m\u001b[43m,\u001b[49m\u001b[43m \u001b[49m\u001b[43mcallback\u001b[49m\u001b[38;5;241;43m=\u001b[39;49m\u001b[43mcb\u001b[49m\u001b[43m)\u001b[49m\n\u001b[0;32m    780\u001b[0m     \u001b[38;5;66;03m# A job can complete so quickly than its callback is\u001b[39;00m\n\u001b[0;32m    781\u001b[0m     \u001b[38;5;66;03m# called before we get here, causing self._jobs to\u001b[39;00m\n\u001b[0;32m    782\u001b[0m     \u001b[38;5;66;03m# grow. To ensure correct results ordering, .insert is\u001b[39;00m\n\u001b[0;32m    783\u001b[0m     \u001b[38;5;66;03m# used (rather than .append) in the following line\u001b[39;00m\n\u001b[0;32m    784\u001b[0m     \u001b[38;5;28mself\u001b[39m\u001b[38;5;241m.\u001b[39m_jobs\u001b[38;5;241m.\u001b[39minsert(job_idx, job)\n",
      "File \u001b[1;32m~\\.conda\\envs\\car\\lib\\site-packages\\joblib\\_parallel_backends.py:208\u001b[0m, in \u001b[0;36mSequentialBackend.apply_async\u001b[1;34m(self, func, callback)\u001b[0m\n\u001b[0;32m    206\u001b[0m \u001b[38;5;28;01mdef\u001b[39;00m \u001b[38;5;21mapply_async\u001b[39m(\u001b[38;5;28mself\u001b[39m, func, callback\u001b[38;5;241m=\u001b[39m\u001b[38;5;28;01mNone\u001b[39;00m):\n\u001b[0;32m    207\u001b[0m     \u001b[38;5;124;03m\"\"\"Schedule a func to be run\"\"\"\u001b[39;00m\n\u001b[1;32m--> 208\u001b[0m     result \u001b[38;5;241m=\u001b[39m \u001b[43mImmediateResult\u001b[49m\u001b[43m(\u001b[49m\u001b[43mfunc\u001b[49m\u001b[43m)\u001b[49m\n\u001b[0;32m    209\u001b[0m     \u001b[38;5;28;01mif\u001b[39;00m callback:\n\u001b[0;32m    210\u001b[0m         callback(result)\n",
      "File \u001b[1;32m~\\.conda\\envs\\car\\lib\\site-packages\\joblib\\_parallel_backends.py:572\u001b[0m, in \u001b[0;36mImmediateResult.__init__\u001b[1;34m(self, batch)\u001b[0m\n\u001b[0;32m    569\u001b[0m \u001b[38;5;28;01mdef\u001b[39;00m \u001b[38;5;21m__init__\u001b[39m(\u001b[38;5;28mself\u001b[39m, batch):\n\u001b[0;32m    570\u001b[0m     \u001b[38;5;66;03m# Don't delay the application, to avoid keeping the input\u001b[39;00m\n\u001b[0;32m    571\u001b[0m     \u001b[38;5;66;03m# arguments in memory\u001b[39;00m\n\u001b[1;32m--> 572\u001b[0m     \u001b[38;5;28mself\u001b[39m\u001b[38;5;241m.\u001b[39mresults \u001b[38;5;241m=\u001b[39m \u001b[43mbatch\u001b[49m\u001b[43m(\u001b[49m\u001b[43m)\u001b[49m\n",
      "File \u001b[1;32m~\\.conda\\envs\\car\\lib\\site-packages\\joblib\\parallel.py:262\u001b[0m, in \u001b[0;36mBatchedCalls.__call__\u001b[1;34m(self)\u001b[0m\n\u001b[0;32m    258\u001b[0m \u001b[38;5;28;01mdef\u001b[39;00m \u001b[38;5;21m__call__\u001b[39m(\u001b[38;5;28mself\u001b[39m):\n\u001b[0;32m    259\u001b[0m     \u001b[38;5;66;03m# Set the default nested backend to self._backend but do not set the\u001b[39;00m\n\u001b[0;32m    260\u001b[0m     \u001b[38;5;66;03m# change the default number of processes to -1\u001b[39;00m\n\u001b[0;32m    261\u001b[0m     \u001b[38;5;28;01mwith\u001b[39;00m parallel_backend(\u001b[38;5;28mself\u001b[39m\u001b[38;5;241m.\u001b[39m_backend, n_jobs\u001b[38;5;241m=\u001b[39m\u001b[38;5;28mself\u001b[39m\u001b[38;5;241m.\u001b[39m_n_jobs):\n\u001b[1;32m--> 262\u001b[0m         \u001b[38;5;28;01mreturn\u001b[39;00m [func(\u001b[38;5;241m*\u001b[39margs, \u001b[38;5;241m*\u001b[39m\u001b[38;5;241m*\u001b[39mkwargs)\n\u001b[0;32m    263\u001b[0m                 \u001b[38;5;28;01mfor\u001b[39;00m func, args, kwargs \u001b[38;5;129;01min\u001b[39;00m \u001b[38;5;28mself\u001b[39m\u001b[38;5;241m.\u001b[39mitems]\n",
      "File \u001b[1;32m~\\.conda\\envs\\car\\lib\\site-packages\\joblib\\parallel.py:262\u001b[0m, in \u001b[0;36m<listcomp>\u001b[1;34m(.0)\u001b[0m\n\u001b[0;32m    258\u001b[0m \u001b[38;5;28;01mdef\u001b[39;00m \u001b[38;5;21m__call__\u001b[39m(\u001b[38;5;28mself\u001b[39m):\n\u001b[0;32m    259\u001b[0m     \u001b[38;5;66;03m# Set the default nested backend to self._backend but do not set the\u001b[39;00m\n\u001b[0;32m    260\u001b[0m     \u001b[38;5;66;03m# change the default number of processes to -1\u001b[39;00m\n\u001b[0;32m    261\u001b[0m     \u001b[38;5;28;01mwith\u001b[39;00m parallel_backend(\u001b[38;5;28mself\u001b[39m\u001b[38;5;241m.\u001b[39m_backend, n_jobs\u001b[38;5;241m=\u001b[39m\u001b[38;5;28mself\u001b[39m\u001b[38;5;241m.\u001b[39m_n_jobs):\n\u001b[1;32m--> 262\u001b[0m         \u001b[38;5;28;01mreturn\u001b[39;00m [\u001b[43mfunc\u001b[49m\u001b[43m(\u001b[49m\u001b[38;5;241;43m*\u001b[39;49m\u001b[43margs\u001b[49m\u001b[43m,\u001b[49m\u001b[43m \u001b[49m\u001b[38;5;241;43m*\u001b[39;49m\u001b[38;5;241;43m*\u001b[39;49m\u001b[43mkwargs\u001b[49m\u001b[43m)\u001b[49m\n\u001b[0;32m    263\u001b[0m                 \u001b[38;5;28;01mfor\u001b[39;00m func, args, kwargs \u001b[38;5;129;01min\u001b[39;00m \u001b[38;5;28mself\u001b[39m\u001b[38;5;241m.\u001b[39mitems]\n",
      "File \u001b[1;32m~\\.conda\\envs\\car\\lib\\site-packages\\sklearn\\utils\\fixes.py:117\u001b[0m, in \u001b[0;36m_FuncWrapper.__call__\u001b[1;34m(self, *args, **kwargs)\u001b[0m\n\u001b[0;32m    115\u001b[0m \u001b[38;5;28;01mdef\u001b[39;00m \u001b[38;5;21m__call__\u001b[39m(\u001b[38;5;28mself\u001b[39m, \u001b[38;5;241m*\u001b[39margs, \u001b[38;5;241m*\u001b[39m\u001b[38;5;241m*\u001b[39mkwargs):\n\u001b[0;32m    116\u001b[0m     \u001b[38;5;28;01mwith\u001b[39;00m config_context(\u001b[38;5;241m*\u001b[39m\u001b[38;5;241m*\u001b[39m\u001b[38;5;28mself\u001b[39m\u001b[38;5;241m.\u001b[39mconfig):\n\u001b[1;32m--> 117\u001b[0m         \u001b[38;5;28;01mreturn\u001b[39;00m \u001b[38;5;28;43mself\u001b[39;49m\u001b[38;5;241;43m.\u001b[39;49m\u001b[43mfunction\u001b[49m\u001b[43m(\u001b[49m\u001b[38;5;241;43m*\u001b[39;49m\u001b[43margs\u001b[49m\u001b[43m,\u001b[49m\u001b[43m \u001b[49m\u001b[38;5;241;43m*\u001b[39;49m\u001b[38;5;241;43m*\u001b[39;49m\u001b[43mkwargs\u001b[49m\u001b[43m)\u001b[49m\n",
      "File \u001b[1;32m~\\.conda\\envs\\car\\lib\\site-packages\\sklearn\\ensemble\\_forest.py:189\u001b[0m, in \u001b[0;36m_parallel_build_trees\u001b[1;34m(tree, bootstrap, X, y, sample_weight, tree_idx, n_trees, verbose, class_weight, n_samples_bootstrap)\u001b[0m\n\u001b[0;32m    186\u001b[0m     \u001b[38;5;28;01melif\u001b[39;00m class_weight \u001b[38;5;241m==\u001b[39m \u001b[38;5;124m\"\u001b[39m\u001b[38;5;124mbalanced_subsample\u001b[39m\u001b[38;5;124m\"\u001b[39m:\n\u001b[0;32m    187\u001b[0m         curr_sample_weight \u001b[38;5;241m*\u001b[39m\u001b[38;5;241m=\u001b[39m compute_sample_weight(\u001b[38;5;124m\"\u001b[39m\u001b[38;5;124mbalanced\u001b[39m\u001b[38;5;124m\"\u001b[39m, y, indices\u001b[38;5;241m=\u001b[39mindices)\n\u001b[1;32m--> 189\u001b[0m     \u001b[43mtree\u001b[49m\u001b[38;5;241;43m.\u001b[39;49m\u001b[43mfit\u001b[49m\u001b[43m(\u001b[49m\u001b[43mX\u001b[49m\u001b[43m,\u001b[49m\u001b[43m \u001b[49m\u001b[43my\u001b[49m\u001b[43m,\u001b[49m\u001b[43m \u001b[49m\u001b[43msample_weight\u001b[49m\u001b[38;5;241;43m=\u001b[39;49m\u001b[43mcurr_sample_weight\u001b[49m\u001b[43m,\u001b[49m\u001b[43m \u001b[49m\u001b[43mcheck_input\u001b[49m\u001b[38;5;241;43m=\u001b[39;49m\u001b[38;5;28;43;01mFalse\u001b[39;49;00m\u001b[43m)\u001b[49m\n\u001b[0;32m    190\u001b[0m \u001b[38;5;28;01melse\u001b[39;00m:\n\u001b[0;32m    191\u001b[0m     tree\u001b[38;5;241m.\u001b[39mfit(X, y, sample_weight\u001b[38;5;241m=\u001b[39msample_weight, check_input\u001b[38;5;241m=\u001b[39m\u001b[38;5;28;01mFalse\u001b[39;00m)\n",
      "File \u001b[1;32m~\\.conda\\envs\\car\\lib\\site-packages\\sklearn\\tree\\_classes.py:1342\u001b[0m, in \u001b[0;36mDecisionTreeRegressor.fit\u001b[1;34m(self, X, y, sample_weight, check_input)\u001b[0m\n\u001b[0;32m   1313\u001b[0m \u001b[38;5;28;01mdef\u001b[39;00m \u001b[38;5;21mfit\u001b[39m(\u001b[38;5;28mself\u001b[39m, X, y, sample_weight\u001b[38;5;241m=\u001b[39m\u001b[38;5;28;01mNone\u001b[39;00m, check_input\u001b[38;5;241m=\u001b[39m\u001b[38;5;28;01mTrue\u001b[39;00m):\n\u001b[0;32m   1314\u001b[0m     \u001b[38;5;124;03m\"\"\"Build a decision tree regressor from the training set (X, y).\u001b[39;00m\n\u001b[0;32m   1315\u001b[0m \n\u001b[0;32m   1316\u001b[0m \u001b[38;5;124;03m    Parameters\u001b[39;00m\n\u001b[1;32m   (...)\u001b[0m\n\u001b[0;32m   1339\u001b[0m \u001b[38;5;124;03m        Fitted estimator.\u001b[39;00m\n\u001b[0;32m   1340\u001b[0m \u001b[38;5;124;03m    \"\"\"\u001b[39;00m\n\u001b[1;32m-> 1342\u001b[0m     \u001b[38;5;28;43msuper\u001b[39;49m\u001b[43m(\u001b[49m\u001b[43m)\u001b[49m\u001b[38;5;241;43m.\u001b[39;49m\u001b[43mfit\u001b[49m\u001b[43m(\u001b[49m\n\u001b[0;32m   1343\u001b[0m \u001b[43m        \u001b[49m\u001b[43mX\u001b[49m\u001b[43m,\u001b[49m\n\u001b[0;32m   1344\u001b[0m \u001b[43m        \u001b[49m\u001b[43my\u001b[49m\u001b[43m,\u001b[49m\n\u001b[0;32m   1345\u001b[0m \u001b[43m        \u001b[49m\u001b[43msample_weight\u001b[49m\u001b[38;5;241;43m=\u001b[39;49m\u001b[43msample_weight\u001b[49m\u001b[43m,\u001b[49m\n\u001b[0;32m   1346\u001b[0m \u001b[43m        \u001b[49m\u001b[43mcheck_input\u001b[49m\u001b[38;5;241;43m=\u001b[39;49m\u001b[43mcheck_input\u001b[49m\u001b[43m,\u001b[49m\n\u001b[0;32m   1347\u001b[0m \u001b[43m    \u001b[49m\u001b[43m)\u001b[49m\n\u001b[0;32m   1348\u001b[0m     \u001b[38;5;28;01mreturn\u001b[39;00m \u001b[38;5;28mself\u001b[39m\n",
      "File \u001b[1;32m~\\.conda\\envs\\car\\lib\\site-packages\\sklearn\\tree\\_classes.py:458\u001b[0m, in \u001b[0;36mBaseDecisionTree.fit\u001b[1;34m(self, X, y, sample_weight, check_input)\u001b[0m\n\u001b[0;32m    447\u001b[0m \u001b[38;5;28;01melse\u001b[39;00m:\n\u001b[0;32m    448\u001b[0m     builder \u001b[38;5;241m=\u001b[39m BestFirstTreeBuilder(\n\u001b[0;32m    449\u001b[0m         splitter,\n\u001b[0;32m    450\u001b[0m         min_samples_split,\n\u001b[1;32m   (...)\u001b[0m\n\u001b[0;32m    455\u001b[0m         \u001b[38;5;28mself\u001b[39m\u001b[38;5;241m.\u001b[39mmin_impurity_decrease,\n\u001b[0;32m    456\u001b[0m     )\n\u001b[1;32m--> 458\u001b[0m \u001b[43mbuilder\u001b[49m\u001b[38;5;241;43m.\u001b[39;49m\u001b[43mbuild\u001b[49m\u001b[43m(\u001b[49m\u001b[38;5;28;43mself\u001b[39;49m\u001b[38;5;241;43m.\u001b[39;49m\u001b[43mtree_\u001b[49m\u001b[43m,\u001b[49m\u001b[43m \u001b[49m\u001b[43mX\u001b[49m\u001b[43m,\u001b[49m\u001b[43m \u001b[49m\u001b[43my\u001b[49m\u001b[43m,\u001b[49m\u001b[43m \u001b[49m\u001b[43msample_weight\u001b[49m\u001b[43m)\u001b[49m\n\u001b[0;32m    460\u001b[0m \u001b[38;5;28;01mif\u001b[39;00m \u001b[38;5;28mself\u001b[39m\u001b[38;5;241m.\u001b[39mn_outputs_ \u001b[38;5;241m==\u001b[39m \u001b[38;5;241m1\u001b[39m \u001b[38;5;129;01mand\u001b[39;00m is_classifier(\u001b[38;5;28mself\u001b[39m):\n\u001b[0;32m    461\u001b[0m     \u001b[38;5;28mself\u001b[39m\u001b[38;5;241m.\u001b[39mn_classes_ \u001b[38;5;241m=\u001b[39m \u001b[38;5;28mself\u001b[39m\u001b[38;5;241m.\u001b[39mn_classes_[\u001b[38;5;241m0\u001b[39m]\n",
      "\u001b[1;31mKeyboardInterrupt\u001b[0m: "
     ]
    }
   ],
   "source": [
    "### Hyper \n",
    "\n",
    "rm_hyp_model = RandomForestRegressor(random_state=5)\n",
    "\n",
    "hyp= {\n",
    "    'n_estimators': np.arange(100,500,50),\n",
    "    'criterion':['squared_error','absolute_error'],\n",
    "    'max_depth':np.arange(5,8),\n",
    "    'min_samples_split':np.arange(5,10),\n",
    "    'min_samples_leaf':np.arange(2,5),\n",
    "    'bootstrap':[True,False], \n",
    "    'max_features':['sqrt','log2']\n",
    "    \n",
    "}\n",
    "from sklearn.model_selection import RandomizedSearchCV\n",
    "rscv = RandomizedSearchCV(rm_hyp_model,hyp, cv= 5)\n",
    "rscv.fit(x_train,y_train)\n"
   ]
  },
  {
   "cell_type": "code",
   "execution_count": null,
   "id": "dbde00e0",
   "metadata": {},
   "outputs": [],
   "source": [
    "                     Test  Train  Time \n",
    "Linear Regression >>  69    73  \n",
    "Desion Tree       >>  77    99\n",
    "hyp_Decision_tree >>  78    85\n",
    "Random Forest     >>  82    97\n",
    "Hyp_rm            >>  ??    ??\n",
    "adaboost          >>  ??    ?? \n",
    "KNN               >>  ??    ??\n",
    "\n",
    "Concolusion >> hyp_Decision_tree"
   ]
  },
  {
   "cell_type": "code",
   "execution_count": null,
   "id": "995a2762",
   "metadata": {},
   "outputs": [],
   "source": []
  },
  {
   "cell_type": "code",
   "execution_count": null,
   "id": "9ebf4a36",
   "metadata": {},
   "outputs": [],
   "source": []
  },
  {
   "cell_type": "markdown",
   "id": "81a41741",
   "metadata": {},
   "source": [
    "### USER TEST FUNCTION "
   ]
  },
  {
   "cell_type": "code",
   "execution_count": 119,
   "id": "9a45e474",
   "metadata": {},
   "outputs": [
    {
     "data": {
      "text/plain": [
       "array([134500.])"
      ]
     },
     "execution_count": 119,
     "metadata": {},
     "output_type": "execute_result"
    }
   ],
   "source": [
    "user_input = x.head(1)\n",
    "pred = dt_hyp_model.predict(user_input)\n",
    "pred"
   ]
  },
  {
   "cell_type": "code",
   "execution_count": 120,
   "id": "4c8aedb3",
   "metadata": {},
   "outputs": [
    {
     "data": {
      "text/plain": [
       "0    120000\n",
       "Name: price, dtype: int64"
      ]
     },
     "execution_count": 120,
     "metadata": {},
     "output_type": "execute_result"
    }
   ],
   "source": [
    "y.head(1)"
   ]
  },
  {
   "cell_type": "code",
   "execution_count": 121,
   "id": "8e831fb3",
   "metadata": {},
   "outputs": [
    {
     "data": {
      "text/plain": [
       "14500"
      ]
     },
     "execution_count": 121,
     "metadata": {},
     "output_type": "execute_result"
    }
   ],
   "source": [
    "134500- 120000"
   ]
  },
  {
   "cell_type": "code",
   "execution_count": 123,
   "id": "90b4dcf2",
   "metadata": {},
   "outputs": [
    {
     "data": {
      "text/html": [
       "<div>\n",
       "<style scoped>\n",
       "    .dataframe tbody tr th:only-of-type {\n",
       "        vertical-align: middle;\n",
       "    }\n",
       "\n",
       "    .dataframe tbody tr th {\n",
       "        vertical-align: top;\n",
       "    }\n",
       "\n",
       "    .dataframe thead th {\n",
       "        text-align: right;\n",
       "    }\n",
       "</style>\n",
       "<table border=\"1\" class=\"dataframe\">\n",
       "  <thead>\n",
       "    <tr style=\"text-align: right;\">\n",
       "      <th></th>\n",
       "      <th>0</th>\n",
       "    </tr>\n",
       "  </thead>\n",
       "  <tbody>\n",
       "    <tr>\n",
       "      <th>km_driven</th>\n",
       "      <td>120000.0</td>\n",
       "    </tr>\n",
       "    <tr>\n",
       "      <th>mileage</th>\n",
       "      <td>19.7</td>\n",
       "    </tr>\n",
       "    <tr>\n",
       "      <th>engine</th>\n",
       "      <td>796.0</td>\n",
       "    </tr>\n",
       "    <tr>\n",
       "      <th>max_power</th>\n",
       "      <td>46.3</td>\n",
       "    </tr>\n",
       "    <tr>\n",
       "      <th>seats</th>\n",
       "      <td>5.0</td>\n",
       "    </tr>\n",
       "    <tr>\n",
       "      <th>brand_name_Ambassador</th>\n",
       "      <td>0.0</td>\n",
       "    </tr>\n",
       "    <tr>\n",
       "      <th>brand_name_Audi</th>\n",
       "      <td>0.0</td>\n",
       "    </tr>\n",
       "    <tr>\n",
       "      <th>brand_name_BMW</th>\n",
       "      <td>0.0</td>\n",
       "    </tr>\n",
       "    <tr>\n",
       "      <th>brand_name_Bentley</th>\n",
       "      <td>0.0</td>\n",
       "    </tr>\n",
       "    <tr>\n",
       "      <th>brand_name_Chevrolet</th>\n",
       "      <td>0.0</td>\n",
       "    </tr>\n",
       "    <tr>\n",
       "      <th>brand_name_DC</th>\n",
       "      <td>0.0</td>\n",
       "    </tr>\n",
       "    <tr>\n",
       "      <th>brand_name_Daewoo</th>\n",
       "      <td>0.0</td>\n",
       "    </tr>\n",
       "    <tr>\n",
       "      <th>brand_name_Datsun</th>\n",
       "      <td>0.0</td>\n",
       "    </tr>\n",
       "    <tr>\n",
       "      <th>brand_name_Ferrari</th>\n",
       "      <td>0.0</td>\n",
       "    </tr>\n",
       "    <tr>\n",
       "      <th>brand_name_Fiat</th>\n",
       "      <td>0.0</td>\n",
       "    </tr>\n",
       "    <tr>\n",
       "      <th>brand_name_Force</th>\n",
       "      <td>0.0</td>\n",
       "    </tr>\n",
       "    <tr>\n",
       "      <th>brand_name_Ford</th>\n",
       "      <td>0.0</td>\n",
       "    </tr>\n",
       "    <tr>\n",
       "      <th>brand_name_Honda</th>\n",
       "      <td>0.0</td>\n",
       "    </tr>\n",
       "    <tr>\n",
       "      <th>brand_name_Hyundai</th>\n",
       "      <td>0.0</td>\n",
       "    </tr>\n",
       "    <tr>\n",
       "      <th>brand_name_ISUZU</th>\n",
       "      <td>0.0</td>\n",
       "    </tr>\n",
       "    <tr>\n",
       "      <th>brand_name_Isuzu</th>\n",
       "      <td>0.0</td>\n",
       "    </tr>\n",
       "    <tr>\n",
       "      <th>brand_name_Jaguar</th>\n",
       "      <td>0.0</td>\n",
       "    </tr>\n",
       "    <tr>\n",
       "      <th>brand_name_Jeep</th>\n",
       "      <td>0.0</td>\n",
       "    </tr>\n",
       "    <tr>\n",
       "      <th>brand_name_Kia</th>\n",
       "      <td>0.0</td>\n",
       "    </tr>\n",
       "    <tr>\n",
       "      <th>brand_name_Lamborghini</th>\n",
       "      <td>0.0</td>\n",
       "    </tr>\n",
       "    <tr>\n",
       "      <th>brand_name_Land</th>\n",
       "      <td>0.0</td>\n",
       "    </tr>\n",
       "    <tr>\n",
       "      <th>brand_name_Lexus</th>\n",
       "      <td>0.0</td>\n",
       "    </tr>\n",
       "    <tr>\n",
       "      <th>brand_name_MG</th>\n",
       "      <td>0.0</td>\n",
       "    </tr>\n",
       "    <tr>\n",
       "      <th>brand_name_Mahindra</th>\n",
       "      <td>0.0</td>\n",
       "    </tr>\n",
       "    <tr>\n",
       "      <th>brand_name_Maruti</th>\n",
       "      <td>1.0</td>\n",
       "    </tr>\n",
       "    <tr>\n",
       "      <th>brand_name_Maserati</th>\n",
       "      <td>0.0</td>\n",
       "    </tr>\n",
       "    <tr>\n",
       "      <th>brand_name_Mercedes-AMG</th>\n",
       "      <td>0.0</td>\n",
       "    </tr>\n",
       "    <tr>\n",
       "      <th>brand_name_Mercedes-Benz</th>\n",
       "      <td>0.0</td>\n",
       "    </tr>\n",
       "    <tr>\n",
       "      <th>brand_name_Mini</th>\n",
       "      <td>0.0</td>\n",
       "    </tr>\n",
       "    <tr>\n",
       "      <th>brand_name_Mitsubishi</th>\n",
       "      <td>0.0</td>\n",
       "    </tr>\n",
       "    <tr>\n",
       "      <th>brand_name_Nissan</th>\n",
       "      <td>0.0</td>\n",
       "    </tr>\n",
       "    <tr>\n",
       "      <th>brand_name_Opel</th>\n",
       "      <td>0.0</td>\n",
       "    </tr>\n",
       "    <tr>\n",
       "      <th>brand_name_OpelCorsa</th>\n",
       "      <td>0.0</td>\n",
       "    </tr>\n",
       "    <tr>\n",
       "      <th>brand_name_Porsche</th>\n",
       "      <td>0.0</td>\n",
       "    </tr>\n",
       "    <tr>\n",
       "      <th>brand_name_Premier</th>\n",
       "      <td>0.0</td>\n",
       "    </tr>\n",
       "    <tr>\n",
       "      <th>brand_name_Renault</th>\n",
       "      <td>0.0</td>\n",
       "    </tr>\n",
       "    <tr>\n",
       "      <th>brand_name_Rolls-Royce</th>\n",
       "      <td>0.0</td>\n",
       "    </tr>\n",
       "    <tr>\n",
       "      <th>brand_name_Skoda</th>\n",
       "      <td>0.0</td>\n",
       "    </tr>\n",
       "    <tr>\n",
       "      <th>brand_name_Tata</th>\n",
       "      <td>0.0</td>\n",
       "    </tr>\n",
       "    <tr>\n",
       "      <th>brand_name_Toyota</th>\n",
       "      <td>0.0</td>\n",
       "    </tr>\n",
       "    <tr>\n",
       "      <th>brand_name_Volkswagen</th>\n",
       "      <td>0.0</td>\n",
       "    </tr>\n",
       "    <tr>\n",
       "      <th>brand_name_Volvo</th>\n",
       "      <td>0.0</td>\n",
       "    </tr>\n",
       "    <tr>\n",
       "      <th>seller_type_Dealer</th>\n",
       "      <td>0.0</td>\n",
       "    </tr>\n",
       "    <tr>\n",
       "      <th>seller_type_Individual</th>\n",
       "      <td>1.0</td>\n",
       "    </tr>\n",
       "    <tr>\n",
       "      <th>seller_type_Trustmark Dealer</th>\n",
       "      <td>0.0</td>\n",
       "    </tr>\n",
       "    <tr>\n",
       "      <th>fuel_type_CNG</th>\n",
       "      <td>0.0</td>\n",
       "    </tr>\n",
       "    <tr>\n",
       "      <th>fuel_type_Diesel</th>\n",
       "      <td>0.0</td>\n",
       "    </tr>\n",
       "    <tr>\n",
       "      <th>fuel_type_Electric</th>\n",
       "      <td>0.0</td>\n",
       "    </tr>\n",
       "    <tr>\n",
       "      <th>fuel_type_LPG</th>\n",
       "      <td>0.0</td>\n",
       "    </tr>\n",
       "    <tr>\n",
       "      <th>fuel_type_Petrol</th>\n",
       "      <td>1.0</td>\n",
       "    </tr>\n",
       "    <tr>\n",
       "      <th>transmission_type_Automatic</th>\n",
       "      <td>0.0</td>\n",
       "    </tr>\n",
       "    <tr>\n",
       "      <th>transmission_type_Manual</th>\n",
       "      <td>1.0</td>\n",
       "    </tr>\n",
       "  </tbody>\n",
       "</table>\n",
       "</div>"
      ],
      "text/plain": [
       "                                     0\n",
       "km_driven                     120000.0\n",
       "mileage                           19.7\n",
       "engine                           796.0\n",
       "max_power                         46.3\n",
       "seats                              5.0\n",
       "brand_name_Ambassador              0.0\n",
       "brand_name_Audi                    0.0\n",
       "brand_name_BMW                     0.0\n",
       "brand_name_Bentley                 0.0\n",
       "brand_name_Chevrolet               0.0\n",
       "brand_name_DC                      0.0\n",
       "brand_name_Daewoo                  0.0\n",
       "brand_name_Datsun                  0.0\n",
       "brand_name_Ferrari                 0.0\n",
       "brand_name_Fiat                    0.0\n",
       "brand_name_Force                   0.0\n",
       "brand_name_Ford                    0.0\n",
       "brand_name_Honda                   0.0\n",
       "brand_name_Hyundai                 0.0\n",
       "brand_name_ISUZU                   0.0\n",
       "brand_name_Isuzu                   0.0\n",
       "brand_name_Jaguar                  0.0\n",
       "brand_name_Jeep                    0.0\n",
       "brand_name_Kia                     0.0\n",
       "brand_name_Lamborghini             0.0\n",
       "brand_name_Land                    0.0\n",
       "brand_name_Lexus                   0.0\n",
       "brand_name_MG                      0.0\n",
       "brand_name_Mahindra                0.0\n",
       "brand_name_Maruti                  1.0\n",
       "brand_name_Maserati                0.0\n",
       "brand_name_Mercedes-AMG            0.0\n",
       "brand_name_Mercedes-Benz           0.0\n",
       "brand_name_Mini                    0.0\n",
       "brand_name_Mitsubishi              0.0\n",
       "brand_name_Nissan                  0.0\n",
       "brand_name_Opel                    0.0\n",
       "brand_name_OpelCorsa               0.0\n",
       "brand_name_Porsche                 0.0\n",
       "brand_name_Premier                 0.0\n",
       "brand_name_Renault                 0.0\n",
       "brand_name_Rolls-Royce             0.0\n",
       "brand_name_Skoda                   0.0\n",
       "brand_name_Tata                    0.0\n",
       "brand_name_Toyota                  0.0\n",
       "brand_name_Volkswagen              0.0\n",
       "brand_name_Volvo                   0.0\n",
       "seller_type_Dealer                 0.0\n",
       "seller_type_Individual             1.0\n",
       "seller_type_Trustmark Dealer       0.0\n",
       "fuel_type_CNG                      0.0\n",
       "fuel_type_Diesel                   0.0\n",
       "fuel_type_Electric                 0.0\n",
       "fuel_type_LPG                      0.0\n",
       "fuel_type_Petrol                   1.0\n",
       "transmission_type_Automatic        0.0\n",
       "transmission_type_Manual           1.0"
      ]
     },
     "execution_count": 123,
     "metadata": {},
     "output_type": "execute_result"
    }
   ],
   "source": [
    "x.head(1).T"
   ]
  },
  {
   "cell_type": "raw",
   "id": "91e69566",
   "metadata": {},
   "source": [
    "km_driven = 120000.0\n",
    "mileage = 19.7\n",
    "engine = 796.0\n",
    "max_power =46.3\n",
    "seats = 5.0\n",
    "brand_name = 'Maruti'\n",
    "model = 'Alto'\n",
    "seller = 'Dealer'\n",
    "fuel = 'Petrol'\n",
    "transmission = 'Manual' \n",
    "year= 2015\n",
    "\n",
    "predicted_selling_price = ???"
   ]
  },
  {
   "cell_type": "code",
   "execution_count": 154,
   "id": "dfa95c5a",
   "metadata": {},
   "outputs": [
    {
     "name": "stderr",
     "output_type": "stream",
     "text": [
      "C:\\Users\\Shridhar\\.conda\\envs\\car\\lib\\site-packages\\sklearn\\base.py:450: UserWarning: X does not have valid feature names, but DecisionTreeRegressor was fitted with feature names\n",
      "  warnings.warn(\n"
     ]
    },
    {
     "data": {
      "text/plain": [
       "array([134500.])"
      ]
     },
     "execution_count": 154,
     "metadata": {},
     "output_type": "execute_result"
    }
   ],
   "source": [
    "# u_input = {\n",
    "# 'km_driven' : 120000.0,\n",
    "# 'mileage' : 19.7,\n",
    "# 'engine' : 796.0,\n",
    "# 'max_power' :46.3,\n",
    "# 'seats' : 5.0,\n",
    "# 'brand_name' : 'Maruti',\n",
    "# 'model' : 'Alto',\n",
    "# 'seller' : 'Dealer',\n",
    "# 'fuel' : 'Petrol',\n",
    "# 'transmission' : 'Manual', \n",
    "# 'year': 2015\n",
    "# }\n",
    "\n",
    "\n",
    "km_driven = 120000.0\n",
    "mileage = 19.7\n",
    "engine = 796.0\n",
    "max_power =46.3\n",
    "seats = 5.0\n",
    "brand_name = 'Maruti'\n",
    "model = 'Alto'\n",
    "seller = 'Dealer'\n",
    "fuel = 'Petrol'\n",
    "transmission = 'Manual' \n",
    "year= 2015\n",
    "\n",
    "array = np.zeros(x.shape[1])\n",
    "array.shape\n",
    "array\n",
    "\n",
    "array[0] = km_driven\n",
    "array[1] = mileage\n",
    "array[2] = engine\n",
    "array[3] = max_power\n",
    "array[4] = seats\n",
    "\n",
    "columns_list = x.columns\n",
    "brand_value = 'brand_name_' + brand_name\n",
    "brand_index = np.where(columns_list==brand_value)[0][0]\n",
    "array[brand_index] = 1\n",
    "\n",
    "seller_value = 'seller_type_' + seller\n",
    "seller_type_index = np.where(columns_list==seller_value)[0][0]\n",
    "array[seller_type_index]=1\n",
    "\n",
    "fuel_value = 'fuel_type_' + fuel \n",
    "fuel_type_index = np.where(columns_list==fuel_value)[0][0]\n",
    "array[fuel_type_index] = 1\n",
    "\n",
    "transmission_value = 'transmission_type_' + transmission \n",
    "transmission_index = np.where(columns_list==transmission_value)[0][0]\n",
    "array[transmission_index] = 1\n",
    "\n",
    "array\n",
    "\n",
    "\n",
    "pred = dt_hyp_model.predict([array])\n",
    "pred"
   ]
  },
  {
   "cell_type": "code",
   "execution_count": 152,
   "id": "91bfab28",
   "metadata": {},
   "outputs": [
    {
     "data": {
      "text/plain": [
       "56"
      ]
     },
     "execution_count": 152,
     "metadata": {},
     "output_type": "execute_result"
    }
   ],
   "source": [
    "columns_list = x.columns\n",
    "columns_list\n",
    "\n",
    "var = 'Manual'\n",
    "value = 'transmission_type_' + var\n",
    "value\n",
    "# seller_type_Dealer\n",
    "transmission_index = np.where(columns_list==value)[0][0]\n",
    "transmission_index"
   ]
  },
  {
   "cell_type": "code",
   "execution_count": 158,
   "id": "9abebe84",
   "metadata": {},
   "outputs": [
    {
     "data": {
      "text/plain": [
       "{'columns': ['km_driven',\n",
       "  'mileage',\n",
       "  'engine',\n",
       "  'max_power',\n",
       "  'seats',\n",
       "  'brand_name_Ambassador',\n",
       "  'brand_name_Audi',\n",
       "  'brand_name_BMW',\n",
       "  'brand_name_Bentley',\n",
       "  'brand_name_Chevrolet',\n",
       "  'brand_name_DC',\n",
       "  'brand_name_Daewoo',\n",
       "  'brand_name_Datsun',\n",
       "  'brand_name_Ferrari',\n",
       "  'brand_name_Fiat',\n",
       "  'brand_name_Force',\n",
       "  'brand_name_Ford',\n",
       "  'brand_name_Honda',\n",
       "  'brand_name_Hyundai',\n",
       "  'brand_name_ISUZU',\n",
       "  'brand_name_Isuzu',\n",
       "  'brand_name_Jaguar',\n",
       "  'brand_name_Jeep',\n",
       "  'brand_name_Kia',\n",
       "  'brand_name_Lamborghini',\n",
       "  'brand_name_Land',\n",
       "  'brand_name_Lexus',\n",
       "  'brand_name_MG',\n",
       "  'brand_name_Mahindra',\n",
       "  'brand_name_Maruti',\n",
       "  'brand_name_Maserati',\n",
       "  'brand_name_Mercedes-AMG',\n",
       "  'brand_name_Mercedes-Benz',\n",
       "  'brand_name_Mini',\n",
       "  'brand_name_Mitsubishi',\n",
       "  'brand_name_Nissan',\n",
       "  'brand_name_Opel',\n",
       "  'brand_name_OpelCorsa',\n",
       "  'brand_name_Porsche',\n",
       "  'brand_name_Premier',\n",
       "  'brand_name_Renault',\n",
       "  'brand_name_Rolls-Royce',\n",
       "  'brand_name_Skoda',\n",
       "  'brand_name_Tata',\n",
       "  'brand_name_Toyota',\n",
       "  'brand_name_Volkswagen',\n",
       "  'brand_name_Volvo',\n",
       "  'seller_type_Dealer',\n",
       "  'seller_type_Individual',\n",
       "  'seller_type_Trustmark Dealer',\n",
       "  'fuel_type_CNG',\n",
       "  'fuel_type_Diesel',\n",
       "  'fuel_type_Electric',\n",
       "  'fuel_type_LPG',\n",
       "  'fuel_type_Petrol',\n",
       "  'transmission_type_Automatic',\n",
       "  'transmission_type_Manual']}"
      ]
     },
     "execution_count": 158,
     "metadata": {},
     "output_type": "execute_result"
    }
   ],
   "source": [
    "columns_list = x.columns\n",
    "columns_list = list(columns_list)\n",
    "columns_list\n",
    "col = {'columns':columns_list}\n",
    "col"
   ]
  },
  {
   "cell_type": "code",
   "execution_count": 132,
   "id": "469e082c",
   "metadata": {},
   "outputs": [
    {
     "data": {
      "text/plain": [
       "(19974, 57)"
      ]
     },
     "execution_count": 132,
     "metadata": {},
     "output_type": "execute_result"
    }
   ],
   "source": [
    "x.shape()"
   ]
  },
  {
   "cell_type": "code",
   "execution_count": 159,
   "id": "ec8eba6b",
   "metadata": {},
   "outputs": [],
   "source": [
    "import json \n",
    "with open('columns_list.json','w') as file:\n",
    "    json.dump(col,file)"
   ]
  },
  {
   "cell_type": "code",
   "execution_count": 160,
   "id": "5a8fef65",
   "metadata": {},
   "outputs": [],
   "source": [
    "import pickle \n",
    "with open('model.pkl','wb') as file:\n",
    "    pickle.dump(dt_hyp_model,file)"
   ]
  },
  {
   "cell_type": "code",
   "execution_count": null,
   "id": "3a025152",
   "metadata": {},
   "outputs": [],
   "source": []
  }
 ],
 "metadata": {
  "kernelspec": {
   "display_name": "car",
   "language": "python",
   "name": "car"
  },
  "language_info": {
   "codemirror_mode": {
    "name": "ipython",
    "version": 3
   },
   "file_extension": ".py",
   "mimetype": "text/x-python",
   "name": "python",
   "nbconvert_exporter": "python",
   "pygments_lexer": "ipython3",
   "version": "3.8.10"
  }
 },
 "nbformat": 4,
 "nbformat_minor": 5
}
